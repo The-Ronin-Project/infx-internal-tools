{
 "cells": [
  {
   "cell_type": "code",
   "execution_count": 283,
   "metadata": {
    "collapsed": true
   },
   "outputs": [],
   "source": [
    "from app.database import get_db, get_opensearch\n",
    "from sqlalchemy import text, Table, Column, MetaData, Text, bindparam\n",
    "from sqlalchemy.dialects.postgresql import UUID as UUID_column_type\n",
    "import json\n",
    "import pandas as pd\n"
   ]
  },
  {
   "cell_type": "code",
   "execution_count": 306,
   "outputs": [],
   "source": [],
   "metadata": {
    "collapsed": false
   }
  },
  {
   "cell_type": "code",
   "execution_count": 326,
   "outputs": [],
   "source": [
    "             #                   \"\"\"\n",
    "             # SELECT *\n",
    "             #    FROM custom_terminologies.code\n",
    "             #    WHERE terminology_version_uuid = '50ed5f2c-7c4c-4586-a7d8-f3665d6380c0'\n",
    "             #    ORDER BY display DESC;\n",
    "             #    \"\"\"\n",
    "\n",
    "conn = get_db()"
   ],
   "metadata": {
    "collapsed": false
   }
  },
  {
   "cell_type": "code",
   "execution_count": 327,
   "outputs": [],
   "source": [
    "data = conn.execute(\n",
    "            text(\n",
    "                \"\"\"\n",
    "                WITH DuplicateDisplays AS (\n",
    "                    SELECT display\n",
    "                    FROM custom_terminologies.code\n",
    "                    WHERE terminology_version_uuid = '50ed5f2c-7c4c-4586-a7d8-f3665d6380c0'\n",
    "                    GROUP BY display\n",
    "                    HAVING COUNT(*) > 1\n",
    "                ), RelevantDisplays AS (\n",
    "                    SELECT DISTINCT display\n",
    "                    FROM custom_terminologies.code\n",
    "                    WHERE terminology_version_uuid = '50ed5f2c-7c4c-4586-a7d8-f3665d6380c0'\n",
    "                      AND code LIKE '%code%'\n",
    "                      AND display IN (SELECT display FROM DuplicateDisplays)\n",
    "                )\n",
    "                SELECT c.*\n",
    "                FROM custom_terminologies.code c\n",
    "                INNER JOIN RelevantDisplays rd ON c.display = rd.display\n",
    "                WHERE c.terminology_version_uuid = '50ed5f2c-7c4c-4586-a7d8-f3665d6380c0'\n",
    "                ORDER BY c.display DESC;\n",
    "                \"\"\"\n",
    "            ),\n",
    "            {\"concept_map_version_uuid\": '50ed5f2c-7c4c-4586-a7d8-f3665d6380c0'},\n",
    "        )"
   ],
   "metadata": {
    "collapsed": false
   }
  },
  {
   "cell_type": "code",
   "execution_count": 328,
   "outputs": [],
   "source": [
    "conn.close()"
   ],
   "metadata": {
    "collapsed": false
   }
  },
  {
   "cell_type": "code",
   "execution_count": 329,
   "outputs": [
    {
     "data": {
      "text/plain": "sqlalchemy.engine.cursor.CursorResult"
     },
     "execution_count": 329,
     "metadata": {},
     "output_type": "execute_result"
    }
   ],
   "source": [
    "type(data)"
   ],
   "metadata": {
    "collapsed": false
   }
  },
  {
   "cell_type": "code",
   "execution_count": 330,
   "outputs": [],
   "source": [
    "df = pd.DataFrame(data.fetchall(), columns=data.keys())"
   ],
   "metadata": {
    "collapsed": false
   }
  },
  {
   "cell_type": "code",
   "execution_count": 331,
   "outputs": [
    {
     "data": {
      "text/plain": "                                     uuid  \\\n0    fb1105a7-c8b9-4461-89cd-5bc9f60d8364   \n1    b4646298-292f-4d21-8bd8-f9c0166c1fd8   \n2    cd970f63-99bb-47f8-a298-72025f6ede90   \n3    25e0a8d9-e93e-43fc-897c-be05578bdf1e   \n4    9ff86800-6c49-4f03-98ea-c648df4c55b0   \n..                                    ...   \n420  212038a2-f811-423c-9d53-24f2a56b35e4   \n421  ea8b4079-119d-4254-926a-8b55f5778076   \n422  3a9c520e-4e4f-4b1e-9af3-f7f9c90ab1ce   \n423  f1065ca0-b060-4126-b670-15edbc6dae8b   \n424  df8eb04b-01a1-44a4-a037-cf07978d5d21   \n\n                                                                                                                                                                                                                                                                                                                                                                                                                                                                                     code  \\\n0                                                                                                                                                                                                                                                                                                                               {[{14040001000004109, Uncontrolled pain (finding), http://snomed.info/sct}, {R52, Uncontrolled pain, urn:oid:2.16.840.1.113883.6.90}], Uncontrolled pain}   \n1                                                                                                                                                                                                                                                                                                            {\"coding\": [{\"system\": \"http://hl7.org/fhir/sid/icd-10-cm\", \"code\": \"R52\"}, {\"system\": \"http://snomed.info/sct\", \"code\": \"14040001000004109\"}], \"text\": \"Uncontrolled pain\"}   \n2                                                                                           {[{1089991000119109, Oral ulcerative mucositis due to antineoplastic therapy (disorder), http://snomed.info/sct}, {528.01, Ulcerative oral mucositis due to antineoplastic therapy, http://hl7.org/fhir/sid/icd-9-cm/diagnosis}, {K12.31, Ulcerative oral mucositis due to antineoplastic therapy, urn:oid:2.16.840.1.113883.6.90}], Ulcerative oral mucositis due to antineoplastic therapy}   \n3                                                                                                                                                                                                                                                                                                                   {[{K12.31, null, urn:oid:2.16.840.1.113883.6.90}, {1089991000119109, null, urn:oid:2.16.840.1.113883.6.96}], Ulcerative oral mucositis due to antineoplastic therapy}   \n4                                                                                                              {\"coding\": [{\"system\": \"http://hl7.org/fhir/sid/icd-9-cm/diagnosis\", \"code\": \"528.01\", \"display\": \"Ulcerative oral mucositis due to antineoplastic therapy\"}, {\"system\": \"http://hl7.org/fhir/sid/icd-10-cm\", \"code\": \"K12.31\", \"display\": \"Ulcerative oral mucositis due to antineoplastic therapy\"}], \"text\": \"Ulcerative oral mucositis due to antineoplastic therapy\"}   \n..                                                                                                                                                                                                                                                                                                                                                                                                                                                                                    ...   \n420                                                                                                                                                                                                                                    {[{11381005, Acne (disorder), http://snomed.info/sct}, {706.1, Acne, not otherwise specified, http://hl7.org/fhir/sid/icd-9-cm/diagnosis}, {L70.9, Acne, not otherwise specified, urn:oid:2.16.840.1.113883.6.90}], Acne, not otherwise specified}   \n421                                                                                                    {\"coding\": [{\"system\": \"http://snomed.info/sct\", \"code\": \"11381005\", \"display\": \"Acne (disorder)\"}, {\"system\": \"http://hl7.org/fhir/sid/icd-9-cm/diagnosis\", \"code\": \"706.1\", \"display\": \"Acne, not otherwise specified\"}, {\"system\": \"http://hl7.org/fhir/sid/icd-10-cm\", \"code\": \"L70.9\", \"display\": \"Acne, not otherwise specified\"}], \"text\": \"Acne, not otherwise specified\"}   \n422                                                                                                                                  {[{274533004, Abnormal findings on diagnostic imaging of lung (finding), http://snomed.info/sct}, {793.19, Abnormal findings on diagnostic imaging of lung, http://hl7.org/fhir/sid/icd-9-cm/diagnosis}, {R91.8, Abnormal findings on diagnostic imaging of lung, urn:oid:2.16.840.1.113883.6.90}], Abnormal findings on diagnostic imaging of lung}   \n423                                                                                                                                                                                                                                                                                                                                 {[{R91.8, null, urn:oid:2.16.840.1.113883.6.90}, {274533004, null, urn:oid:2.16.840.1.113883.6.96}], Abnormal findings on diagnostic imaging of lung}   \n424  {\"coding\": [{\"system\": \"http://snomed.info/sct\", \"code\": \"274533004\", \"display\": \"Abnormal findings on diagnostic imaging of lung (finding)\"}, {\"system\": \"http://hl7.org/fhir/sid/icd-9-cm/diagnosis\", \"code\": \"793.19\", \"display\": \"Abnormal findings on diagnostic imaging of lung\"}, {\"system\": \"http://hl7.org/fhir/sid/icd-10-cm\", \"code\": \"R91.8\", \"display\": \"Abnormal findings on diagnostic imaging of lung\"}], \"text\": \"Abnormal findings on diagnostic imaging of lung\"}   \n\n                                                     display  \\\n0                                          Uncontrolled pain   \n1                                          Uncontrolled pain   \n2    Ulcerative oral mucositis due to antineoplastic therapy   \n3    Ulcerative oral mucositis due to antineoplastic therapy   \n4    Ulcerative oral mucositis due to antineoplastic therapy   \n..                                                       ...   \n420                            Acne, not otherwise specified   \n421                            Acne, not otherwise specified   \n422          Abnormal findings on diagnostic imaging of lung   \n423          Abnormal findings on diagnostic imaging of lung   \n424          Abnormal findings on diagnostic imaging of lung   \n\n                 terminology_version_uuid  \\\n0    50ed5f2c-7c4c-4586-a7d8-f3665d6380c0   \n1    50ed5f2c-7c4c-4586-a7d8-f3665d6380c0   \n2    50ed5f2c-7c4c-4586-a7d8-f3665d6380c0   \n3    50ed5f2c-7c4c-4586-a7d8-f3665d6380c0   \n4    50ed5f2c-7c4c-4586-a7d8-f3665d6380c0   \n..                                    ...   \n420  50ed5f2c-7c4c-4586-a7d8-f3665d6380c0   \n421  50ed5f2c-7c4c-4586-a7d8-f3665d6380c0   \n422  50ed5f2c-7c4c-4586-a7d8-f3665d6380c0   \n423  50ed5f2c-7c4c-4586-a7d8-f3665d6380c0   \n424  50ed5f2c-7c4c-4586-a7d8-f3665d6380c0   \n\n                                                                                                                                                                                                                                                   additional_data  \\\n0                          {'automapping_target': '14040001000004109|Uncontrolled pain (finding)', 'automapping_evidence': 'Condition Code.text is an exact match for SNOMED PT', 'automapping_relationship': 'Equivalent', 'count_of_resources_affected': '1330'}   \n1                                                                                                                                                                                                                                                             None   \n2                                                                                                                              {'automapping_target': None, 'automapping_evidence': None, 'automapping_relationship': None, 'count_of_resources_affected': '3341'}   \n3                                                                                                                               {'automapping_target': None, 'automapping_evidence': None, 'automapping_relationship': None, 'count_of_resources_affected': '306'}   \n4                                                                                                                                                                                                                                                             None   \n..                                                                                                                                                                                                                                                             ...   \n420                                                                                                                             {'automapping_target': None, 'automapping_evidence': None, 'automapping_relationship': None, 'count_of_resources_affected': '133'}   \n421                                                                                                                                                                                                                                                           None   \n422    {'automapping_target': '274533004|Abnormal findings on diagnostic imaging of lung (finding)', 'automapping_evidence': 'Condition Code.text is an exact match for SNOMED PT', 'automapping_relationship': 'Equivalent', 'count_of_resources_affected': 9047}   \n423  {'automapping_target': '274533004|Abnormal findings on diagnostic imaging of lung (finding)', 'automapping_evidence': 'Condition Code.text is an exact match for SNOMED PT', 'automapping_relationship': 'Equivalent', 'count_of_resources_affected': '1157'}   \n424                                                                                                                                                                                                                                                           None   \n\n    depends_on_property depends_on_system depends_on_value depends_on_display  \\\n0                                                                               \n1                                                                               \n2                                                                               \n3                                                                               \n4                                                                               \n..                  ...               ...              ...                ...   \n420                                                                             \n421                                                                             \n422                                                                             \n423                                                                             \n424                                                                             \n\n                        created_date  \n0          2023-03-01 00:00:00+00:00  \n1   2023-12-07 15:10:13.719826+00:00  \n2          2023-03-01 00:00:00+00:00  \n3          2023-03-01 00:00:00+00:00  \n4   2023-12-07 15:10:13.719826+00:00  \n..                               ...  \n420        2023-03-01 00:00:00+00:00  \n421 2023-12-07 15:07:57.139917+00:00  \n422        2023-03-01 00:00:00+00:00  \n423        2023-03-01 00:00:00+00:00  \n424 2023-12-07 15:07:57.139917+00:00  \n\n[425 rows x 10 columns]",
      "text/html": "<div>\n<style scoped>\n    .dataframe tbody tr th:only-of-type {\n        vertical-align: middle;\n    }\n\n    .dataframe tbody tr th {\n        vertical-align: top;\n    }\n\n    .dataframe thead th {\n        text-align: right;\n    }\n</style>\n<table border=\"1\" class=\"dataframe\">\n  <thead>\n    <tr style=\"text-align: right;\">\n      <th></th>\n      <th>uuid</th>\n      <th>code</th>\n      <th>display</th>\n      <th>terminology_version_uuid</th>\n      <th>additional_data</th>\n      <th>depends_on_property</th>\n      <th>depends_on_system</th>\n      <th>depends_on_value</th>\n      <th>depends_on_display</th>\n      <th>created_date</th>\n    </tr>\n  </thead>\n  <tbody>\n    <tr>\n      <th>0</th>\n      <td>fb1105a7-c8b9-4461-89cd-5bc9f60d8364</td>\n      <td>{[{14040001000004109, Uncontrolled pain (finding), http://snomed.info/sct}, {R52, Uncontrolled pain, urn:oid:2.16.840.1.113883.6.90}], Uncontrolled pain}</td>\n      <td>Uncontrolled pain</td>\n      <td>50ed5f2c-7c4c-4586-a7d8-f3665d6380c0</td>\n      <td>{'automapping_target': '14040001000004109|Uncontrolled pain (finding)', 'automapping_evidence': 'Condition Code.text is an exact match for SNOMED PT', 'automapping_relationship': 'Equivalent', 'count_of_resources_affected': '1330'}</td>\n      <td></td>\n      <td></td>\n      <td></td>\n      <td></td>\n      <td>2023-03-01 00:00:00+00:00</td>\n    </tr>\n    <tr>\n      <th>1</th>\n      <td>b4646298-292f-4d21-8bd8-f9c0166c1fd8</td>\n      <td>{\"coding\": [{\"system\": \"http://hl7.org/fhir/sid/icd-10-cm\", \"code\": \"R52\"}, {\"system\": \"http://snomed.info/sct\", \"code\": \"14040001000004109\"}], \"text\": \"Uncontrolled pain\"}</td>\n      <td>Uncontrolled pain</td>\n      <td>50ed5f2c-7c4c-4586-a7d8-f3665d6380c0</td>\n      <td>None</td>\n      <td></td>\n      <td></td>\n      <td></td>\n      <td></td>\n      <td>2023-12-07 15:10:13.719826+00:00</td>\n    </tr>\n    <tr>\n      <th>2</th>\n      <td>cd970f63-99bb-47f8-a298-72025f6ede90</td>\n      <td>{[{1089991000119109, Oral ulcerative mucositis due to antineoplastic therapy (disorder), http://snomed.info/sct}, {528.01, Ulcerative oral mucositis due to antineoplastic therapy, http://hl7.org/fhir/sid/icd-9-cm/diagnosis}, {K12.31, Ulcerative oral mucositis due to antineoplastic therapy, urn:oid:2.16.840.1.113883.6.90}], Ulcerative oral mucositis due to antineoplastic therapy}</td>\n      <td>Ulcerative oral mucositis due to antineoplastic therapy</td>\n      <td>50ed5f2c-7c4c-4586-a7d8-f3665d6380c0</td>\n      <td>{'automapping_target': None, 'automapping_evidence': None, 'automapping_relationship': None, 'count_of_resources_affected': '3341'}</td>\n      <td></td>\n      <td></td>\n      <td></td>\n      <td></td>\n      <td>2023-03-01 00:00:00+00:00</td>\n    </tr>\n    <tr>\n      <th>3</th>\n      <td>25e0a8d9-e93e-43fc-897c-be05578bdf1e</td>\n      <td>{[{K12.31, null, urn:oid:2.16.840.1.113883.6.90}, {1089991000119109, null, urn:oid:2.16.840.1.113883.6.96}], Ulcerative oral mucositis due to antineoplastic therapy}</td>\n      <td>Ulcerative oral mucositis due to antineoplastic therapy</td>\n      <td>50ed5f2c-7c4c-4586-a7d8-f3665d6380c0</td>\n      <td>{'automapping_target': None, 'automapping_evidence': None, 'automapping_relationship': None, 'count_of_resources_affected': '306'}</td>\n      <td></td>\n      <td></td>\n      <td></td>\n      <td></td>\n      <td>2023-03-01 00:00:00+00:00</td>\n    </tr>\n    <tr>\n      <th>4</th>\n      <td>9ff86800-6c49-4f03-98ea-c648df4c55b0</td>\n      <td>{\"coding\": [{\"system\": \"http://hl7.org/fhir/sid/icd-9-cm/diagnosis\", \"code\": \"528.01\", \"display\": \"Ulcerative oral mucositis due to antineoplastic therapy\"}, {\"system\": \"http://hl7.org/fhir/sid/icd-10-cm\", \"code\": \"K12.31\", \"display\": \"Ulcerative oral mucositis due to antineoplastic therapy\"}], \"text\": \"Ulcerative oral mucositis due to antineoplastic therapy\"}</td>\n      <td>Ulcerative oral mucositis due to antineoplastic therapy</td>\n      <td>50ed5f2c-7c4c-4586-a7d8-f3665d6380c0</td>\n      <td>None</td>\n      <td></td>\n      <td></td>\n      <td></td>\n      <td></td>\n      <td>2023-12-07 15:10:13.719826+00:00</td>\n    </tr>\n    <tr>\n      <th>...</th>\n      <td>...</td>\n      <td>...</td>\n      <td>...</td>\n      <td>...</td>\n      <td>...</td>\n      <td>...</td>\n      <td>...</td>\n      <td>...</td>\n      <td>...</td>\n      <td>...</td>\n    </tr>\n    <tr>\n      <th>420</th>\n      <td>212038a2-f811-423c-9d53-24f2a56b35e4</td>\n      <td>{[{11381005, Acne (disorder), http://snomed.info/sct}, {706.1, Acne, not otherwise specified, http://hl7.org/fhir/sid/icd-9-cm/diagnosis}, {L70.9, Acne, not otherwise specified, urn:oid:2.16.840.1.113883.6.90}], Acne, not otherwise specified}</td>\n      <td>Acne, not otherwise specified</td>\n      <td>50ed5f2c-7c4c-4586-a7d8-f3665d6380c0</td>\n      <td>{'automapping_target': None, 'automapping_evidence': None, 'automapping_relationship': None, 'count_of_resources_affected': '133'}</td>\n      <td></td>\n      <td></td>\n      <td></td>\n      <td></td>\n      <td>2023-03-01 00:00:00+00:00</td>\n    </tr>\n    <tr>\n      <th>421</th>\n      <td>ea8b4079-119d-4254-926a-8b55f5778076</td>\n      <td>{\"coding\": [{\"system\": \"http://snomed.info/sct\", \"code\": \"11381005\", \"display\": \"Acne (disorder)\"}, {\"system\": \"http://hl7.org/fhir/sid/icd-9-cm/diagnosis\", \"code\": \"706.1\", \"display\": \"Acne, not otherwise specified\"}, {\"system\": \"http://hl7.org/fhir/sid/icd-10-cm\", \"code\": \"L70.9\", \"display\": \"Acne, not otherwise specified\"}], \"text\": \"Acne, not otherwise specified\"}</td>\n      <td>Acne, not otherwise specified</td>\n      <td>50ed5f2c-7c4c-4586-a7d8-f3665d6380c0</td>\n      <td>None</td>\n      <td></td>\n      <td></td>\n      <td></td>\n      <td></td>\n      <td>2023-12-07 15:07:57.139917+00:00</td>\n    </tr>\n    <tr>\n      <th>422</th>\n      <td>3a9c520e-4e4f-4b1e-9af3-f7f9c90ab1ce</td>\n      <td>{[{274533004, Abnormal findings on diagnostic imaging of lung (finding), http://snomed.info/sct}, {793.19, Abnormal findings on diagnostic imaging of lung, http://hl7.org/fhir/sid/icd-9-cm/diagnosis}, {R91.8, Abnormal findings on diagnostic imaging of lung, urn:oid:2.16.840.1.113883.6.90}], Abnormal findings on diagnostic imaging of lung}</td>\n      <td>Abnormal findings on diagnostic imaging of lung</td>\n      <td>50ed5f2c-7c4c-4586-a7d8-f3665d6380c0</td>\n      <td>{'automapping_target': '274533004|Abnormal findings on diagnostic imaging of lung (finding)', 'automapping_evidence': 'Condition Code.text is an exact match for SNOMED PT', 'automapping_relationship': 'Equivalent', 'count_of_resources_affected': 9047}</td>\n      <td></td>\n      <td></td>\n      <td></td>\n      <td></td>\n      <td>2023-03-01 00:00:00+00:00</td>\n    </tr>\n    <tr>\n      <th>423</th>\n      <td>f1065ca0-b060-4126-b670-15edbc6dae8b</td>\n      <td>{[{R91.8, null, urn:oid:2.16.840.1.113883.6.90}, {274533004, null, urn:oid:2.16.840.1.113883.6.96}], Abnormal findings on diagnostic imaging of lung}</td>\n      <td>Abnormal findings on diagnostic imaging of lung</td>\n      <td>50ed5f2c-7c4c-4586-a7d8-f3665d6380c0</td>\n      <td>{'automapping_target': '274533004|Abnormal findings on diagnostic imaging of lung (finding)', 'automapping_evidence': 'Condition Code.text is an exact match for SNOMED PT', 'automapping_relationship': 'Equivalent', 'count_of_resources_affected': '1157'}</td>\n      <td></td>\n      <td></td>\n      <td></td>\n      <td></td>\n      <td>2023-03-01 00:00:00+00:00</td>\n    </tr>\n    <tr>\n      <th>424</th>\n      <td>df8eb04b-01a1-44a4-a037-cf07978d5d21</td>\n      <td>{\"coding\": [{\"system\": \"http://snomed.info/sct\", \"code\": \"274533004\", \"display\": \"Abnormal findings on diagnostic imaging of lung (finding)\"}, {\"system\": \"http://hl7.org/fhir/sid/icd-9-cm/diagnosis\", \"code\": \"793.19\", \"display\": \"Abnormal findings on diagnostic imaging of lung\"}, {\"system\": \"http://hl7.org/fhir/sid/icd-10-cm\", \"code\": \"R91.8\", \"display\": \"Abnormal findings on diagnostic imaging of lung\"}], \"text\": \"Abnormal findings on diagnostic imaging of lung\"}</td>\n      <td>Abnormal findings on diagnostic imaging of lung</td>\n      <td>50ed5f2c-7c4c-4586-a7d8-f3665d6380c0</td>\n      <td>None</td>\n      <td></td>\n      <td></td>\n      <td></td>\n      <td></td>\n      <td>2023-12-07 15:07:57.139917+00:00</td>\n    </tr>\n  </tbody>\n</table>\n<p>425 rows × 10 columns</p>\n</div>"
     },
     "execution_count": 331,
     "metadata": {},
     "output_type": "execute_result"
    }
   ],
   "source": [
    "df"
   ],
   "metadata": {
    "collapsed": false
   }
  },
  {
   "cell_type": "code",
   "execution_count": 184,
   "outputs": [],
   "source": [
    "import datetime\n",
    "import json\n",
    "import re\n",
    "from enum import Enum\n",
    "\n",
    "from app.helpers.data_helper import is_uuid_format, is_spark_format, is_json_format, load_json_string, \\\n",
    "    normalize_source_ratio, serialize_json_object, escape_for_sql, normalize_source_codeable_concept, \\\n",
    "    cleanup_json_string\n",
    "from app.helpers.message_helper import message_exception_classname\n",
    "\n",
    "\n",
    "class DataExtensionUrl(Enum):\n",
    "    \"\"\"\n",
    "    DataExtensionUrls for ConceptMaps from the RCDM specification\n",
    "    \"\"\"\n",
    "    SOURCE_CODEABLE_CONCEPT = \"http://projectronin.io/fhir/StructureDefinition/ronin-conceptMapSourceCodeableConcept\"\n",
    "    SOURCE_RATIO = \"http://projectronin.io/fhir/StructureDefinition/ronin-conceptMapSourceRatio\"\n",
    "\n",
    "\n",
    "class IssuePrefix(Enum):\n",
    "    \"\"\"\n",
    "    Prefix for messages reporting format issues\n",
    "    \"\"\"\n",
    "    COLUMN_VALUE_FORMAT = \"format issue: \"\n",
    "\n",
    "\n",
    "def convert_string_to_datetime_or_none(input_string):\n",
    "    if input_string is None:\n",
    "        return None\n",
    "    else:\n",
    "        try:\n",
    "            return datetime.datetime.strptime(input_string, \"%Y-%m-%dT%H:%M:%S.%fZ\")\n",
    "        except ValueError:\n",
    "            return datetime.datetime.strptime(input_string, \"%Y-%m-%dT%H:%M:%SZ\")\n",
    "\n",
    "\n",
    "def prepare_dynamic_value_for_sql(old_value: str, old_display: str = None) -> (str, str, str, str):\n",
    "    \"\"\"\n",
    "    For inserting a code value into a table that has already been migrated to the ConceptMap v5 schema.\n",
    "\n",
    "    Calls the helper function prepare_dynamic_value_for_sql_issue() to process the inputs.\n",
    "\n",
    "    @param old_value - may be a string, or may be a FHIR code which as data is a string value\n",
    "    @param old_display - IMPORTANT - caller must supply this value if the old_value is a FHIR code - used for some tests\n",
    "    @raise ValueError if the old_value cannot be correctly stored, so the caller should not insert it into the database.\n",
    "    \"\"\"\n",
    "    (value_schema, value_simple, value_jsonb, value_string) = prepare_dynamic_value_for_sql(old_value, old_display)\n",
    "    if value_schema is None:\n",
    "        raise ValueError(\"Value cannot be stored: format issues found\")\n",
    "    if IssuePrefix.COLUMN_VALUE_FORMAT.value in value_schema:\n",
    "        raise ValueError(value_schema)\n",
    "    return value_schema, value_simple, value_jsonb, value_string\n",
    "\n",
    "\n",
    "def prepare_dynamic_value_for_sql_issue(old_value: str, old_display: str = None) -> (str, str, str, str):\n",
    "    \"\"\"\n",
    "    Converts 1 input string value into 4 strings to use in forming correct syntax for a subsequent SQL INSERT query.\n",
    "    This function is intended to support multiple data types for FHIR dynamic values: code, CodeableConcept, Ratio, etc.\n",
    "\n",
    "    For CodeableConcept only, old_display (the associated display value) may be provided and an extra error check\n",
    "    happens. For other FHIR dynamic value data types, the old_display is ignored.\n",
    "\n",
    "    @param old_value - may be a string, or may be a FHIR code which as data is a string value\n",
    "    @param old_display - IMPORTANT - caller must supply this value if the old_value is a FHIR code - used for some tests\n",
    "\n",
    "    @return\n",
    "        value_schema (string) - FHIR primitive name, DataExtensionUrls value, or message prefixed with \"format issue:\"\n",
    "        value_simple (string) - old_code if primitive or old_code has \"format issue: \" - else None\n",
    "        value_jsonb (string) - None if primitive or old_value has \"format issue:\" - else, object with that value_schema\n",
    "            - note: because this function prepares these values for SQL INSERT query formation, this value is a string -\n",
    "            all JSON uses double quotes, and if there is a single quote value in the JSON, it is '' for SQL escaping\n",
    "        value_string (string) - either value_simple, or value_jsonb binary JSON value, correctly serialized to a string\n",
    "            - this returned value_string value is ready for the  caller to input to hash_string to create the code_id\n",
    "    \"\"\"\n",
    "    # init\n",
    "    value_schema = None\n",
    "    value_simple = None\n",
    "    value_jsonb = None\n",
    "    value_string = None\n",
    "\n",
    "    # unwrap any wrappers in the JSON\n",
    "    if old_value is not None and '\"valueCodeableConcept\"' in old_value:\n",
    "        old_value = remove_deprecated_wrapper(old_value)\n",
    "\n",
    "    # begin: detect code issue cases\n",
    "    # handle None (bad)\n",
    "    if old_value is None:\n",
    "        (value_schema, value_simple, value_jsonb, value_string) = prepare_code_none_issue_for_sql(\n",
    "            issue=\"value is None\",\n",
    "            id=\"value is null\"\n",
    "        )\n",
    "\n",
    "    # handle '' (bad if this is a code; fine for string)\n",
    "    elif old_display is not None and old_value == \"\":\n",
    "        (value_schema, value_simple, value_jsonb, value_string) = prepare_string_format_issue_for_sql(\n",
    "            issue=\"value is ''\",\n",
    "            code_string=old_value\n",
    "        )\n",
    "\n",
    "    # handle uuid case (bad)\n",
    "    elif is_uuid_format(old_value):\n",
    "        (value_schema, value_simple, value_jsonb, value_string) = prepare_string_format_issue_for_sql(\n",
    "            issue=\"uuid\",\n",
    "            code_string=old_value\n",
    "        )\n",
    "\n",
    "    # handle '[]' (bad)\n",
    "    elif old_value == \"[]\":\n",
    "        (value_schema, value_simple, value_jsonb, value_string) = prepare_string_format_issue_for_sql(\n",
    "            issue=\"value is '[]'\",\n",
    "            code_string=old_value\n",
    "        )\n",
    "\n",
    "    # handle '{}' (bad)\n",
    "    elif old_value == \"{}\":\n",
    "        (value_schema, value_simple, value_jsonb, value_string) = prepare_string_format_issue_for_sql(\n",
    "            issue=\"value is \" + \"'{}'\",\n",
    "            code_string=old_value\n",
    "        )\n",
    "\n",
    "    # handle '[null]' (bad)\n",
    "    elif old_value == \"[null]\":\n",
    "        (value_schema, value_simple, value_jsonb, value_string) = prepare_string_format_issue_for_sql(\n",
    "            issue=\"value is '[null]'\",\n",
    "            code_string=old_value\n",
    "        )\n",
    "\n",
    "    # handle 'null' (bad)\n",
    "    elif old_value == \"null\":\n",
    "        (value_schema, value_simple, value_jsonb, value_string) = prepare_string_format_issue_for_sql(\n",
    "            issue=\"value is 'null'\",\n",
    "            code_string=old_value\n",
    "        )\n",
    "\n",
    "    # handle {\"text\":\"Line 1\"} spark or JSON (bad)\n",
    "    elif \"{Line 1}\" in old_value or ('\"text\"' in old_value and '\"Line 1\"' in old_value):\n",
    "        (value_schema, value_simple, value_jsonb, value_string) = prepare_string_format_issue_for_sql(\n",
    "            issue='{\"text\":\"Line 1\"}',\n",
    "            code_string=old_value\n",
    "        )\n",
    "\n",
    "    # handle coding not present in CodeableConcept (bad)\n",
    "    elif '\"text\"' in old_value and '\"coding\"' not in old_value:\n",
    "        (value_schema, value_simple, value_jsonb,value_string) = prepare_string_format_issue_for_sql(\n",
    "            issue=\"CodeableConcept with only text\",\n",
    "            code_string=old_value\n",
    "        )\n",
    "\n",
    "    # handle spark case (bad)\n",
    "    elif is_spark_format(old_value):\n",
    "        # try to convert to json\n",
    "        json_string = convert_source_concept_spark_export_string_to_json_string(old_value)\n",
    "        # failed to convert to json: report format issue\n",
    "        if json_string == old_value:\n",
    "            (value_schema, value_simple, value_jsonb, value_string) = prepare_string_format_issue_for_sql(\n",
    "                issue=\"spark\",\n",
    "                code_string=old_value\n",
    "            )\n",
    "        # converted to json: handle the json\n",
    "        else:\n",
    "            (value_schema, value_simple, value_jsonb, value_string) = prepare_json_format_for_sql(json_string)\n",
    "\n",
    "    # handle json case (good or bad)\n",
    "    elif is_json_format(old_value):\n",
    "        (value_schema, value_simple, value_jsonb, value_string) = prepare_json_format_for_sql(old_value)\n",
    "\n",
    "    # see if code and display columns were reversed\n",
    "    elif old_display is not None and is_code_display_reversed(old_value, old_display):\n",
    "        if value_schema is not None and len(value_schema) > 0:\n",
    "            value_schema += \", code and display might be reversed\"\n",
    "        else:\n",
    "            (value_schema, value_simple, value_jsonb, value_string) = prepare_string_format_issue_for_sql(\n",
    "                issue=\"code and display might be reversed\",\n",
    "                code_string=old_value\n",
    "            )\n",
    "\n",
    "    # string case (good) - if there is no old_display supplied by the caller, it is not a code: it is a depends_on\n",
    "    elif old_display is None:\n",
    "        (value_schema, value_simple, value_jsonb, value_string) = prepare_string_depends_on_for_sql(\n",
    "            code_string=old_value\n",
    "        )\n",
    "\n",
    "    # handle code case (good)\n",
    "    else:\n",
    "        (value_schema, value_simple, value_jsonb, value_string) = prepare_string_source_code_for_sql(\n",
    "            code_string=old_value\n",
    "        )\n",
    "    # end: detect code issue cases\n",
    "\n",
    "    return value_schema, value_simple, value_jsonb, value_string\n",
    "\n",
    "\n",
    "def prepare_json_format_for_sql(json_string: str) -> (str, str, str, str):\n",
    "    \"\"\"\n",
    "    Normalizes the JSON string to an expected format with double quotes and no wasted space - calls helper functions\n",
    "    in the correct order: load the object, normalize to RCDM (sorts lists), serialize (sorts keys, strips space)\n",
    "    @return\n",
    "        code_schema (string) - FHIR primitive name, DataExtensionUrls value, or message prefixed with \"format issue:\"\n",
    "        code_simple (string) - old_code if primitive or old_code has \"format issue: \" - else None\n",
    "        code_jsonb (string) - None if primitive or old_code has \"format issue:\" - else, the object with that code_schema\n",
    "            - note: because this function prepares these values for SQL INSERT query formation, this value is a string -\n",
    "            all JSON uses double quotes, and if there is a single quote value in the JSON, it is '' for SQL escaping\n",
    "        code_string (string) - either code_simple, or the code_jsonb binary JSON value correctly serialized to a string\n",
    "    \"\"\"\n",
    "    try:\n",
    "        json_object = load_json_string(json_string)\n",
    "\n",
    "        # Ratio\n",
    "        if '\"numerator\"' in json_string or '\"denominator\"' in json_string:\n",
    "            # todo: prepare_object_source_ratio_for_sql(ratio_object=json_object) - not yet, questions out to Content\n",
    "            (code_schema, code_simple, code_jsonb, code_string) = prepare_object_format_issue_for_sql(\n",
    "                issue=\"Ratio needs to be supported\",\n",
    "                code_string=json_string\n",
    "            )\n",
    "\n",
    "        # CodeableConcept\n",
    "        elif '\"text\"' in json_string or (\n",
    "                '\"coding\"' in json_string and (\n",
    "                '\"code\"' in json_string\n",
    "                or '\"display\"' in json_string\n",
    "                or '\"system\"' in json_string\n",
    "                or '\"version\"' in json_string\n",
    "        )\n",
    "        ):\n",
    "            try:\n",
    "                (code_schema, code_simple, code_jsonb, code_string) = prepare_object_source_code_for_sql(\n",
    "                    code_object=json_object\n",
    "                )\n",
    "            except Exception as e:\n",
    "                name = message_exception_classname(e)\n",
    "                if name == \"BadDataError\":\n",
    "                    name = \"invalid JSON for CodeableConcept\"\n",
    "                (code_schema, code_simple, code_jsonb, code_string) = prepare_object_format_issue_for_sql(\n",
    "                    issue=name,\n",
    "                    code_string=json_string\n",
    "                )\n",
    "\n",
    "        # unsupported FHIR resource type, or an unexpected data dictionary\n",
    "        else:\n",
    "            (code_schema, code_simple, code_jsonb, code_string) = prepare_object_format_issue_for_sql(\n",
    "                issue=\"JSON is an unsupported FHIR resource type, or an unexpected data dictionary\",\n",
    "                code_string=json_string\n",
    "            )\n",
    "\n",
    "    except Exception as e:\n",
    "        name = message_exception_classname(e)\n",
    "        if name == \"JSONDecodeError\":\n",
    "            name = \"invalid JSON for json.loads()\"\n",
    "        (code_schema, code_simple, code_jsonb, code_string) = prepare_string_format_issue_for_sql(\n",
    "            issue=name,\n",
    "            code_string=json_string\n",
    "        )\n",
    "\n",
    "    return code_schema, code_simple, code_jsonb, code_string\n",
    "\n",
    "\n",
    "def prepare_object_source_ratio_for_sql(code_object) -> (str, str, str, str):\n",
    "    \"\"\"\n",
    "    @throws BadDataError if the value does not match the sourceRatio schema\n",
    "    \"\"\"\n",
    "    rcdm_object = normalize_source_ratio(code_object)\n",
    "    rcdm_string = serialize_json_object(rcdm_object)\n",
    "    return (\n",
    "        DataExtensionUrl.SOURCE_RATIO.value,\n",
    "        None,\n",
    "        escape_for_sql(rcdm_string),\n",
    "        rcdm_string\n",
    "    )\n",
    "\n",
    "\n",
    "def prepare_object_source_code_for_sql(code_object) -> (str, str, str, str):\n",
    "    \"\"\"\n",
    "    @throws BadDataError if the value does not match the sourceCodeableConcept schema\n",
    "    \"\"\"\n",
    "    rcdm_object = normalize_source_codeable_concept(code_object)\n",
    "    rcdm_string = serialize_json_object(rcdm_object)\n",
    "    return (\n",
    "        DataExtensionUrl.SOURCE_CODEABLE_CONCEPT.value,\n",
    "        None,\n",
    "        escape_for_sql(rcdm_string),\n",
    "        rcdm_string\n",
    "    )\n",
    "\n",
    "\n",
    "def prepare_data_dictionary_for_sql(info_dict) -> str:\n",
    "    \"\"\"\n",
    "    Serialize a python data dictionary for a string valued column - like additional_data for INFX internal use only\n",
    "    \"\"\"\n",
    "    if info_dict is None:\n",
    "        return None\n",
    "    info_string = json.dumps(info_dict)\n",
    "    clean_info = cleanup_json_string(info_string)\n",
    "    sql_escaped = escape_for_sql(clean_info)\n",
    "    return sql_escaped\n",
    "\n",
    "\n",
    "def prepare_string_depends_on_for_sql(code_string: str) -> (str, str, str, str):\n",
    "    if code_string is None or code_string == \"\":\n",
    "        return (\n",
    "            None,\n",
    "            None,\n",
    "            None,\n",
    "            None\n",
    "        )\n",
    "    else:\n",
    "        return (\n",
    "            \"string\",\n",
    "            code_string,\n",
    "            None,\n",
    "            code_string\n",
    "        )\n",
    "\n",
    "\n",
    "def prepare_string_source_code_for_sql(code_string: str) -> (str, str, str, str):\n",
    "    return (\n",
    "        \"code\",\n",
    "        code_string,\n",
    "        None,\n",
    "        code_string\n",
    "    )\n",
    "\n",
    "\n",
    "def prepare_code_none_issue_for_sql(issue: str, id: str) -> (str, str, str, str):\n",
    "    return (\n",
    "        f\"{IssuePrefix.COLUMN_VALUE_FORMAT.value}{issue}\",\n",
    "        None,\n",
    "        None,\n",
    "        id\n",
    "    )\n",
    "\n",
    "\n",
    "def prepare_string_format_issue_for_sql(issue: str, code_string: str) -> (str, str, str, str):\n",
    "    return (\n",
    "        f\"{IssuePrefix.COLUMN_VALUE_FORMAT.value}{issue}\",\n",
    "        code_string,\n",
    "        None,\n",
    "        code_string\n",
    "    )\n",
    "\n",
    "\n",
    "def append_string_format_issue_for_sql(issue: str, schema: str) -> str:\n",
    "    if schema is None or len(schema) == 0:\n",
    "        return f\"{IssuePrefix.COLUMN_VALUE_FORMAT.value}{issue}\"\n",
    "    else:\n",
    "        return schema + f\", {issue}\"\n",
    "\n",
    "\n",
    "def prepare_object_format_issue_for_sql(issue: str, code_string: str) -> (str, str, str, str):\n",
    "    code_clean = cleanup_json_string(code_string)\n",
    "    return (\n",
    "        f\"{IssuePrefix.COLUMN_VALUE_FORMAT.value}{issue}\",\n",
    "        code_clean,\n",
    "        None,\n",
    "        code_clean\n",
    "    )\n",
    "\n",
    "\n",
    "def remove_deprecated_wrapper(input_string: str) -> str:\n",
    "    \"\"\"\n",
    "    deprecated wrapper convention uses keys \"component\", \"valueCodeableConcept\", or both - remove if present\n",
    "    @return (bool: whether the wrapper was found and removed, str: the string to use after unwrapping)\n",
    "    \"\"\"\n",
    "    output_string = input_string\n",
    "    if is_json_format(input_string):\n",
    "        try:\n",
    "            json_object = load_json_string(input_string)\n",
    "            component = json_object.get(\"component\")\n",
    "            if component is None:\n",
    "                codeable_concept = json_object.get(\"valueCodeableConcept\")\n",
    "                if codeable_concept is not None:\n",
    "                    output_string = serialize_json_object(codeable_concept)\n",
    "            else:\n",
    "                if isinstance(component, list):\n",
    "                    # It is only safe to grab the valueCodeableConcept for this repair if it is single\n",
    "                    if len(component) == 1:\n",
    "                        for concept in component:\n",
    "                            codeable_concept = concept.get(\"valueCodeableConcept\")\n",
    "                            if codeable_concept is not None:\n",
    "                                output_string = serialize_json_object(codeable_concept)\n",
    "                else:\n",
    "                    codeable_concept = component.get(\"valueCodeableConcept\")\n",
    "                    if codeable_concept is not None:\n",
    "                        output_string = serialize_json_object(codeable_concept)\n",
    "        except Exception as e:\n",
    "            pass\n",
    "    return output_string\n",
    "\n",
    "\n",
    "def is_code_display_reversed(code_string: str, display_string: str):\n",
    "    \"\"\"\n",
    "    good-enough check for likelihood that this is a case where code and display columns were reversed by a load function\n",
    "    \"\"\"\n",
    "    # In valid code/display pairs it is unlikely that code and display have the same value or that either is empty\n",
    "    if code_string is None:\n",
    "        if display_string is None:\n",
    "            return False\n",
    "        else:\n",
    "            return True\n",
    "    if code_string == display_string:\n",
    "        return False\n",
    "\n",
    "    # Check length 0\n",
    "    code_len = len(code_string)\n",
    "    if display_string is None:\n",
    "        display_len = 0\n",
    "    else:\n",
    "        display_len = len(display_string)\n",
    "    if code_len == 0 and display_len > 0:\n",
    "        return True\n",
    "    if display_len == 0 and code_len > 0:\n",
    "        return False\n",
    "\n",
    "    code_alpha_count = sum(1 for char in code_string if char.isalpha())\n",
    "    code_digit_count = sum(1 for char in code_string if char.isdigit())\n",
    "    code_hyphen_count = sum(1 for char in code_string if char == \"-\")\n",
    "    code_alnum_count = code_alpha_count + code_digit_count\n",
    "    expected_code_len = code_alnum_count + code_hyphen_count\n",
    "\n",
    "    display_alpha_count = sum(1 for char in display_string if char.isalpha())\n",
    "    display_digit_count = sum(1 for char in display_string if char.isdigit())\n",
    "    display_hyphen_count = sum(1 for char in display_string if char == \"-\")\n",
    "    display_alnum_count = display_alpha_count + display_digit_count\n",
    "    expected_display_code_len = display_alnum_count + display_hyphen_count\n",
    "\n",
    "    # There are non-typical values in the code value, while at the same time, display looks like a code value\n",
    "    if code_len > expected_code_len and display_len == expected_display_code_len:\n",
    "        return True\n",
    "    # There are more alphabetic values in the code than in the display\n",
    "    if code_alpha_count > display_alpha_count:\n",
    "        return True\n",
    "    # There are more numeric values in the display than in the code\n",
    "    if code_digit_count < display_digit_count:\n",
    "        return True\n",
    "    # There are too many numeric values in the display for it to be human-readable\n",
    "    if display_digit_count == display_len or (display_digit_count >= (display_len / 2)):\n",
    "        return True\n",
    "    # If there are only alnum or hyphen characters in the code, and it is reasonably short, it is probably fine\n",
    "    if code_len == expected_code_len and code_len <= display_len:\n",
    "        return False\n",
    "    # In FHIR code/display value sets, display has (title case) + spaces, while code is (lowercase or digits) + hyphens\n",
    "    code_clean = \"\".join(code_string.split(\"-\"))\n",
    "    display_clean = \"\".join(display_string.split(\" \"))\n",
    "    if (\n",
    "        len(code_clean) == len(display_clean)\n",
    "            and code_clean[0].isupper()\n",
    "            and display_clean[0].islower()\n",
    "            and code_clean[0].lower() == display_clean[0]\n",
    "    ):\n",
    "        return True\n",
    "    # We could not identify any issues with this code/display pair\n",
    "    return False\n",
    "\n",
    "\n",
    "def convert_source_concept_spark_export_string_to_json_string(spark_export_string: str) -> str:\n",
    "    \"\"\"\n",
    "    @raise exception if parsing hits any snags, which it should not\n",
    "    \"\"\"\n",
    "    # init\n",
    "    json_object: dict = {}\n",
    "    coding_list = []\n",
    "    value_list = re.split(r'], ', spark_export_string)\n",
    "\n",
    "    # coding\n",
    "    if len(value_list) > 0:\n",
    "        coding_string = value_list[0][2:]\n",
    "        coding_value_list = re.split(r'}, \\{', coding_string)\n",
    "        if len(coding_value_list) > 0:\n",
    "            coding_value_list[0] = coding_value_list[0][1:]\n",
    "            coding_value_list[-1] = coding_value_list[-1][:-1]\n",
    "            for coding_value in coding_value_list:\n",
    "                attribute = re.split(r', ', coding_value)\n",
    "                coding_object: dict = {}\n",
    "                if len(attribute) >= 3:\n",
    "                    first = attribute[0]\n",
    "                    middle = \", \".join(attribute[1:-1])\n",
    "                    last = attribute[-1]\n",
    "                    if first != \"null\":\n",
    "                        coding_object.update({\"code\": first})\n",
    "                    if middle != \"null\":\n",
    "                        coding_object.update({\"display\": middle})\n",
    "                    if last != \"null\":\n",
    "                        coding_object.update({\"system\": last})\n",
    "                elif len(attribute) == 2:\n",
    "                    first = attribute[0]\n",
    "                    last = attribute[-1]\n",
    "                    if first != \"null\":\n",
    "                        coding_object.update({\"code\": first})\n",
    "                    if last != \"null\":\n",
    "                        coding_object.update({\"system\": last})\n",
    "                else:\n",
    "                    return spark_export_string\n",
    "                if len(coding_object) > 0:\n",
    "                    coding_list.append(coding_object)\n",
    "            if len(coding_list) > 0:\n",
    "                json_object.update({\"coding\": coding_list})\n",
    "        else:\n",
    "            return spark_export_string\n",
    "    else:\n",
    "        return spark_export_string\n",
    "\n",
    "    # text\n",
    "    if len(value_list) > 1:\n",
    "        text_value = value_list[1][:-1]\n",
    "        if text_value != \"null\":\n",
    "            json_object.update({\"text\": text_value})\n",
    "\n",
    "    # done\n",
    "    return serialize_json_object(json_object)\n"
   ],
   "metadata": {
    "collapsed": false
   }
  },
  {
   "cell_type": "code",
   "execution_count": 226,
   "outputs": [],
   "source": [
    "import hashlib\n",
    "import json\n",
    "\n",
    "import uuid\n",
    "from collections import OrderedDict\n",
    "\n",
    "from app.errors import BadDataError\n",
    "\n",
    "\n",
    "def contains_double_quoted_strings(input_string: str) -> bool:\n",
    "    \"\"\"\n",
    "    good-enough check for at least 1 pair of double quotes\n",
    "    \"\"\"\n",
    "    return sum(1 for char in input_string if char == '\"') >= 2\n",
    "\n",
    "\n",
    "def contains_single_quoted_strings(input_string: str) -> bool:\n",
    "    \"\"\"\n",
    "    good-enough check for at least 1 pair of single quotes\n",
    "    \"\"\"\n",
    "    return sum(1 for char in input_string if char == \"'\") >= 2\n",
    "\n",
    "\n",
    "def contains_colon(input_string: str) -> bool:\n",
    "    \"\"\"\n",
    "    good-enough check for at least 1 colon\n",
    "    \"\"\"\n",
    "    return \":\" in input_string\n",
    "\n",
    "\n",
    "def contains_braces(input_string: str) -> bool:\n",
    "    \"\"\"\n",
    "    good-enough check for curly braces\n",
    "    \"\"\"\n",
    "    return \"{\" in input_string and \"}\" in input_string\n",
    "\n",
    "\n",
    "def contains_brackets(input_string: str) -> bool:\n",
    "    \"\"\"\n",
    "    good-enough check for square brackets\n",
    "    \"\"\"\n",
    "    return \"[\" in input_string and \"]\" in input_string\n",
    "\n",
    "\n",
    "def contains_alphanumeric(input_string: str):\n",
    "    return any(char.isalnum() for char in input_string)\n",
    "\n",
    "\n",
    "def get_next_hex_char(hex_char):\n",
    "    hex_int = int(hex_char, 16)\n",
    "    hex_int = (hex_int + 1) % 16\n",
    "    next_hex_char = hex(hex_int)[2:]\n",
    "    return next_hex_char\n",
    "\n",
    "\n",
    "def load_json_string(input_json_string: str):\n",
    "    \"\"\"\n",
    "    json.loads() options:\n",
    "    (no options explicitly provided at present - uses defaults)\n",
    "    \"\"\"\n",
    "    return json.loads(input_json_string)\n",
    "\n",
    "\n",
    "def cleanup_json_string(input_json_string: str) -> str:\n",
    "    \"\"\"\n",
    "    Shortcut to ensure consistent JSON by calling load_json_string() then serialize_json_object().\n",
    "    This function is quick and basic and respects existing list member order.\n",
    "\n",
    "    If you want to force lists in input_json_string into order using order_object_List(),\n",
    "    do not use this function; instead use one of the following sequences:\n",
    "\n",
    "    1. Ordinary JSON:\n",
    "    Call load_json_string(),\n",
    "    call order_object_list() on any lists, then\n",
    "    call serialize_json_object().\n",
    "\n",
    "    2. RCDM profile JSON:\n",
    "    Call load_json_string(),\n",
    "    provide and call a normalization function like normalize_source_codeable_concept() to prune the object attributes,\n",
    "    call order_object_list() on any lists, then\n",
    "    call serialize_json_object().\n",
    "    \"\"\"\n",
    "    json_object = load_json_string(input_json_string)\n",
    "    return serialize_json_object(json_object)\n",
    "\n",
    "\n",
    "def serialize_json_object(json_object) -> str:\n",
    "    \"\"\"\n",
    "    If the json_object contains lists, and you want to force list members into a known, consistent order, do not start\n",
    "    with this function; first call order_object_list() on any lists, then call serialize_json_object() on that result\n",
    "    json.dumps() options:\n",
    "    sort_keys=True - sort the keys in the output string alphabetically; respects the current order of list elements\n",
    "    ensure_ascii=False - ensures that double quotes are used to wrap strings in the output, needed for SQL query format\n",
    "    separators=(\",\", \":\") - omits space characters from JSON syntax, but retains space characters inside JSON content\n",
    "    \"\"\"\n",
    "    return json.dumps(json_object, sort_keys=True, ensure_ascii=False, separators=(\",\", \":\"))\n",
    "\n",
    "\n",
    "def is_json_format(input_string: str) -> bool:\n",
    "    \"\"\"\n",
    "    good-enough check for json punctuation to format at least one key-value pair in the object\n",
    "    \"\"\"\n",
    "    clean_string = \"\".join(input_string.split(\" \"))\n",
    "    return (\n",
    "        contains_brackets(clean_string) or contains_braces(clean_string)\n",
    "    ) and (\n",
    "        contains_colon(clean_string)\n",
    "    ) and ((\n",
    "        contains_double_quoted_strings(input_string) and '\":\"' in clean_string\n",
    "        ) or (\n",
    "        contains_single_quoted_strings(input_string) and \"':'\" in clean_string\n",
    "    ))\n",
    "\n",
    "\n",
    "def is_spark_format(input_string: str) -> bool:\n",
    "    \"\"\"\n",
    "    good-enough check for spark format\n",
    "    \"\"\"\n",
    "    return (\n",
    "        contains_braces(input_string) or contains_brackets(input_string)\n",
    "    ) and (\n",
    "        contains_alphanumeric(input_string)\n",
    "    ) and (\n",
    "        not is_json_format(input_string)\n",
    "    )\n",
    "\n",
    "\n",
    "def is_uuid_format(input_string: str) -> bool:\n",
    "    \"\"\"\n",
    "    check for uuid4 format\n",
    "    \"\"\"\n",
    "    try:\n",
    "        return uuid.UUID(input_string).version == 4\n",
    "    except ValueError:\n",
    "        return False\n",
    "\n",
    "\n",
    "def hash_string(input_string: str) -> str:\n",
    "    \"\"\"\n",
    "    For all hashed id values - like mapping_id and code_id - caller is responsible for a correctly formed input_string\n",
    "    \"\"\"\n",
    "    # create a new md5 hash object\n",
    "    hash_object = hashlib.md5()\n",
    "    # update the hash object with the bytes-like object\n",
    "    hash_object.update(input_string.encode(\"utf-8\"))\n",
    "    # return the hexadecimal representation of the hash\n",
    "    return hash_object.hexdigest()\n",
    "\n",
    "\n",
    "def hash_jsonb(input_object) -> str:\n",
    "    \"\"\"\n",
    "    serialize an object to a string and then hash the string\n",
    "    \"\"\"\n",
    "    return hash_string(serialize_json_object(input_object))\n",
    "\n",
    "\n",
    "def escape_for_sql(input_string: str) -> str:\n",
    "    \"\"\"\n",
    "    SQL escape single quotes and colons in JSON string content values so they can be input to INSERT - \"Hodgkin's: yes\"\n",
    "    \"\"\"\n",
    "    # single quote\n",
    "    escaped_single_quotes = input_string.replace(\"'\", \"''\")\n",
    "\n",
    "    # colon\n",
    "    colon_content_list = escaped_single_quotes.split('\":')\n",
    "    escaped_colon_content_list = []\n",
    "    for content in colon_content_list:\n",
    "        escaped = content.replace(\".:\", \".\\:\")\n",
    "        escaped_colon_content_list.append(escaped)\n",
    "    escaped_string = '\":'.join(escaped_colon_content_list)\n",
    "    return escaped_string\n",
    "\n",
    "    # todo:\n",
    "    # So far, there have been issues handling true/false in the JSON string when we get to SQL. This was a formatting\n",
    "    # issue for our SQL INSERT query text. Text values in JSON work fine with our query because we wrap them in\n",
    "    # double quotes, but unwrapped values, e.g. boolean, had sqlalchemy formatting errors. For CodeableConcept this\n",
    "    # was resolved by RCDM not using userSelected, a boolean. Adding Ratio etc, we should beware numeric and boolean.\n",
    "    # The split('\".') used to find colon characters in content could also be handy to find cases like {\"mine\":true}\n",
    "\n",
    "\n",
    "def normalize_source_ratio(input_object):\n",
    "    \"\"\"\n",
    "    shape the Ratio attributes as needed to conform to the RCDM profile - remove the unsupported attributes -\n",
    "    require required attributes\n",
    "    \"\"\"\n",
    "    # todo: implement\n",
    "    return input_object\n",
    "\n",
    "\n",
    "def normalize_source_codeable_concept(input_object):\n",
    "    \"\"\"\n",
    "    shape the CodeableConcept attributes as needed to conform to the RCDM profile - remove the unsupported attributes -\n",
    "    require required attributes - calls order_object_list() on \"coding\" list to ensure members are in consistent order\n",
    "    - ≈\n",
    "    \"\"\"\n",
    "    if input_object.get(\"id\") is not None:\n",
    "        del input_object[\"id\"]\n",
    "    coding_list = input_object.get(\"coding\")\n",
    "    text_value = input_object.get(\"text\")\n",
    "    if coding_list is None and text_value is None:\n",
    "        raise BadDataError(\n",
    "            code=\"CodeableConcept.schema\",\n",
    "            description=\"CodeableConcept was expected, but the object has no coding or text attribute at the top level\",\n",
    "            errors=\"Invalid CodeableConcept\"\n",
    "        )\n",
    "    if coding_list is not None:\n",
    "        for coding in coding_list:\n",
    "            if coding.get(\"id\") is not None:\n",
    "                del coding[\"id\"]\n",
    "            if coding.get(\"userSelected\") is not None:\n",
    "                del coding[\"userSelected\"]\n",
    "        input_object[\"coding\"] = order_object_list(coding_list)\n",
    "    return input_object\n",
    "\n",
    "\n",
    "def order_object_list(input_object_list) -> list:\n",
    "    \"\"\"\n",
    "    Provide a consistent, standard order for FHIR array members that are objects. Per the FHIR standard. arrays do not\n",
    "    have any guaranteed order. Per the json library, arrays cannot be given a standard order by dumps() or loads().\n",
    "\n",
    "    The technique we use is to do a md5 numeric hash of each list member  and sort list members by their hash values.\n",
    "\n",
    "    The ONLY requirement is to guarantee we always output any identical list members appear in the SAME ORDER in our\n",
    "    lists, even if they did not arrive in that same order in the data. There is no requirement to ALSO make this order\n",
    "    VISIBLE or INTUITIVE to humans. We have no way to make the ordering criteria apparent to human viewers, but it works\n",
    "\n",
    "    Function steps in detail:\n",
    "    1. serialize and hash each member of the input_list using our own functions (which standardize key order in JSON)\n",
    "    2. use the hash values as keys in a dictionary with the values being the corresponding input_list member\n",
    "    3. create a new list from the dictionary values in hash value key order\n",
    "    Note: for now, ignore the infinite theoretical potential for additional levels of lists within objects within lists:\n",
    "    will handle when we encounter an RCDM defined model that permits this and is also in a jsonb column in the database.\n",
    "\n",
    "    @param input_object_list is a list of objects, such as CodeableConcept.coding list\n",
    "    @return a new list in an order that will be consistent any time the same set of list members are input in any order\n",
    "    \"\"\"\n",
    "    object_list: dict = {}\n",
    "    for obj in input_object_list:\n",
    "        object_list.update({hash_jsonb(obj): obj})\n",
    "    sorted_list = OrderedDict(sorted(object_list.items()))\n",
    "    return list(sorted_list.values())\n"
   ],
   "metadata": {
    "collapsed": false
   }
  },
  {
   "cell_type": "code",
   "execution_count": 332,
   "outputs": [],
   "source": [
    "    # @return\n",
    "    #     value_schema (string) - FHIR primitive name, DataExtensionUrls value, or message prefixed with \"format issue:\"\n",
    "    #     value_simple (string) - old_code if primitive or old_code has \"format issue: \" - else None\n",
    "    #     value_jsonb (string) - None if primitive or old_value has \"format issue:\" - else, object with that value_schema\n",
    "    #         - note: because this function prepares these values for SQL INSERT query formation, this value is a string -\n",
    "    #         all JSON uses double quotes, and if there is a single quote value in the JSON, it is '' for SQL escaping\n",
    "    #     value_string (string) - either value_simple, or value_jsonb binary JSON value, correctly serialized to a string\n",
    "    #         - this returned value_string value is ready for the  caller to input to hash_string to create the code_id\n",
    "\n",
    "df[['value_schema', 'value_simple', 'value_jsonb', 'value_string']] = df.apply(lambda row: prepare_dynamic_value_for_sql_issue(row['code'], row['display']), axis=1, result_type='expand')"
   ],
   "metadata": {
    "collapsed": false
   }
  },
  {
   "cell_type": "code",
   "execution_count": 333,
   "outputs": [
    {
     "data": {
      "text/plain": "                                     uuid  \\\n0    fb1105a7-c8b9-4461-89cd-5bc9f60d8364   \n1    b4646298-292f-4d21-8bd8-f9c0166c1fd8   \n2    cd970f63-99bb-47f8-a298-72025f6ede90   \n3    25e0a8d9-e93e-43fc-897c-be05578bdf1e   \n4    9ff86800-6c49-4f03-98ea-c648df4c55b0   \n..                                    ...   \n420  212038a2-f811-423c-9d53-24f2a56b35e4   \n421  ea8b4079-119d-4254-926a-8b55f5778076   \n422  3a9c520e-4e4f-4b1e-9af3-f7f9c90ab1ce   \n423  f1065ca0-b060-4126-b670-15edbc6dae8b   \n424  df8eb04b-01a1-44a4-a037-cf07978d5d21   \n\n                                                                                                                                                                                                                                                                                                                                                                                                                                                                                     code  \\\n0                                                                                                                                                                                                                                                                                                                               {[{14040001000004109, Uncontrolled pain (finding), http://snomed.info/sct}, {R52, Uncontrolled pain, urn:oid:2.16.840.1.113883.6.90}], Uncontrolled pain}   \n1                                                                                                                                                                                                                                                                                                            {\"coding\": [{\"system\": \"http://hl7.org/fhir/sid/icd-10-cm\", \"code\": \"R52\"}, {\"system\": \"http://snomed.info/sct\", \"code\": \"14040001000004109\"}], \"text\": \"Uncontrolled pain\"}   \n2                                                                                           {[{1089991000119109, Oral ulcerative mucositis due to antineoplastic therapy (disorder), http://snomed.info/sct}, {528.01, Ulcerative oral mucositis due to antineoplastic therapy, http://hl7.org/fhir/sid/icd-9-cm/diagnosis}, {K12.31, Ulcerative oral mucositis due to antineoplastic therapy, urn:oid:2.16.840.1.113883.6.90}], Ulcerative oral mucositis due to antineoplastic therapy}   \n3                                                                                                                                                                                                                                                                                                                   {[{K12.31, null, urn:oid:2.16.840.1.113883.6.90}, {1089991000119109, null, urn:oid:2.16.840.1.113883.6.96}], Ulcerative oral mucositis due to antineoplastic therapy}   \n4                                                                                                              {\"coding\": [{\"system\": \"http://hl7.org/fhir/sid/icd-9-cm/diagnosis\", \"code\": \"528.01\", \"display\": \"Ulcerative oral mucositis due to antineoplastic therapy\"}, {\"system\": \"http://hl7.org/fhir/sid/icd-10-cm\", \"code\": \"K12.31\", \"display\": \"Ulcerative oral mucositis due to antineoplastic therapy\"}], \"text\": \"Ulcerative oral mucositis due to antineoplastic therapy\"}   \n..                                                                                                                                                                                                                                                                                                                                                                                                                                                                                    ...   \n420                                                                                                                                                                                                                                    {[{11381005, Acne (disorder), http://snomed.info/sct}, {706.1, Acne, not otherwise specified, http://hl7.org/fhir/sid/icd-9-cm/diagnosis}, {L70.9, Acne, not otherwise specified, urn:oid:2.16.840.1.113883.6.90}], Acne, not otherwise specified}   \n421                                                                                                    {\"coding\": [{\"system\": \"http://snomed.info/sct\", \"code\": \"11381005\", \"display\": \"Acne (disorder)\"}, {\"system\": \"http://hl7.org/fhir/sid/icd-9-cm/diagnosis\", \"code\": \"706.1\", \"display\": \"Acne, not otherwise specified\"}, {\"system\": \"http://hl7.org/fhir/sid/icd-10-cm\", \"code\": \"L70.9\", \"display\": \"Acne, not otherwise specified\"}], \"text\": \"Acne, not otherwise specified\"}   \n422                                                                                                                                  {[{274533004, Abnormal findings on diagnostic imaging of lung (finding), http://snomed.info/sct}, {793.19, Abnormal findings on diagnostic imaging of lung, http://hl7.org/fhir/sid/icd-9-cm/diagnosis}, {R91.8, Abnormal findings on diagnostic imaging of lung, urn:oid:2.16.840.1.113883.6.90}], Abnormal findings on diagnostic imaging of lung}   \n423                                                                                                                                                                                                                                                                                                                                 {[{R91.8, null, urn:oid:2.16.840.1.113883.6.90}, {274533004, null, urn:oid:2.16.840.1.113883.6.96}], Abnormal findings on diagnostic imaging of lung}   \n424  {\"coding\": [{\"system\": \"http://snomed.info/sct\", \"code\": \"274533004\", \"display\": \"Abnormal findings on diagnostic imaging of lung (finding)\"}, {\"system\": \"http://hl7.org/fhir/sid/icd-9-cm/diagnosis\", \"code\": \"793.19\", \"display\": \"Abnormal findings on diagnostic imaging of lung\"}, {\"system\": \"http://hl7.org/fhir/sid/icd-10-cm\", \"code\": \"R91.8\", \"display\": \"Abnormal findings on diagnostic imaging of lung\"}], \"text\": \"Abnormal findings on diagnostic imaging of lung\"}   \n\n                                                     display  \\\n0                                          Uncontrolled pain   \n1                                          Uncontrolled pain   \n2    Ulcerative oral mucositis due to antineoplastic therapy   \n3    Ulcerative oral mucositis due to antineoplastic therapy   \n4    Ulcerative oral mucositis due to antineoplastic therapy   \n..                                                       ...   \n420                            Acne, not otherwise specified   \n421                            Acne, not otherwise specified   \n422          Abnormal findings on diagnostic imaging of lung   \n423          Abnormal findings on diagnostic imaging of lung   \n424          Abnormal findings on diagnostic imaging of lung   \n\n                 terminology_version_uuid  \\\n0    50ed5f2c-7c4c-4586-a7d8-f3665d6380c0   \n1    50ed5f2c-7c4c-4586-a7d8-f3665d6380c0   \n2    50ed5f2c-7c4c-4586-a7d8-f3665d6380c0   \n3    50ed5f2c-7c4c-4586-a7d8-f3665d6380c0   \n4    50ed5f2c-7c4c-4586-a7d8-f3665d6380c0   \n..                                    ...   \n420  50ed5f2c-7c4c-4586-a7d8-f3665d6380c0   \n421  50ed5f2c-7c4c-4586-a7d8-f3665d6380c0   \n422  50ed5f2c-7c4c-4586-a7d8-f3665d6380c0   \n423  50ed5f2c-7c4c-4586-a7d8-f3665d6380c0   \n424  50ed5f2c-7c4c-4586-a7d8-f3665d6380c0   \n\n                                                                                                                                                                                                                                                   additional_data  \\\n0                          {'automapping_target': '14040001000004109|Uncontrolled pain (finding)', 'automapping_evidence': 'Condition Code.text is an exact match for SNOMED PT', 'automapping_relationship': 'Equivalent', 'count_of_resources_affected': '1330'}   \n1                                                                                                                                                                                                                                                             None   \n2                                                                                                                              {'automapping_target': None, 'automapping_evidence': None, 'automapping_relationship': None, 'count_of_resources_affected': '3341'}   \n3                                                                                                                               {'automapping_target': None, 'automapping_evidence': None, 'automapping_relationship': None, 'count_of_resources_affected': '306'}   \n4                                                                                                                                                                                                                                                             None   \n..                                                                                                                                                                                                                                                             ...   \n420                                                                                                                             {'automapping_target': None, 'automapping_evidence': None, 'automapping_relationship': None, 'count_of_resources_affected': '133'}   \n421                                                                                                                                                                                                                                                           None   \n422    {'automapping_target': '274533004|Abnormal findings on diagnostic imaging of lung (finding)', 'automapping_evidence': 'Condition Code.text is an exact match for SNOMED PT', 'automapping_relationship': 'Equivalent', 'count_of_resources_affected': 9047}   \n423  {'automapping_target': '274533004|Abnormal findings on diagnostic imaging of lung (finding)', 'automapping_evidence': 'Condition Code.text is an exact match for SNOMED PT', 'automapping_relationship': 'Equivalent', 'count_of_resources_affected': '1157'}   \n424                                                                                                                                                                                                                                                           None   \n\n    depends_on_property depends_on_system depends_on_value depends_on_display  \\\n0                                                                               \n1                                                                               \n2                                                                               \n3                                                                               \n4                                                                               \n..                  ...               ...              ...                ...   \n420                                                                             \n421                                                                             \n422                                                                             \n423                                                                             \n424                                                                             \n\n                        created_date  \\\n0          2023-03-01 00:00:00+00:00   \n1   2023-12-07 15:10:13.719826+00:00   \n2          2023-03-01 00:00:00+00:00   \n3          2023-03-01 00:00:00+00:00   \n4   2023-12-07 15:10:13.719826+00:00   \n..                               ...   \n420        2023-03-01 00:00:00+00:00   \n421 2023-12-07 15:07:57.139917+00:00   \n422        2023-03-01 00:00:00+00:00   \n423        2023-03-01 00:00:00+00:00   \n424 2023-12-07 15:07:57.139917+00:00   \n\n                                                                              value_schema  \\\n0    http://projectronin.io/fhir/StructureDefinition/ronin-conceptMapSourceCodeableConcept   \n1    http://projectronin.io/fhir/StructureDefinition/ronin-conceptMapSourceCodeableConcept   \n2    http://projectronin.io/fhir/StructureDefinition/ronin-conceptMapSourceCodeableConcept   \n3    http://projectronin.io/fhir/StructureDefinition/ronin-conceptMapSourceCodeableConcept   \n4    http://projectronin.io/fhir/StructureDefinition/ronin-conceptMapSourceCodeableConcept   \n..                                                                                     ...   \n420  http://projectronin.io/fhir/StructureDefinition/ronin-conceptMapSourceCodeableConcept   \n421  http://projectronin.io/fhir/StructureDefinition/ronin-conceptMapSourceCodeableConcept   \n422  http://projectronin.io/fhir/StructureDefinition/ronin-conceptMapSourceCodeableConcept   \n423  http://projectronin.io/fhir/StructureDefinition/ronin-conceptMapSourceCodeableConcept   \n424  http://projectronin.io/fhir/StructureDefinition/ronin-conceptMapSourceCodeableConcept   \n\n    value_simple  \\\n0           None   \n1           None   \n2           None   \n3           None   \n4           None   \n..           ...   \n420         None   \n421         None   \n422         None   \n423         None   \n424         None   \n\n                                                                                                                                                                                                                                                                                                                                                                                                                                                                                                value_jsonb  \\\n0                                                                                                                                                                                                                                                                     {\"coding\":[{\"code\":\"14040001000004109\",\"display\":\"Uncontrolled pain (finding)\",\"system\":\"http://snomed.info/sct\"},{\"code\":\"R52\",\"display\":\"Uncontrolled pain\",\"system\":\"urn:oid:2.16.840.1.113883.6.90\"}],\"text\":\"Uncontrolled pain\"}   \n1                                                                                                                                                                                                                                                                                                                                        {\"coding\":[{\"code\":\"14040001000004109\",\"system\":\"http://snomed.info/sct\"},{\"code\":\"R52\",\"system\":\"http://hl7.org/fhir/sid/icd-10-cm\"}],\"text\":\"Uncontrolled pain\"}   \n2    {\"coding\":[{\"code\":\"K12.31\",\"display\":\"Ulcerative oral mucositis due to antineoplastic therapy\",\"system\":\"urn:oid:2.16.840.1.113883.6.90\"},{\"code\":\"1089991000119109\",\"display\":\"Oral ulcerative mucositis due to antineoplastic therapy (disorder)\",\"system\":\"http://snomed.info/sct\"},{\"code\":\"528.01\",\"display\":\"Ulcerative oral mucositis due to antineoplastic therapy\",\"system\":\"http://hl7.org/fhir/sid/icd-9-cm/diagnosis\"}],\"text\":\"Ulcerative oral mucositis due to antineoplastic therapy\"}   \n3                                                                                                                                                                                                                                                                                           {\"coding\":[{\"code\":\"1089991000119109\",\"system\":\"urn:oid:2.16.840.1.113883.6.96\"},{\"code\":\"K12.31\",\"system\":\"urn:oid:2.16.840.1.113883.6.90\"}],\"text\":\"Ulcerative oral mucositis due to antineoplastic therapy\"}   \n4                                                                                                                                              {\"coding\":[{\"code\":\"528.01\",\"display\":\"Ulcerative oral mucositis due to antineoplastic therapy\",\"system\":\"http://hl7.org/fhir/sid/icd-9-cm/diagnosis\"},{\"code\":\"K12.31\",\"display\":\"Ulcerative oral mucositis due to antineoplastic therapy\",\"system\":\"http://hl7.org/fhir/sid/icd-10-cm\"}],\"text\":\"Ulcerative oral mucositis due to antineoplastic therapy\"}   \n..                                                                                                                                                                                                                                                                                                                                                                                                                                                                                                      ...   \n420                                                                                                                                             {\"coding\":[{\"code\":\"706.1\",\"display\":\"Acne, not otherwise specified\",\"system\":\"http://hl7.org/fhir/sid/icd-9-cm/diagnosis\"},{\"code\":\"L70.9\",\"display\":\"Acne, not otherwise specified\",\"system\":\"urn:oid:2.16.840.1.113883.6.90\"},{\"code\":\"11381005\",\"display\":\"Acne (disorder)\",\"system\":\"http://snomed.info/sct\"}],\"text\":\"Acne, not otherwise specified\"}   \n421                                                                                                                                          {\"coding\":[{\"code\":\"706.1\",\"display\":\"Acne, not otherwise specified\",\"system\":\"http://hl7.org/fhir/sid/icd-9-cm/diagnosis\"},{\"code\":\"L70.9\",\"display\":\"Acne, not otherwise specified\",\"system\":\"http://hl7.org/fhir/sid/icd-10-cm\"},{\"code\":\"11381005\",\"display\":\"Acne (disorder)\",\"system\":\"http://snomed.info/sct\"}],\"text\":\"Acne, not otherwise specified\"}   \n422                                           {\"coding\":[{\"code\":\"274533004\",\"display\":\"Abnormal findings on diagnostic imaging of lung (finding)\",\"system\":\"http://snomed.info/sct\"},{\"code\":\"793.19\",\"display\":\"Abnormal findings on diagnostic imaging of lung\",\"system\":\"http://hl7.org/fhir/sid/icd-9-cm/diagnosis\"},{\"code\":\"R91.8\",\"display\":\"Abnormal findings on diagnostic imaging of lung\",\"system\":\"urn:oid:2.16.840.1.113883.6.90\"}],\"text\":\"Abnormal findings on diagnostic imaging of lung\"}   \n423                                                                                                                                                                                                                                                                                                         {\"coding\":[{\"code\":\"274533004\",\"system\":\"urn:oid:2.16.840.1.113883.6.96\"},{\"code\":\"R91.8\",\"system\":\"urn:oid:2.16.840.1.113883.6.90\"}],\"text\":\"Abnormal findings on diagnostic imaging of lung\"}   \n424                                        {\"coding\":[{\"code\":\"274533004\",\"display\":\"Abnormal findings on diagnostic imaging of lung (finding)\",\"system\":\"http://snomed.info/sct\"},{\"code\":\"793.19\",\"display\":\"Abnormal findings on diagnostic imaging of lung\",\"system\":\"http://hl7.org/fhir/sid/icd-9-cm/diagnosis\"},{\"code\":\"R91.8\",\"display\":\"Abnormal findings on diagnostic imaging of lung\",\"system\":\"http://hl7.org/fhir/sid/icd-10-cm\"}],\"text\":\"Abnormal findings on diagnostic imaging of lung\"}   \n\n                                                                                                                                                                                                                                                                                                                                                                                                                                                                                               value_string  \n0                                                                                                                                                                                                                                                                     {\"coding\":[{\"code\":\"14040001000004109\",\"display\":\"Uncontrolled pain (finding)\",\"system\":\"http://snomed.info/sct\"},{\"code\":\"R52\",\"display\":\"Uncontrolled pain\",\"system\":\"urn:oid:2.16.840.1.113883.6.90\"}],\"text\":\"Uncontrolled pain\"}  \n1                                                                                                                                                                                                                                                                                                                                        {\"coding\":[{\"code\":\"14040001000004109\",\"system\":\"http://snomed.info/sct\"},{\"code\":\"R52\",\"system\":\"http://hl7.org/fhir/sid/icd-10-cm\"}],\"text\":\"Uncontrolled pain\"}  \n2    {\"coding\":[{\"code\":\"K12.31\",\"display\":\"Ulcerative oral mucositis due to antineoplastic therapy\",\"system\":\"urn:oid:2.16.840.1.113883.6.90\"},{\"code\":\"1089991000119109\",\"display\":\"Oral ulcerative mucositis due to antineoplastic therapy (disorder)\",\"system\":\"http://snomed.info/sct\"},{\"code\":\"528.01\",\"display\":\"Ulcerative oral mucositis due to antineoplastic therapy\",\"system\":\"http://hl7.org/fhir/sid/icd-9-cm/diagnosis\"}],\"text\":\"Ulcerative oral mucositis due to antineoplastic therapy\"}  \n3                                                                                                                                                                                                                                                                                           {\"coding\":[{\"code\":\"1089991000119109\",\"system\":\"urn:oid:2.16.840.1.113883.6.96\"},{\"code\":\"K12.31\",\"system\":\"urn:oid:2.16.840.1.113883.6.90\"}],\"text\":\"Ulcerative oral mucositis due to antineoplastic therapy\"}  \n4                                                                                                                                              {\"coding\":[{\"code\":\"528.01\",\"display\":\"Ulcerative oral mucositis due to antineoplastic therapy\",\"system\":\"http://hl7.org/fhir/sid/icd-9-cm/diagnosis\"},{\"code\":\"K12.31\",\"display\":\"Ulcerative oral mucositis due to antineoplastic therapy\",\"system\":\"http://hl7.org/fhir/sid/icd-10-cm\"}],\"text\":\"Ulcerative oral mucositis due to antineoplastic therapy\"}  \n..                                                                                                                                                                                                                                                                                                                                                                                                                                                                                                      ...  \n420                                                                                                                                             {\"coding\":[{\"code\":\"706.1\",\"display\":\"Acne, not otherwise specified\",\"system\":\"http://hl7.org/fhir/sid/icd-9-cm/diagnosis\"},{\"code\":\"L70.9\",\"display\":\"Acne, not otherwise specified\",\"system\":\"urn:oid:2.16.840.1.113883.6.90\"},{\"code\":\"11381005\",\"display\":\"Acne (disorder)\",\"system\":\"http://snomed.info/sct\"}],\"text\":\"Acne, not otherwise specified\"}  \n421                                                                                                                                          {\"coding\":[{\"code\":\"706.1\",\"display\":\"Acne, not otherwise specified\",\"system\":\"http://hl7.org/fhir/sid/icd-9-cm/diagnosis\"},{\"code\":\"L70.9\",\"display\":\"Acne, not otherwise specified\",\"system\":\"http://hl7.org/fhir/sid/icd-10-cm\"},{\"code\":\"11381005\",\"display\":\"Acne (disorder)\",\"system\":\"http://snomed.info/sct\"}],\"text\":\"Acne, not otherwise specified\"}  \n422                                           {\"coding\":[{\"code\":\"274533004\",\"display\":\"Abnormal findings on diagnostic imaging of lung (finding)\",\"system\":\"http://snomed.info/sct\"},{\"code\":\"793.19\",\"display\":\"Abnormal findings on diagnostic imaging of lung\",\"system\":\"http://hl7.org/fhir/sid/icd-9-cm/diagnosis\"},{\"code\":\"R91.8\",\"display\":\"Abnormal findings on diagnostic imaging of lung\",\"system\":\"urn:oid:2.16.840.1.113883.6.90\"}],\"text\":\"Abnormal findings on diagnostic imaging of lung\"}  \n423                                                                                                                                                                                                                                                                                                         {\"coding\":[{\"code\":\"274533004\",\"system\":\"urn:oid:2.16.840.1.113883.6.96\"},{\"code\":\"R91.8\",\"system\":\"urn:oid:2.16.840.1.113883.6.90\"}],\"text\":\"Abnormal findings on diagnostic imaging of lung\"}  \n424                                        {\"coding\":[{\"code\":\"274533004\",\"display\":\"Abnormal findings on diagnostic imaging of lung (finding)\",\"system\":\"http://snomed.info/sct\"},{\"code\":\"793.19\",\"display\":\"Abnormal findings on diagnostic imaging of lung\",\"system\":\"http://hl7.org/fhir/sid/icd-9-cm/diagnosis\"},{\"code\":\"R91.8\",\"display\":\"Abnormal findings on diagnostic imaging of lung\",\"system\":\"http://hl7.org/fhir/sid/icd-10-cm\"}],\"text\":\"Abnormal findings on diagnostic imaging of lung\"}  \n\n[425 rows x 14 columns]",
      "text/html": "<div>\n<style scoped>\n    .dataframe tbody tr th:only-of-type {\n        vertical-align: middle;\n    }\n\n    .dataframe tbody tr th {\n        vertical-align: top;\n    }\n\n    .dataframe thead th {\n        text-align: right;\n    }\n</style>\n<table border=\"1\" class=\"dataframe\">\n  <thead>\n    <tr style=\"text-align: right;\">\n      <th></th>\n      <th>uuid</th>\n      <th>code</th>\n      <th>display</th>\n      <th>terminology_version_uuid</th>\n      <th>additional_data</th>\n      <th>depends_on_property</th>\n      <th>depends_on_system</th>\n      <th>depends_on_value</th>\n      <th>depends_on_display</th>\n      <th>created_date</th>\n      <th>value_schema</th>\n      <th>value_simple</th>\n      <th>value_jsonb</th>\n      <th>value_string</th>\n    </tr>\n  </thead>\n  <tbody>\n    <tr>\n      <th>0</th>\n      <td>fb1105a7-c8b9-4461-89cd-5bc9f60d8364</td>\n      <td>{[{14040001000004109, Uncontrolled pain (finding), http://snomed.info/sct}, {R52, Uncontrolled pain, urn:oid:2.16.840.1.113883.6.90}], Uncontrolled pain}</td>\n      <td>Uncontrolled pain</td>\n      <td>50ed5f2c-7c4c-4586-a7d8-f3665d6380c0</td>\n      <td>{'automapping_target': '14040001000004109|Uncontrolled pain (finding)', 'automapping_evidence': 'Condition Code.text is an exact match for SNOMED PT', 'automapping_relationship': 'Equivalent', 'count_of_resources_affected': '1330'}</td>\n      <td></td>\n      <td></td>\n      <td></td>\n      <td></td>\n      <td>2023-03-01 00:00:00+00:00</td>\n      <td>http://projectronin.io/fhir/StructureDefinition/ronin-conceptMapSourceCodeableConcept</td>\n      <td>None</td>\n      <td>{\"coding\":[{\"code\":\"14040001000004109\",\"display\":\"Uncontrolled pain (finding)\",\"system\":\"http://snomed.info/sct\"},{\"code\":\"R52\",\"display\":\"Uncontrolled pain\",\"system\":\"urn:oid:2.16.840.1.113883.6.90\"}],\"text\":\"Uncontrolled pain\"}</td>\n      <td>{\"coding\":[{\"code\":\"14040001000004109\",\"display\":\"Uncontrolled pain (finding)\",\"system\":\"http://snomed.info/sct\"},{\"code\":\"R52\",\"display\":\"Uncontrolled pain\",\"system\":\"urn:oid:2.16.840.1.113883.6.90\"}],\"text\":\"Uncontrolled pain\"}</td>\n    </tr>\n    <tr>\n      <th>1</th>\n      <td>b4646298-292f-4d21-8bd8-f9c0166c1fd8</td>\n      <td>{\"coding\": [{\"system\": \"http://hl7.org/fhir/sid/icd-10-cm\", \"code\": \"R52\"}, {\"system\": \"http://snomed.info/sct\", \"code\": \"14040001000004109\"}], \"text\": \"Uncontrolled pain\"}</td>\n      <td>Uncontrolled pain</td>\n      <td>50ed5f2c-7c4c-4586-a7d8-f3665d6380c0</td>\n      <td>None</td>\n      <td></td>\n      <td></td>\n      <td></td>\n      <td></td>\n      <td>2023-12-07 15:10:13.719826+00:00</td>\n      <td>http://projectronin.io/fhir/StructureDefinition/ronin-conceptMapSourceCodeableConcept</td>\n      <td>None</td>\n      <td>{\"coding\":[{\"code\":\"14040001000004109\",\"system\":\"http://snomed.info/sct\"},{\"code\":\"R52\",\"system\":\"http://hl7.org/fhir/sid/icd-10-cm\"}],\"text\":\"Uncontrolled pain\"}</td>\n      <td>{\"coding\":[{\"code\":\"14040001000004109\",\"system\":\"http://snomed.info/sct\"},{\"code\":\"R52\",\"system\":\"http://hl7.org/fhir/sid/icd-10-cm\"}],\"text\":\"Uncontrolled pain\"}</td>\n    </tr>\n    <tr>\n      <th>2</th>\n      <td>cd970f63-99bb-47f8-a298-72025f6ede90</td>\n      <td>{[{1089991000119109, Oral ulcerative mucositis due to antineoplastic therapy (disorder), http://snomed.info/sct}, {528.01, Ulcerative oral mucositis due to antineoplastic therapy, http://hl7.org/fhir/sid/icd-9-cm/diagnosis}, {K12.31, Ulcerative oral mucositis due to antineoplastic therapy, urn:oid:2.16.840.1.113883.6.90}], Ulcerative oral mucositis due to antineoplastic therapy}</td>\n      <td>Ulcerative oral mucositis due to antineoplastic therapy</td>\n      <td>50ed5f2c-7c4c-4586-a7d8-f3665d6380c0</td>\n      <td>{'automapping_target': None, 'automapping_evidence': None, 'automapping_relationship': None, 'count_of_resources_affected': '3341'}</td>\n      <td></td>\n      <td></td>\n      <td></td>\n      <td></td>\n      <td>2023-03-01 00:00:00+00:00</td>\n      <td>http://projectronin.io/fhir/StructureDefinition/ronin-conceptMapSourceCodeableConcept</td>\n      <td>None</td>\n      <td>{\"coding\":[{\"code\":\"K12.31\",\"display\":\"Ulcerative oral mucositis due to antineoplastic therapy\",\"system\":\"urn:oid:2.16.840.1.113883.6.90\"},{\"code\":\"1089991000119109\",\"display\":\"Oral ulcerative mucositis due to antineoplastic therapy (disorder)\",\"system\":\"http://snomed.info/sct\"},{\"code\":\"528.01\",\"display\":\"Ulcerative oral mucositis due to antineoplastic therapy\",\"system\":\"http://hl7.org/fhir/sid/icd-9-cm/diagnosis\"}],\"text\":\"Ulcerative oral mucositis due to antineoplastic therapy\"}</td>\n      <td>{\"coding\":[{\"code\":\"K12.31\",\"display\":\"Ulcerative oral mucositis due to antineoplastic therapy\",\"system\":\"urn:oid:2.16.840.1.113883.6.90\"},{\"code\":\"1089991000119109\",\"display\":\"Oral ulcerative mucositis due to antineoplastic therapy (disorder)\",\"system\":\"http://snomed.info/sct\"},{\"code\":\"528.01\",\"display\":\"Ulcerative oral mucositis due to antineoplastic therapy\",\"system\":\"http://hl7.org/fhir/sid/icd-9-cm/diagnosis\"}],\"text\":\"Ulcerative oral mucositis due to antineoplastic therapy\"}</td>\n    </tr>\n    <tr>\n      <th>3</th>\n      <td>25e0a8d9-e93e-43fc-897c-be05578bdf1e</td>\n      <td>{[{K12.31, null, urn:oid:2.16.840.1.113883.6.90}, {1089991000119109, null, urn:oid:2.16.840.1.113883.6.96}], Ulcerative oral mucositis due to antineoplastic therapy}</td>\n      <td>Ulcerative oral mucositis due to antineoplastic therapy</td>\n      <td>50ed5f2c-7c4c-4586-a7d8-f3665d6380c0</td>\n      <td>{'automapping_target': None, 'automapping_evidence': None, 'automapping_relationship': None, 'count_of_resources_affected': '306'}</td>\n      <td></td>\n      <td></td>\n      <td></td>\n      <td></td>\n      <td>2023-03-01 00:00:00+00:00</td>\n      <td>http://projectronin.io/fhir/StructureDefinition/ronin-conceptMapSourceCodeableConcept</td>\n      <td>None</td>\n      <td>{\"coding\":[{\"code\":\"1089991000119109\",\"system\":\"urn:oid:2.16.840.1.113883.6.96\"},{\"code\":\"K12.31\",\"system\":\"urn:oid:2.16.840.1.113883.6.90\"}],\"text\":\"Ulcerative oral mucositis due to antineoplastic therapy\"}</td>\n      <td>{\"coding\":[{\"code\":\"1089991000119109\",\"system\":\"urn:oid:2.16.840.1.113883.6.96\"},{\"code\":\"K12.31\",\"system\":\"urn:oid:2.16.840.1.113883.6.90\"}],\"text\":\"Ulcerative oral mucositis due to antineoplastic therapy\"}</td>\n    </tr>\n    <tr>\n      <th>4</th>\n      <td>9ff86800-6c49-4f03-98ea-c648df4c55b0</td>\n      <td>{\"coding\": [{\"system\": \"http://hl7.org/fhir/sid/icd-9-cm/diagnosis\", \"code\": \"528.01\", \"display\": \"Ulcerative oral mucositis due to antineoplastic therapy\"}, {\"system\": \"http://hl7.org/fhir/sid/icd-10-cm\", \"code\": \"K12.31\", \"display\": \"Ulcerative oral mucositis due to antineoplastic therapy\"}], \"text\": \"Ulcerative oral mucositis due to antineoplastic therapy\"}</td>\n      <td>Ulcerative oral mucositis due to antineoplastic therapy</td>\n      <td>50ed5f2c-7c4c-4586-a7d8-f3665d6380c0</td>\n      <td>None</td>\n      <td></td>\n      <td></td>\n      <td></td>\n      <td></td>\n      <td>2023-12-07 15:10:13.719826+00:00</td>\n      <td>http://projectronin.io/fhir/StructureDefinition/ronin-conceptMapSourceCodeableConcept</td>\n      <td>None</td>\n      <td>{\"coding\":[{\"code\":\"528.01\",\"display\":\"Ulcerative oral mucositis due to antineoplastic therapy\",\"system\":\"http://hl7.org/fhir/sid/icd-9-cm/diagnosis\"},{\"code\":\"K12.31\",\"display\":\"Ulcerative oral mucositis due to antineoplastic therapy\",\"system\":\"http://hl7.org/fhir/sid/icd-10-cm\"}],\"text\":\"Ulcerative oral mucositis due to antineoplastic therapy\"}</td>\n      <td>{\"coding\":[{\"code\":\"528.01\",\"display\":\"Ulcerative oral mucositis due to antineoplastic therapy\",\"system\":\"http://hl7.org/fhir/sid/icd-9-cm/diagnosis\"},{\"code\":\"K12.31\",\"display\":\"Ulcerative oral mucositis due to antineoplastic therapy\",\"system\":\"http://hl7.org/fhir/sid/icd-10-cm\"}],\"text\":\"Ulcerative oral mucositis due to antineoplastic therapy\"}</td>\n    </tr>\n    <tr>\n      <th>...</th>\n      <td>...</td>\n      <td>...</td>\n      <td>...</td>\n      <td>...</td>\n      <td>...</td>\n      <td>...</td>\n      <td>...</td>\n      <td>...</td>\n      <td>...</td>\n      <td>...</td>\n      <td>...</td>\n      <td>...</td>\n      <td>...</td>\n      <td>...</td>\n    </tr>\n    <tr>\n      <th>420</th>\n      <td>212038a2-f811-423c-9d53-24f2a56b35e4</td>\n      <td>{[{11381005, Acne (disorder), http://snomed.info/sct}, {706.1, Acne, not otherwise specified, http://hl7.org/fhir/sid/icd-9-cm/diagnosis}, {L70.9, Acne, not otherwise specified, urn:oid:2.16.840.1.113883.6.90}], Acne, not otherwise specified}</td>\n      <td>Acne, not otherwise specified</td>\n      <td>50ed5f2c-7c4c-4586-a7d8-f3665d6380c0</td>\n      <td>{'automapping_target': None, 'automapping_evidence': None, 'automapping_relationship': None, 'count_of_resources_affected': '133'}</td>\n      <td></td>\n      <td></td>\n      <td></td>\n      <td></td>\n      <td>2023-03-01 00:00:00+00:00</td>\n      <td>http://projectronin.io/fhir/StructureDefinition/ronin-conceptMapSourceCodeableConcept</td>\n      <td>None</td>\n      <td>{\"coding\":[{\"code\":\"706.1\",\"display\":\"Acne, not otherwise specified\",\"system\":\"http://hl7.org/fhir/sid/icd-9-cm/diagnosis\"},{\"code\":\"L70.9\",\"display\":\"Acne, not otherwise specified\",\"system\":\"urn:oid:2.16.840.1.113883.6.90\"},{\"code\":\"11381005\",\"display\":\"Acne (disorder)\",\"system\":\"http://snomed.info/sct\"}],\"text\":\"Acne, not otherwise specified\"}</td>\n      <td>{\"coding\":[{\"code\":\"706.1\",\"display\":\"Acne, not otherwise specified\",\"system\":\"http://hl7.org/fhir/sid/icd-9-cm/diagnosis\"},{\"code\":\"L70.9\",\"display\":\"Acne, not otherwise specified\",\"system\":\"urn:oid:2.16.840.1.113883.6.90\"},{\"code\":\"11381005\",\"display\":\"Acne (disorder)\",\"system\":\"http://snomed.info/sct\"}],\"text\":\"Acne, not otherwise specified\"}</td>\n    </tr>\n    <tr>\n      <th>421</th>\n      <td>ea8b4079-119d-4254-926a-8b55f5778076</td>\n      <td>{\"coding\": [{\"system\": \"http://snomed.info/sct\", \"code\": \"11381005\", \"display\": \"Acne (disorder)\"}, {\"system\": \"http://hl7.org/fhir/sid/icd-9-cm/diagnosis\", \"code\": \"706.1\", \"display\": \"Acne, not otherwise specified\"}, {\"system\": \"http://hl7.org/fhir/sid/icd-10-cm\", \"code\": \"L70.9\", \"display\": \"Acne, not otherwise specified\"}], \"text\": \"Acne, not otherwise specified\"}</td>\n      <td>Acne, not otherwise specified</td>\n      <td>50ed5f2c-7c4c-4586-a7d8-f3665d6380c0</td>\n      <td>None</td>\n      <td></td>\n      <td></td>\n      <td></td>\n      <td></td>\n      <td>2023-12-07 15:07:57.139917+00:00</td>\n      <td>http://projectronin.io/fhir/StructureDefinition/ronin-conceptMapSourceCodeableConcept</td>\n      <td>None</td>\n      <td>{\"coding\":[{\"code\":\"706.1\",\"display\":\"Acne, not otherwise specified\",\"system\":\"http://hl7.org/fhir/sid/icd-9-cm/diagnosis\"},{\"code\":\"L70.9\",\"display\":\"Acne, not otherwise specified\",\"system\":\"http://hl7.org/fhir/sid/icd-10-cm\"},{\"code\":\"11381005\",\"display\":\"Acne (disorder)\",\"system\":\"http://snomed.info/sct\"}],\"text\":\"Acne, not otherwise specified\"}</td>\n      <td>{\"coding\":[{\"code\":\"706.1\",\"display\":\"Acne, not otherwise specified\",\"system\":\"http://hl7.org/fhir/sid/icd-9-cm/diagnosis\"},{\"code\":\"L70.9\",\"display\":\"Acne, not otherwise specified\",\"system\":\"http://hl7.org/fhir/sid/icd-10-cm\"},{\"code\":\"11381005\",\"display\":\"Acne (disorder)\",\"system\":\"http://snomed.info/sct\"}],\"text\":\"Acne, not otherwise specified\"}</td>\n    </tr>\n    <tr>\n      <th>422</th>\n      <td>3a9c520e-4e4f-4b1e-9af3-f7f9c90ab1ce</td>\n      <td>{[{274533004, Abnormal findings on diagnostic imaging of lung (finding), http://snomed.info/sct}, {793.19, Abnormal findings on diagnostic imaging of lung, http://hl7.org/fhir/sid/icd-9-cm/diagnosis}, {R91.8, Abnormal findings on diagnostic imaging of lung, urn:oid:2.16.840.1.113883.6.90}], Abnormal findings on diagnostic imaging of lung}</td>\n      <td>Abnormal findings on diagnostic imaging of lung</td>\n      <td>50ed5f2c-7c4c-4586-a7d8-f3665d6380c0</td>\n      <td>{'automapping_target': '274533004|Abnormal findings on diagnostic imaging of lung (finding)', 'automapping_evidence': 'Condition Code.text is an exact match for SNOMED PT', 'automapping_relationship': 'Equivalent', 'count_of_resources_affected': 9047}</td>\n      <td></td>\n      <td></td>\n      <td></td>\n      <td></td>\n      <td>2023-03-01 00:00:00+00:00</td>\n      <td>http://projectronin.io/fhir/StructureDefinition/ronin-conceptMapSourceCodeableConcept</td>\n      <td>None</td>\n      <td>{\"coding\":[{\"code\":\"274533004\",\"display\":\"Abnormal findings on diagnostic imaging of lung (finding)\",\"system\":\"http://snomed.info/sct\"},{\"code\":\"793.19\",\"display\":\"Abnormal findings on diagnostic imaging of lung\",\"system\":\"http://hl7.org/fhir/sid/icd-9-cm/diagnosis\"},{\"code\":\"R91.8\",\"display\":\"Abnormal findings on diagnostic imaging of lung\",\"system\":\"urn:oid:2.16.840.1.113883.6.90\"}],\"text\":\"Abnormal findings on diagnostic imaging of lung\"}</td>\n      <td>{\"coding\":[{\"code\":\"274533004\",\"display\":\"Abnormal findings on diagnostic imaging of lung (finding)\",\"system\":\"http://snomed.info/sct\"},{\"code\":\"793.19\",\"display\":\"Abnormal findings on diagnostic imaging of lung\",\"system\":\"http://hl7.org/fhir/sid/icd-9-cm/diagnosis\"},{\"code\":\"R91.8\",\"display\":\"Abnormal findings on diagnostic imaging of lung\",\"system\":\"urn:oid:2.16.840.1.113883.6.90\"}],\"text\":\"Abnormal findings on diagnostic imaging of lung\"}</td>\n    </tr>\n    <tr>\n      <th>423</th>\n      <td>f1065ca0-b060-4126-b670-15edbc6dae8b</td>\n      <td>{[{R91.8, null, urn:oid:2.16.840.1.113883.6.90}, {274533004, null, urn:oid:2.16.840.1.113883.6.96}], Abnormal findings on diagnostic imaging of lung}</td>\n      <td>Abnormal findings on diagnostic imaging of lung</td>\n      <td>50ed5f2c-7c4c-4586-a7d8-f3665d6380c0</td>\n      <td>{'automapping_target': '274533004|Abnormal findings on diagnostic imaging of lung (finding)', 'automapping_evidence': 'Condition Code.text is an exact match for SNOMED PT', 'automapping_relationship': 'Equivalent', 'count_of_resources_affected': '1157'}</td>\n      <td></td>\n      <td></td>\n      <td></td>\n      <td></td>\n      <td>2023-03-01 00:00:00+00:00</td>\n      <td>http://projectronin.io/fhir/StructureDefinition/ronin-conceptMapSourceCodeableConcept</td>\n      <td>None</td>\n      <td>{\"coding\":[{\"code\":\"274533004\",\"system\":\"urn:oid:2.16.840.1.113883.6.96\"},{\"code\":\"R91.8\",\"system\":\"urn:oid:2.16.840.1.113883.6.90\"}],\"text\":\"Abnormal findings on diagnostic imaging of lung\"}</td>\n      <td>{\"coding\":[{\"code\":\"274533004\",\"system\":\"urn:oid:2.16.840.1.113883.6.96\"},{\"code\":\"R91.8\",\"system\":\"urn:oid:2.16.840.1.113883.6.90\"}],\"text\":\"Abnormal findings on diagnostic imaging of lung\"}</td>\n    </tr>\n    <tr>\n      <th>424</th>\n      <td>df8eb04b-01a1-44a4-a037-cf07978d5d21</td>\n      <td>{\"coding\": [{\"system\": \"http://snomed.info/sct\", \"code\": \"274533004\", \"display\": \"Abnormal findings on diagnostic imaging of lung (finding)\"}, {\"system\": \"http://hl7.org/fhir/sid/icd-9-cm/diagnosis\", \"code\": \"793.19\", \"display\": \"Abnormal findings on diagnostic imaging of lung\"}, {\"system\": \"http://hl7.org/fhir/sid/icd-10-cm\", \"code\": \"R91.8\", \"display\": \"Abnormal findings on diagnostic imaging of lung\"}], \"text\": \"Abnormal findings on diagnostic imaging of lung\"}</td>\n      <td>Abnormal findings on diagnostic imaging of lung</td>\n      <td>50ed5f2c-7c4c-4586-a7d8-f3665d6380c0</td>\n      <td>None</td>\n      <td></td>\n      <td></td>\n      <td></td>\n      <td></td>\n      <td>2023-12-07 15:07:57.139917+00:00</td>\n      <td>http://projectronin.io/fhir/StructureDefinition/ronin-conceptMapSourceCodeableConcept</td>\n      <td>None</td>\n      <td>{\"coding\":[{\"code\":\"274533004\",\"display\":\"Abnormal findings on diagnostic imaging of lung (finding)\",\"system\":\"http://snomed.info/sct\"},{\"code\":\"793.19\",\"display\":\"Abnormal findings on diagnostic imaging of lung\",\"system\":\"http://hl7.org/fhir/sid/icd-9-cm/diagnosis\"},{\"code\":\"R91.8\",\"display\":\"Abnormal findings on diagnostic imaging of lung\",\"system\":\"http://hl7.org/fhir/sid/icd-10-cm\"}],\"text\":\"Abnormal findings on diagnostic imaging of lung\"}</td>\n      <td>{\"coding\":[{\"code\":\"274533004\",\"display\":\"Abnormal findings on diagnostic imaging of lung (finding)\",\"system\":\"http://snomed.info/sct\"},{\"code\":\"793.19\",\"display\":\"Abnormal findings on diagnostic imaging of lung\",\"system\":\"http://hl7.org/fhir/sid/icd-9-cm/diagnosis\"},{\"code\":\"R91.8\",\"display\":\"Abnormal findings on diagnostic imaging of lung\",\"system\":\"http://hl7.org/fhir/sid/icd-10-cm\"}],\"text\":\"Abnormal findings on diagnostic imaging of lung\"}</td>\n    </tr>\n  </tbody>\n</table>\n<p>425 rows × 14 columns</p>\n</div>"
     },
     "execution_count": 333,
     "metadata": {},
     "output_type": "execute_result"
    }
   ],
   "source": [
    "df"
   ],
   "metadata": {
    "collapsed": false
   }
  },
  {
   "cell_type": "code",
   "execution_count": 264,
   "outputs": [],
   "source": [
    "# df['is_duplicate'] = df.duplicated(subset=['value_string'], keep=False)"
   ],
   "metadata": {
    "collapsed": false
   }
  },
  {
   "cell_type": "code",
   "execution_count": 295,
   "outputs": [],
   "source": [
    "# df.groupby(['is_duplicate']).count()"
   ],
   "metadata": {
    "collapsed": false
   }
  },
  {
   "cell_type": "code",
   "execution_count": 297,
   "outputs": [],
   "source": [
    "# df['normalized_code'] = df['value_jsonb'].apply(normalize_source_codeable_concept)"
   ],
   "metadata": {
    "collapsed": false
   }
  },
  {
   "cell_type": "code",
   "execution_count": 334,
   "outputs": [],
   "source": [
    "# prepare_json_format_for_sql(json_string: str) -> (str, str, str, str):\n",
    "\"\"\"\n",
    "Normalizes the JSON string to an expected format with double quotes and no wasted space - calls helper functions\n",
    "in the correct order: load the object, normalize to RCDM (sorts lists), serialize (sorts keys, strips space)\n",
    "@return\n",
    "    code_schema (string) - FHIR primitive name, DataExtensionUrls value, or message prefixed with \"format issue:\"\n",
    "    code_simple (string) - old_code if primitive or old_code has \"format issue: \" - else None\n",
    "    code_jsonb (string) - None if primitive or old_code has \"format issue:\" - else, the object with that code_schema\n",
    "        - note: because this function prepares these values for SQL INSERT query formation, this value is a string -\n",
    "        all JSON uses double quotes, and if there is a single quote value in the JSON, it is '' for SQL escaping\n",
    "    code_string (string) - either code_simple, or the code_jsonb binary JSON value correctly serialized to a string\n",
    "\"\"\"\n",
    "df[['code_schema', 'code_simple', 'code_jsonb', 'code_string']] = df.apply(lambda row: prepare_json_format_for_sql(row['value_string']), axis=1, result_type='expand')\n"
   ],
   "metadata": {
    "collapsed": false
   }
  },
  {
   "cell_type": "code",
   "execution_count": 335,
   "outputs": [
    {
     "data": {
      "text/plain": "                                     uuid  \\\n0    fb1105a7-c8b9-4461-89cd-5bc9f60d8364   \n1    b4646298-292f-4d21-8bd8-f9c0166c1fd8   \n2    cd970f63-99bb-47f8-a298-72025f6ede90   \n3    25e0a8d9-e93e-43fc-897c-be05578bdf1e   \n4    9ff86800-6c49-4f03-98ea-c648df4c55b0   \n..                                    ...   \n420  212038a2-f811-423c-9d53-24f2a56b35e4   \n421  ea8b4079-119d-4254-926a-8b55f5778076   \n422  3a9c520e-4e4f-4b1e-9af3-f7f9c90ab1ce   \n423  f1065ca0-b060-4126-b670-15edbc6dae8b   \n424  df8eb04b-01a1-44a4-a037-cf07978d5d21   \n\n                                                                                                                                                                                                                                                                                                                                                                                                                                                                                     code  \\\n0                                                                                                                                                                                                                                                                                                                               {[{14040001000004109, Uncontrolled pain (finding), http://snomed.info/sct}, {R52, Uncontrolled pain, urn:oid:2.16.840.1.113883.6.90}], Uncontrolled pain}   \n1                                                                                                                                                                                                                                                                                                            {\"coding\": [{\"system\": \"http://hl7.org/fhir/sid/icd-10-cm\", \"code\": \"R52\"}, {\"system\": \"http://snomed.info/sct\", \"code\": \"14040001000004109\"}], \"text\": \"Uncontrolled pain\"}   \n2                                                                                           {[{1089991000119109, Oral ulcerative mucositis due to antineoplastic therapy (disorder), http://snomed.info/sct}, {528.01, Ulcerative oral mucositis due to antineoplastic therapy, http://hl7.org/fhir/sid/icd-9-cm/diagnosis}, {K12.31, Ulcerative oral mucositis due to antineoplastic therapy, urn:oid:2.16.840.1.113883.6.90}], Ulcerative oral mucositis due to antineoplastic therapy}   \n3                                                                                                                                                                                                                                                                                                                   {[{K12.31, null, urn:oid:2.16.840.1.113883.6.90}, {1089991000119109, null, urn:oid:2.16.840.1.113883.6.96}], Ulcerative oral mucositis due to antineoplastic therapy}   \n4                                                                                                              {\"coding\": [{\"system\": \"http://hl7.org/fhir/sid/icd-9-cm/diagnosis\", \"code\": \"528.01\", \"display\": \"Ulcerative oral mucositis due to antineoplastic therapy\"}, {\"system\": \"http://hl7.org/fhir/sid/icd-10-cm\", \"code\": \"K12.31\", \"display\": \"Ulcerative oral mucositis due to antineoplastic therapy\"}], \"text\": \"Ulcerative oral mucositis due to antineoplastic therapy\"}   \n..                                                                                                                                                                                                                                                                                                                                                                                                                                                                                    ...   \n420                                                                                                                                                                                                                                    {[{11381005, Acne (disorder), http://snomed.info/sct}, {706.1, Acne, not otherwise specified, http://hl7.org/fhir/sid/icd-9-cm/diagnosis}, {L70.9, Acne, not otherwise specified, urn:oid:2.16.840.1.113883.6.90}], Acne, not otherwise specified}   \n421                                                                                                    {\"coding\": [{\"system\": \"http://snomed.info/sct\", \"code\": \"11381005\", \"display\": \"Acne (disorder)\"}, {\"system\": \"http://hl7.org/fhir/sid/icd-9-cm/diagnosis\", \"code\": \"706.1\", \"display\": \"Acne, not otherwise specified\"}, {\"system\": \"http://hl7.org/fhir/sid/icd-10-cm\", \"code\": \"L70.9\", \"display\": \"Acne, not otherwise specified\"}], \"text\": \"Acne, not otherwise specified\"}   \n422                                                                                                                                  {[{274533004, Abnormal findings on diagnostic imaging of lung (finding), http://snomed.info/sct}, {793.19, Abnormal findings on diagnostic imaging of lung, http://hl7.org/fhir/sid/icd-9-cm/diagnosis}, {R91.8, Abnormal findings on diagnostic imaging of lung, urn:oid:2.16.840.1.113883.6.90}], Abnormal findings on diagnostic imaging of lung}   \n423                                                                                                                                                                                                                                                                                                                                 {[{R91.8, null, urn:oid:2.16.840.1.113883.6.90}, {274533004, null, urn:oid:2.16.840.1.113883.6.96}], Abnormal findings on diagnostic imaging of lung}   \n424  {\"coding\": [{\"system\": \"http://snomed.info/sct\", \"code\": \"274533004\", \"display\": \"Abnormal findings on diagnostic imaging of lung (finding)\"}, {\"system\": \"http://hl7.org/fhir/sid/icd-9-cm/diagnosis\", \"code\": \"793.19\", \"display\": \"Abnormal findings on diagnostic imaging of lung\"}, {\"system\": \"http://hl7.org/fhir/sid/icd-10-cm\", \"code\": \"R91.8\", \"display\": \"Abnormal findings on diagnostic imaging of lung\"}], \"text\": \"Abnormal findings on diagnostic imaging of lung\"}   \n\n                                                     display  \\\n0                                          Uncontrolled pain   \n1                                          Uncontrolled pain   \n2    Ulcerative oral mucositis due to antineoplastic therapy   \n3    Ulcerative oral mucositis due to antineoplastic therapy   \n4    Ulcerative oral mucositis due to antineoplastic therapy   \n..                                                       ...   \n420                            Acne, not otherwise specified   \n421                            Acne, not otherwise specified   \n422          Abnormal findings on diagnostic imaging of lung   \n423          Abnormal findings on diagnostic imaging of lung   \n424          Abnormal findings on diagnostic imaging of lung   \n\n                 terminology_version_uuid  \\\n0    50ed5f2c-7c4c-4586-a7d8-f3665d6380c0   \n1    50ed5f2c-7c4c-4586-a7d8-f3665d6380c0   \n2    50ed5f2c-7c4c-4586-a7d8-f3665d6380c0   \n3    50ed5f2c-7c4c-4586-a7d8-f3665d6380c0   \n4    50ed5f2c-7c4c-4586-a7d8-f3665d6380c0   \n..                                    ...   \n420  50ed5f2c-7c4c-4586-a7d8-f3665d6380c0   \n421  50ed5f2c-7c4c-4586-a7d8-f3665d6380c0   \n422  50ed5f2c-7c4c-4586-a7d8-f3665d6380c0   \n423  50ed5f2c-7c4c-4586-a7d8-f3665d6380c0   \n424  50ed5f2c-7c4c-4586-a7d8-f3665d6380c0   \n\n                                                                                                                                                                                                                                                   additional_data  \\\n0                          {'automapping_target': '14040001000004109|Uncontrolled pain (finding)', 'automapping_evidence': 'Condition Code.text is an exact match for SNOMED PT', 'automapping_relationship': 'Equivalent', 'count_of_resources_affected': '1330'}   \n1                                                                                                                                                                                                                                                             None   \n2                                                                                                                              {'automapping_target': None, 'automapping_evidence': None, 'automapping_relationship': None, 'count_of_resources_affected': '3341'}   \n3                                                                                                                               {'automapping_target': None, 'automapping_evidence': None, 'automapping_relationship': None, 'count_of_resources_affected': '306'}   \n4                                                                                                                                                                                                                                                             None   \n..                                                                                                                                                                                                                                                             ...   \n420                                                                                                                             {'automapping_target': None, 'automapping_evidence': None, 'automapping_relationship': None, 'count_of_resources_affected': '133'}   \n421                                                                                                                                                                                                                                                           None   \n422    {'automapping_target': '274533004|Abnormal findings on diagnostic imaging of lung (finding)', 'automapping_evidence': 'Condition Code.text is an exact match for SNOMED PT', 'automapping_relationship': 'Equivalent', 'count_of_resources_affected': 9047}   \n423  {'automapping_target': '274533004|Abnormal findings on diagnostic imaging of lung (finding)', 'automapping_evidence': 'Condition Code.text is an exact match for SNOMED PT', 'automapping_relationship': 'Equivalent', 'count_of_resources_affected': '1157'}   \n424                                                                                                                                                                                                                                                           None   \n\n    depends_on_property depends_on_system depends_on_value depends_on_display  \\\n0                                                                               \n1                                                                               \n2                                                                               \n3                                                                               \n4                                                                               \n..                  ...               ...              ...                ...   \n420                                                                             \n421                                                                             \n422                                                                             \n423                                                                             \n424                                                                             \n\n                        created_date  \\\n0          2023-03-01 00:00:00+00:00   \n1   2023-12-07 15:10:13.719826+00:00   \n2          2023-03-01 00:00:00+00:00   \n3          2023-03-01 00:00:00+00:00   \n4   2023-12-07 15:10:13.719826+00:00   \n..                               ...   \n420        2023-03-01 00:00:00+00:00   \n421 2023-12-07 15:07:57.139917+00:00   \n422        2023-03-01 00:00:00+00:00   \n423        2023-03-01 00:00:00+00:00   \n424 2023-12-07 15:07:57.139917+00:00   \n\n                                                                              value_schema  \\\n0    http://projectronin.io/fhir/StructureDefinition/ronin-conceptMapSourceCodeableConcept   \n1    http://projectronin.io/fhir/StructureDefinition/ronin-conceptMapSourceCodeableConcept   \n2    http://projectronin.io/fhir/StructureDefinition/ronin-conceptMapSourceCodeableConcept   \n3    http://projectronin.io/fhir/StructureDefinition/ronin-conceptMapSourceCodeableConcept   \n4    http://projectronin.io/fhir/StructureDefinition/ronin-conceptMapSourceCodeableConcept   \n..                                                                                     ...   \n420  http://projectronin.io/fhir/StructureDefinition/ronin-conceptMapSourceCodeableConcept   \n421  http://projectronin.io/fhir/StructureDefinition/ronin-conceptMapSourceCodeableConcept   \n422  http://projectronin.io/fhir/StructureDefinition/ronin-conceptMapSourceCodeableConcept   \n423  http://projectronin.io/fhir/StructureDefinition/ronin-conceptMapSourceCodeableConcept   \n424  http://projectronin.io/fhir/StructureDefinition/ronin-conceptMapSourceCodeableConcept   \n\n    value_simple  \\\n0           None   \n1           None   \n2           None   \n3           None   \n4           None   \n..           ...   \n420         None   \n421         None   \n422         None   \n423         None   \n424         None   \n\n                                                                                                                                                                                                                                                                                                                                                                                                                                                                                                value_jsonb  \\\n0                                                                                                                                                                                                                                                                     {\"coding\":[{\"code\":\"14040001000004109\",\"display\":\"Uncontrolled pain (finding)\",\"system\":\"http://snomed.info/sct\"},{\"code\":\"R52\",\"display\":\"Uncontrolled pain\",\"system\":\"urn:oid:2.16.840.1.113883.6.90\"}],\"text\":\"Uncontrolled pain\"}   \n1                                                                                                                                                                                                                                                                                                                                        {\"coding\":[{\"code\":\"14040001000004109\",\"system\":\"http://snomed.info/sct\"},{\"code\":\"R52\",\"system\":\"http://hl7.org/fhir/sid/icd-10-cm\"}],\"text\":\"Uncontrolled pain\"}   \n2    {\"coding\":[{\"code\":\"K12.31\",\"display\":\"Ulcerative oral mucositis due to antineoplastic therapy\",\"system\":\"urn:oid:2.16.840.1.113883.6.90\"},{\"code\":\"1089991000119109\",\"display\":\"Oral ulcerative mucositis due to antineoplastic therapy (disorder)\",\"system\":\"http://snomed.info/sct\"},{\"code\":\"528.01\",\"display\":\"Ulcerative oral mucositis due to antineoplastic therapy\",\"system\":\"http://hl7.org/fhir/sid/icd-9-cm/diagnosis\"}],\"text\":\"Ulcerative oral mucositis due to antineoplastic therapy\"}   \n3                                                                                                                                                                                                                                                                                           {\"coding\":[{\"code\":\"1089991000119109\",\"system\":\"urn:oid:2.16.840.1.113883.6.96\"},{\"code\":\"K12.31\",\"system\":\"urn:oid:2.16.840.1.113883.6.90\"}],\"text\":\"Ulcerative oral mucositis due to antineoplastic therapy\"}   \n4                                                                                                                                              {\"coding\":[{\"code\":\"528.01\",\"display\":\"Ulcerative oral mucositis due to antineoplastic therapy\",\"system\":\"http://hl7.org/fhir/sid/icd-9-cm/diagnosis\"},{\"code\":\"K12.31\",\"display\":\"Ulcerative oral mucositis due to antineoplastic therapy\",\"system\":\"http://hl7.org/fhir/sid/icd-10-cm\"}],\"text\":\"Ulcerative oral mucositis due to antineoplastic therapy\"}   \n..                                                                                                                                                                                                                                                                                                                                                                                                                                                                                                      ...   \n420                                                                                                                                             {\"coding\":[{\"code\":\"706.1\",\"display\":\"Acne, not otherwise specified\",\"system\":\"http://hl7.org/fhir/sid/icd-9-cm/diagnosis\"},{\"code\":\"L70.9\",\"display\":\"Acne, not otherwise specified\",\"system\":\"urn:oid:2.16.840.1.113883.6.90\"},{\"code\":\"11381005\",\"display\":\"Acne (disorder)\",\"system\":\"http://snomed.info/sct\"}],\"text\":\"Acne, not otherwise specified\"}   \n421                                                                                                                                          {\"coding\":[{\"code\":\"706.1\",\"display\":\"Acne, not otherwise specified\",\"system\":\"http://hl7.org/fhir/sid/icd-9-cm/diagnosis\"},{\"code\":\"L70.9\",\"display\":\"Acne, not otherwise specified\",\"system\":\"http://hl7.org/fhir/sid/icd-10-cm\"},{\"code\":\"11381005\",\"display\":\"Acne (disorder)\",\"system\":\"http://snomed.info/sct\"}],\"text\":\"Acne, not otherwise specified\"}   \n422                                           {\"coding\":[{\"code\":\"274533004\",\"display\":\"Abnormal findings on diagnostic imaging of lung (finding)\",\"system\":\"http://snomed.info/sct\"},{\"code\":\"793.19\",\"display\":\"Abnormal findings on diagnostic imaging of lung\",\"system\":\"http://hl7.org/fhir/sid/icd-9-cm/diagnosis\"},{\"code\":\"R91.8\",\"display\":\"Abnormal findings on diagnostic imaging of lung\",\"system\":\"urn:oid:2.16.840.1.113883.6.90\"}],\"text\":\"Abnormal findings on diagnostic imaging of lung\"}   \n423                                                                                                                                                                                                                                                                                                         {\"coding\":[{\"code\":\"274533004\",\"system\":\"urn:oid:2.16.840.1.113883.6.96\"},{\"code\":\"R91.8\",\"system\":\"urn:oid:2.16.840.1.113883.6.90\"}],\"text\":\"Abnormal findings on diagnostic imaging of lung\"}   \n424                                        {\"coding\":[{\"code\":\"274533004\",\"display\":\"Abnormal findings on diagnostic imaging of lung (finding)\",\"system\":\"http://snomed.info/sct\"},{\"code\":\"793.19\",\"display\":\"Abnormal findings on diagnostic imaging of lung\",\"system\":\"http://hl7.org/fhir/sid/icd-9-cm/diagnosis\"},{\"code\":\"R91.8\",\"display\":\"Abnormal findings on diagnostic imaging of lung\",\"system\":\"http://hl7.org/fhir/sid/icd-10-cm\"}],\"text\":\"Abnormal findings on diagnostic imaging of lung\"}   \n\n                                                                                                                                                                                                                                                                                                                                                                                                                                                                                               value_string  \\\n0                                                                                                                                                                                                                                                                     {\"coding\":[{\"code\":\"14040001000004109\",\"display\":\"Uncontrolled pain (finding)\",\"system\":\"http://snomed.info/sct\"},{\"code\":\"R52\",\"display\":\"Uncontrolled pain\",\"system\":\"urn:oid:2.16.840.1.113883.6.90\"}],\"text\":\"Uncontrolled pain\"}   \n1                                                                                                                                                                                                                                                                                                                                        {\"coding\":[{\"code\":\"14040001000004109\",\"system\":\"http://snomed.info/sct\"},{\"code\":\"R52\",\"system\":\"http://hl7.org/fhir/sid/icd-10-cm\"}],\"text\":\"Uncontrolled pain\"}   \n2    {\"coding\":[{\"code\":\"K12.31\",\"display\":\"Ulcerative oral mucositis due to antineoplastic therapy\",\"system\":\"urn:oid:2.16.840.1.113883.6.90\"},{\"code\":\"1089991000119109\",\"display\":\"Oral ulcerative mucositis due to antineoplastic therapy (disorder)\",\"system\":\"http://snomed.info/sct\"},{\"code\":\"528.01\",\"display\":\"Ulcerative oral mucositis due to antineoplastic therapy\",\"system\":\"http://hl7.org/fhir/sid/icd-9-cm/diagnosis\"}],\"text\":\"Ulcerative oral mucositis due to antineoplastic therapy\"}   \n3                                                                                                                                                                                                                                                                                           {\"coding\":[{\"code\":\"1089991000119109\",\"system\":\"urn:oid:2.16.840.1.113883.6.96\"},{\"code\":\"K12.31\",\"system\":\"urn:oid:2.16.840.1.113883.6.90\"}],\"text\":\"Ulcerative oral mucositis due to antineoplastic therapy\"}   \n4                                                                                                                                              {\"coding\":[{\"code\":\"528.01\",\"display\":\"Ulcerative oral mucositis due to antineoplastic therapy\",\"system\":\"http://hl7.org/fhir/sid/icd-9-cm/diagnosis\"},{\"code\":\"K12.31\",\"display\":\"Ulcerative oral mucositis due to antineoplastic therapy\",\"system\":\"http://hl7.org/fhir/sid/icd-10-cm\"}],\"text\":\"Ulcerative oral mucositis due to antineoplastic therapy\"}   \n..                                                                                                                                                                                                                                                                                                                                                                                                                                                                                                      ...   \n420                                                                                                                                             {\"coding\":[{\"code\":\"706.1\",\"display\":\"Acne, not otherwise specified\",\"system\":\"http://hl7.org/fhir/sid/icd-9-cm/diagnosis\"},{\"code\":\"L70.9\",\"display\":\"Acne, not otherwise specified\",\"system\":\"urn:oid:2.16.840.1.113883.6.90\"},{\"code\":\"11381005\",\"display\":\"Acne (disorder)\",\"system\":\"http://snomed.info/sct\"}],\"text\":\"Acne, not otherwise specified\"}   \n421                                                                                                                                          {\"coding\":[{\"code\":\"706.1\",\"display\":\"Acne, not otherwise specified\",\"system\":\"http://hl7.org/fhir/sid/icd-9-cm/diagnosis\"},{\"code\":\"L70.9\",\"display\":\"Acne, not otherwise specified\",\"system\":\"http://hl7.org/fhir/sid/icd-10-cm\"},{\"code\":\"11381005\",\"display\":\"Acne (disorder)\",\"system\":\"http://snomed.info/sct\"}],\"text\":\"Acne, not otherwise specified\"}   \n422                                           {\"coding\":[{\"code\":\"274533004\",\"display\":\"Abnormal findings on diagnostic imaging of lung (finding)\",\"system\":\"http://snomed.info/sct\"},{\"code\":\"793.19\",\"display\":\"Abnormal findings on diagnostic imaging of lung\",\"system\":\"http://hl7.org/fhir/sid/icd-9-cm/diagnosis\"},{\"code\":\"R91.8\",\"display\":\"Abnormal findings on diagnostic imaging of lung\",\"system\":\"urn:oid:2.16.840.1.113883.6.90\"}],\"text\":\"Abnormal findings on diagnostic imaging of lung\"}   \n423                                                                                                                                                                                                                                                                                                         {\"coding\":[{\"code\":\"274533004\",\"system\":\"urn:oid:2.16.840.1.113883.6.96\"},{\"code\":\"R91.8\",\"system\":\"urn:oid:2.16.840.1.113883.6.90\"}],\"text\":\"Abnormal findings on diagnostic imaging of lung\"}   \n424                                        {\"coding\":[{\"code\":\"274533004\",\"display\":\"Abnormal findings on diagnostic imaging of lung (finding)\",\"system\":\"http://snomed.info/sct\"},{\"code\":\"793.19\",\"display\":\"Abnormal findings on diagnostic imaging of lung\",\"system\":\"http://hl7.org/fhir/sid/icd-9-cm/diagnosis\"},{\"code\":\"R91.8\",\"display\":\"Abnormal findings on diagnostic imaging of lung\",\"system\":\"http://hl7.org/fhir/sid/icd-10-cm\"}],\"text\":\"Abnormal findings on diagnostic imaging of lung\"}   \n\n                                                                               code_schema  \\\n0    http://projectronin.io/fhir/StructureDefinition/ronin-conceptMapSourceCodeableConcept   \n1    http://projectronin.io/fhir/StructureDefinition/ronin-conceptMapSourceCodeableConcept   \n2    http://projectronin.io/fhir/StructureDefinition/ronin-conceptMapSourceCodeableConcept   \n3    http://projectronin.io/fhir/StructureDefinition/ronin-conceptMapSourceCodeableConcept   \n4    http://projectronin.io/fhir/StructureDefinition/ronin-conceptMapSourceCodeableConcept   \n..                                                                                     ...   \n420  http://projectronin.io/fhir/StructureDefinition/ronin-conceptMapSourceCodeableConcept   \n421  http://projectronin.io/fhir/StructureDefinition/ronin-conceptMapSourceCodeableConcept   \n422  http://projectronin.io/fhir/StructureDefinition/ronin-conceptMapSourceCodeableConcept   \n423  http://projectronin.io/fhir/StructureDefinition/ronin-conceptMapSourceCodeableConcept   \n424  http://projectronin.io/fhir/StructureDefinition/ronin-conceptMapSourceCodeableConcept   \n\n    code_simple  \\\n0          None   \n1          None   \n2          None   \n3          None   \n4          None   \n..          ...   \n420        None   \n421        None   \n422        None   \n423        None   \n424        None   \n\n                                                                                                                                                                                                                                                                                                                                                                                                                                                                                                 code_jsonb  \\\n0                                                                                                                                                                                                                                                                     {\"coding\":[{\"code\":\"14040001000004109\",\"display\":\"Uncontrolled pain (finding)\",\"system\":\"http://snomed.info/sct\"},{\"code\":\"R52\",\"display\":\"Uncontrolled pain\",\"system\":\"urn:oid:2.16.840.1.113883.6.90\"}],\"text\":\"Uncontrolled pain\"}   \n1                                                                                                                                                                                                                                                                                                                                        {\"coding\":[{\"code\":\"14040001000004109\",\"system\":\"http://snomed.info/sct\"},{\"code\":\"R52\",\"system\":\"http://hl7.org/fhir/sid/icd-10-cm\"}],\"text\":\"Uncontrolled pain\"}   \n2    {\"coding\":[{\"code\":\"K12.31\",\"display\":\"Ulcerative oral mucositis due to antineoplastic therapy\",\"system\":\"urn:oid:2.16.840.1.113883.6.90\"},{\"code\":\"1089991000119109\",\"display\":\"Oral ulcerative mucositis due to antineoplastic therapy (disorder)\",\"system\":\"http://snomed.info/sct\"},{\"code\":\"528.01\",\"display\":\"Ulcerative oral mucositis due to antineoplastic therapy\",\"system\":\"http://hl7.org/fhir/sid/icd-9-cm/diagnosis\"}],\"text\":\"Ulcerative oral mucositis due to antineoplastic therapy\"}   \n3                                                                                                                                                                                                                                                                                           {\"coding\":[{\"code\":\"1089991000119109\",\"system\":\"urn:oid:2.16.840.1.113883.6.96\"},{\"code\":\"K12.31\",\"system\":\"urn:oid:2.16.840.1.113883.6.90\"}],\"text\":\"Ulcerative oral mucositis due to antineoplastic therapy\"}   \n4                                                                                                                                              {\"coding\":[{\"code\":\"528.01\",\"display\":\"Ulcerative oral mucositis due to antineoplastic therapy\",\"system\":\"http://hl7.org/fhir/sid/icd-9-cm/diagnosis\"},{\"code\":\"K12.31\",\"display\":\"Ulcerative oral mucositis due to antineoplastic therapy\",\"system\":\"http://hl7.org/fhir/sid/icd-10-cm\"}],\"text\":\"Ulcerative oral mucositis due to antineoplastic therapy\"}   \n..                                                                                                                                                                                                                                                                                                                                                                                                                                                                                                      ...   \n420                                                                                                                                             {\"coding\":[{\"code\":\"706.1\",\"display\":\"Acne, not otherwise specified\",\"system\":\"http://hl7.org/fhir/sid/icd-9-cm/diagnosis\"},{\"code\":\"L70.9\",\"display\":\"Acne, not otherwise specified\",\"system\":\"urn:oid:2.16.840.1.113883.6.90\"},{\"code\":\"11381005\",\"display\":\"Acne (disorder)\",\"system\":\"http://snomed.info/sct\"}],\"text\":\"Acne, not otherwise specified\"}   \n421                                                                                                                                          {\"coding\":[{\"code\":\"706.1\",\"display\":\"Acne, not otherwise specified\",\"system\":\"http://hl7.org/fhir/sid/icd-9-cm/diagnosis\"},{\"code\":\"L70.9\",\"display\":\"Acne, not otherwise specified\",\"system\":\"http://hl7.org/fhir/sid/icd-10-cm\"},{\"code\":\"11381005\",\"display\":\"Acne (disorder)\",\"system\":\"http://snomed.info/sct\"}],\"text\":\"Acne, not otherwise specified\"}   \n422                                           {\"coding\":[{\"code\":\"274533004\",\"display\":\"Abnormal findings on diagnostic imaging of lung (finding)\",\"system\":\"http://snomed.info/sct\"},{\"code\":\"793.19\",\"display\":\"Abnormal findings on diagnostic imaging of lung\",\"system\":\"http://hl7.org/fhir/sid/icd-9-cm/diagnosis\"},{\"code\":\"R91.8\",\"display\":\"Abnormal findings on diagnostic imaging of lung\",\"system\":\"urn:oid:2.16.840.1.113883.6.90\"}],\"text\":\"Abnormal findings on diagnostic imaging of lung\"}   \n423                                                                                                                                                                                                                                                                                                         {\"coding\":[{\"code\":\"274533004\",\"system\":\"urn:oid:2.16.840.1.113883.6.96\"},{\"code\":\"R91.8\",\"system\":\"urn:oid:2.16.840.1.113883.6.90\"}],\"text\":\"Abnormal findings on diagnostic imaging of lung\"}   \n424                                        {\"coding\":[{\"code\":\"274533004\",\"display\":\"Abnormal findings on diagnostic imaging of lung (finding)\",\"system\":\"http://snomed.info/sct\"},{\"code\":\"793.19\",\"display\":\"Abnormal findings on diagnostic imaging of lung\",\"system\":\"http://hl7.org/fhir/sid/icd-9-cm/diagnosis\"},{\"code\":\"R91.8\",\"display\":\"Abnormal findings on diagnostic imaging of lung\",\"system\":\"http://hl7.org/fhir/sid/icd-10-cm\"}],\"text\":\"Abnormal findings on diagnostic imaging of lung\"}   \n\n                                                                                                                                                                                                                                                                                                                                                                                                                                                                                                code_string  \n0                                                                                                                                                                                                                                                                     {\"coding\":[{\"code\":\"14040001000004109\",\"display\":\"Uncontrolled pain (finding)\",\"system\":\"http://snomed.info/sct\"},{\"code\":\"R52\",\"display\":\"Uncontrolled pain\",\"system\":\"urn:oid:2.16.840.1.113883.6.90\"}],\"text\":\"Uncontrolled pain\"}  \n1                                                                                                                                                                                                                                                                                                                                        {\"coding\":[{\"code\":\"14040001000004109\",\"system\":\"http://snomed.info/sct\"},{\"code\":\"R52\",\"system\":\"http://hl7.org/fhir/sid/icd-10-cm\"}],\"text\":\"Uncontrolled pain\"}  \n2    {\"coding\":[{\"code\":\"K12.31\",\"display\":\"Ulcerative oral mucositis due to antineoplastic therapy\",\"system\":\"urn:oid:2.16.840.1.113883.6.90\"},{\"code\":\"1089991000119109\",\"display\":\"Oral ulcerative mucositis due to antineoplastic therapy (disorder)\",\"system\":\"http://snomed.info/sct\"},{\"code\":\"528.01\",\"display\":\"Ulcerative oral mucositis due to antineoplastic therapy\",\"system\":\"http://hl7.org/fhir/sid/icd-9-cm/diagnosis\"}],\"text\":\"Ulcerative oral mucositis due to antineoplastic therapy\"}  \n3                                                                                                                                                                                                                                                                                           {\"coding\":[{\"code\":\"1089991000119109\",\"system\":\"urn:oid:2.16.840.1.113883.6.96\"},{\"code\":\"K12.31\",\"system\":\"urn:oid:2.16.840.1.113883.6.90\"}],\"text\":\"Ulcerative oral mucositis due to antineoplastic therapy\"}  \n4                                                                                                                                              {\"coding\":[{\"code\":\"528.01\",\"display\":\"Ulcerative oral mucositis due to antineoplastic therapy\",\"system\":\"http://hl7.org/fhir/sid/icd-9-cm/diagnosis\"},{\"code\":\"K12.31\",\"display\":\"Ulcerative oral mucositis due to antineoplastic therapy\",\"system\":\"http://hl7.org/fhir/sid/icd-10-cm\"}],\"text\":\"Ulcerative oral mucositis due to antineoplastic therapy\"}  \n..                                                                                                                                                                                                                                                                                                                                                                                                                                                                                                      ...  \n420                                                                                                                                             {\"coding\":[{\"code\":\"706.1\",\"display\":\"Acne, not otherwise specified\",\"system\":\"http://hl7.org/fhir/sid/icd-9-cm/diagnosis\"},{\"code\":\"L70.9\",\"display\":\"Acne, not otherwise specified\",\"system\":\"urn:oid:2.16.840.1.113883.6.90\"},{\"code\":\"11381005\",\"display\":\"Acne (disorder)\",\"system\":\"http://snomed.info/sct\"}],\"text\":\"Acne, not otherwise specified\"}  \n421                                                                                                                                          {\"coding\":[{\"code\":\"706.1\",\"display\":\"Acne, not otherwise specified\",\"system\":\"http://hl7.org/fhir/sid/icd-9-cm/diagnosis\"},{\"code\":\"L70.9\",\"display\":\"Acne, not otherwise specified\",\"system\":\"http://hl7.org/fhir/sid/icd-10-cm\"},{\"code\":\"11381005\",\"display\":\"Acne (disorder)\",\"system\":\"http://snomed.info/sct\"}],\"text\":\"Acne, not otherwise specified\"}  \n422                                           {\"coding\":[{\"code\":\"274533004\",\"display\":\"Abnormal findings on diagnostic imaging of lung (finding)\",\"system\":\"http://snomed.info/sct\"},{\"code\":\"793.19\",\"display\":\"Abnormal findings on diagnostic imaging of lung\",\"system\":\"http://hl7.org/fhir/sid/icd-9-cm/diagnosis\"},{\"code\":\"R91.8\",\"display\":\"Abnormal findings on diagnostic imaging of lung\",\"system\":\"urn:oid:2.16.840.1.113883.6.90\"}],\"text\":\"Abnormal findings on diagnostic imaging of lung\"}  \n423                                                                                                                                                                                                                                                                                                         {\"coding\":[{\"code\":\"274533004\",\"system\":\"urn:oid:2.16.840.1.113883.6.96\"},{\"code\":\"R91.8\",\"system\":\"urn:oid:2.16.840.1.113883.6.90\"}],\"text\":\"Abnormal findings on diagnostic imaging of lung\"}  \n424                                        {\"coding\":[{\"code\":\"274533004\",\"display\":\"Abnormal findings on diagnostic imaging of lung (finding)\",\"system\":\"http://snomed.info/sct\"},{\"code\":\"793.19\",\"display\":\"Abnormal findings on diagnostic imaging of lung\",\"system\":\"http://hl7.org/fhir/sid/icd-9-cm/diagnosis\"},{\"code\":\"R91.8\",\"display\":\"Abnormal findings on diagnostic imaging of lung\",\"system\":\"http://hl7.org/fhir/sid/icd-10-cm\"}],\"text\":\"Abnormal findings on diagnostic imaging of lung\"}  \n\n[425 rows x 18 columns]",
      "text/html": "<div>\n<style scoped>\n    .dataframe tbody tr th:only-of-type {\n        vertical-align: middle;\n    }\n\n    .dataframe tbody tr th {\n        vertical-align: top;\n    }\n\n    .dataframe thead th {\n        text-align: right;\n    }\n</style>\n<table border=\"1\" class=\"dataframe\">\n  <thead>\n    <tr style=\"text-align: right;\">\n      <th></th>\n      <th>uuid</th>\n      <th>code</th>\n      <th>display</th>\n      <th>terminology_version_uuid</th>\n      <th>additional_data</th>\n      <th>depends_on_property</th>\n      <th>depends_on_system</th>\n      <th>depends_on_value</th>\n      <th>depends_on_display</th>\n      <th>created_date</th>\n      <th>value_schema</th>\n      <th>value_simple</th>\n      <th>value_jsonb</th>\n      <th>value_string</th>\n      <th>code_schema</th>\n      <th>code_simple</th>\n      <th>code_jsonb</th>\n      <th>code_string</th>\n    </tr>\n  </thead>\n  <tbody>\n    <tr>\n      <th>0</th>\n      <td>fb1105a7-c8b9-4461-89cd-5bc9f60d8364</td>\n      <td>{[{14040001000004109, Uncontrolled pain (finding), http://snomed.info/sct}, {R52, Uncontrolled pain, urn:oid:2.16.840.1.113883.6.90}], Uncontrolled pain}</td>\n      <td>Uncontrolled pain</td>\n      <td>50ed5f2c-7c4c-4586-a7d8-f3665d6380c0</td>\n      <td>{'automapping_target': '14040001000004109|Uncontrolled pain (finding)', 'automapping_evidence': 'Condition Code.text is an exact match for SNOMED PT', 'automapping_relationship': 'Equivalent', 'count_of_resources_affected': '1330'}</td>\n      <td></td>\n      <td></td>\n      <td></td>\n      <td></td>\n      <td>2023-03-01 00:00:00+00:00</td>\n      <td>http://projectronin.io/fhir/StructureDefinition/ronin-conceptMapSourceCodeableConcept</td>\n      <td>None</td>\n      <td>{\"coding\":[{\"code\":\"14040001000004109\",\"display\":\"Uncontrolled pain (finding)\",\"system\":\"http://snomed.info/sct\"},{\"code\":\"R52\",\"display\":\"Uncontrolled pain\",\"system\":\"urn:oid:2.16.840.1.113883.6.90\"}],\"text\":\"Uncontrolled pain\"}</td>\n      <td>{\"coding\":[{\"code\":\"14040001000004109\",\"display\":\"Uncontrolled pain (finding)\",\"system\":\"http://snomed.info/sct\"},{\"code\":\"R52\",\"display\":\"Uncontrolled pain\",\"system\":\"urn:oid:2.16.840.1.113883.6.90\"}],\"text\":\"Uncontrolled pain\"}</td>\n      <td>http://projectronin.io/fhir/StructureDefinition/ronin-conceptMapSourceCodeableConcept</td>\n      <td>None</td>\n      <td>{\"coding\":[{\"code\":\"14040001000004109\",\"display\":\"Uncontrolled pain (finding)\",\"system\":\"http://snomed.info/sct\"},{\"code\":\"R52\",\"display\":\"Uncontrolled pain\",\"system\":\"urn:oid:2.16.840.1.113883.6.90\"}],\"text\":\"Uncontrolled pain\"}</td>\n      <td>{\"coding\":[{\"code\":\"14040001000004109\",\"display\":\"Uncontrolled pain (finding)\",\"system\":\"http://snomed.info/sct\"},{\"code\":\"R52\",\"display\":\"Uncontrolled pain\",\"system\":\"urn:oid:2.16.840.1.113883.6.90\"}],\"text\":\"Uncontrolled pain\"}</td>\n    </tr>\n    <tr>\n      <th>1</th>\n      <td>b4646298-292f-4d21-8bd8-f9c0166c1fd8</td>\n      <td>{\"coding\": [{\"system\": \"http://hl7.org/fhir/sid/icd-10-cm\", \"code\": \"R52\"}, {\"system\": \"http://snomed.info/sct\", \"code\": \"14040001000004109\"}], \"text\": \"Uncontrolled pain\"}</td>\n      <td>Uncontrolled pain</td>\n      <td>50ed5f2c-7c4c-4586-a7d8-f3665d6380c0</td>\n      <td>None</td>\n      <td></td>\n      <td></td>\n      <td></td>\n      <td></td>\n      <td>2023-12-07 15:10:13.719826+00:00</td>\n      <td>http://projectronin.io/fhir/StructureDefinition/ronin-conceptMapSourceCodeableConcept</td>\n      <td>None</td>\n      <td>{\"coding\":[{\"code\":\"14040001000004109\",\"system\":\"http://snomed.info/sct\"},{\"code\":\"R52\",\"system\":\"http://hl7.org/fhir/sid/icd-10-cm\"}],\"text\":\"Uncontrolled pain\"}</td>\n      <td>{\"coding\":[{\"code\":\"14040001000004109\",\"system\":\"http://snomed.info/sct\"},{\"code\":\"R52\",\"system\":\"http://hl7.org/fhir/sid/icd-10-cm\"}],\"text\":\"Uncontrolled pain\"}</td>\n      <td>http://projectronin.io/fhir/StructureDefinition/ronin-conceptMapSourceCodeableConcept</td>\n      <td>None</td>\n      <td>{\"coding\":[{\"code\":\"14040001000004109\",\"system\":\"http://snomed.info/sct\"},{\"code\":\"R52\",\"system\":\"http://hl7.org/fhir/sid/icd-10-cm\"}],\"text\":\"Uncontrolled pain\"}</td>\n      <td>{\"coding\":[{\"code\":\"14040001000004109\",\"system\":\"http://snomed.info/sct\"},{\"code\":\"R52\",\"system\":\"http://hl7.org/fhir/sid/icd-10-cm\"}],\"text\":\"Uncontrolled pain\"}</td>\n    </tr>\n    <tr>\n      <th>2</th>\n      <td>cd970f63-99bb-47f8-a298-72025f6ede90</td>\n      <td>{[{1089991000119109, Oral ulcerative mucositis due to antineoplastic therapy (disorder), http://snomed.info/sct}, {528.01, Ulcerative oral mucositis due to antineoplastic therapy, http://hl7.org/fhir/sid/icd-9-cm/diagnosis}, {K12.31, Ulcerative oral mucositis due to antineoplastic therapy, urn:oid:2.16.840.1.113883.6.90}], Ulcerative oral mucositis due to antineoplastic therapy}</td>\n      <td>Ulcerative oral mucositis due to antineoplastic therapy</td>\n      <td>50ed5f2c-7c4c-4586-a7d8-f3665d6380c0</td>\n      <td>{'automapping_target': None, 'automapping_evidence': None, 'automapping_relationship': None, 'count_of_resources_affected': '3341'}</td>\n      <td></td>\n      <td></td>\n      <td></td>\n      <td></td>\n      <td>2023-03-01 00:00:00+00:00</td>\n      <td>http://projectronin.io/fhir/StructureDefinition/ronin-conceptMapSourceCodeableConcept</td>\n      <td>None</td>\n      <td>{\"coding\":[{\"code\":\"K12.31\",\"display\":\"Ulcerative oral mucositis due to antineoplastic therapy\",\"system\":\"urn:oid:2.16.840.1.113883.6.90\"},{\"code\":\"1089991000119109\",\"display\":\"Oral ulcerative mucositis due to antineoplastic therapy (disorder)\",\"system\":\"http://snomed.info/sct\"},{\"code\":\"528.01\",\"display\":\"Ulcerative oral mucositis due to antineoplastic therapy\",\"system\":\"http://hl7.org/fhir/sid/icd-9-cm/diagnosis\"}],\"text\":\"Ulcerative oral mucositis due to antineoplastic therapy\"}</td>\n      <td>{\"coding\":[{\"code\":\"K12.31\",\"display\":\"Ulcerative oral mucositis due to antineoplastic therapy\",\"system\":\"urn:oid:2.16.840.1.113883.6.90\"},{\"code\":\"1089991000119109\",\"display\":\"Oral ulcerative mucositis due to antineoplastic therapy (disorder)\",\"system\":\"http://snomed.info/sct\"},{\"code\":\"528.01\",\"display\":\"Ulcerative oral mucositis due to antineoplastic therapy\",\"system\":\"http://hl7.org/fhir/sid/icd-9-cm/diagnosis\"}],\"text\":\"Ulcerative oral mucositis due to antineoplastic therapy\"}</td>\n      <td>http://projectronin.io/fhir/StructureDefinition/ronin-conceptMapSourceCodeableConcept</td>\n      <td>None</td>\n      <td>{\"coding\":[{\"code\":\"K12.31\",\"display\":\"Ulcerative oral mucositis due to antineoplastic therapy\",\"system\":\"urn:oid:2.16.840.1.113883.6.90\"},{\"code\":\"1089991000119109\",\"display\":\"Oral ulcerative mucositis due to antineoplastic therapy (disorder)\",\"system\":\"http://snomed.info/sct\"},{\"code\":\"528.01\",\"display\":\"Ulcerative oral mucositis due to antineoplastic therapy\",\"system\":\"http://hl7.org/fhir/sid/icd-9-cm/diagnosis\"}],\"text\":\"Ulcerative oral mucositis due to antineoplastic therapy\"}</td>\n      <td>{\"coding\":[{\"code\":\"K12.31\",\"display\":\"Ulcerative oral mucositis due to antineoplastic therapy\",\"system\":\"urn:oid:2.16.840.1.113883.6.90\"},{\"code\":\"1089991000119109\",\"display\":\"Oral ulcerative mucositis due to antineoplastic therapy (disorder)\",\"system\":\"http://snomed.info/sct\"},{\"code\":\"528.01\",\"display\":\"Ulcerative oral mucositis due to antineoplastic therapy\",\"system\":\"http://hl7.org/fhir/sid/icd-9-cm/diagnosis\"}],\"text\":\"Ulcerative oral mucositis due to antineoplastic therapy\"}</td>\n    </tr>\n    <tr>\n      <th>3</th>\n      <td>25e0a8d9-e93e-43fc-897c-be05578bdf1e</td>\n      <td>{[{K12.31, null, urn:oid:2.16.840.1.113883.6.90}, {1089991000119109, null, urn:oid:2.16.840.1.113883.6.96}], Ulcerative oral mucositis due to antineoplastic therapy}</td>\n      <td>Ulcerative oral mucositis due to antineoplastic therapy</td>\n      <td>50ed5f2c-7c4c-4586-a7d8-f3665d6380c0</td>\n      <td>{'automapping_target': None, 'automapping_evidence': None, 'automapping_relationship': None, 'count_of_resources_affected': '306'}</td>\n      <td></td>\n      <td></td>\n      <td></td>\n      <td></td>\n      <td>2023-03-01 00:00:00+00:00</td>\n      <td>http://projectronin.io/fhir/StructureDefinition/ronin-conceptMapSourceCodeableConcept</td>\n      <td>None</td>\n      <td>{\"coding\":[{\"code\":\"1089991000119109\",\"system\":\"urn:oid:2.16.840.1.113883.6.96\"},{\"code\":\"K12.31\",\"system\":\"urn:oid:2.16.840.1.113883.6.90\"}],\"text\":\"Ulcerative oral mucositis due to antineoplastic therapy\"}</td>\n      <td>{\"coding\":[{\"code\":\"1089991000119109\",\"system\":\"urn:oid:2.16.840.1.113883.6.96\"},{\"code\":\"K12.31\",\"system\":\"urn:oid:2.16.840.1.113883.6.90\"}],\"text\":\"Ulcerative oral mucositis due to antineoplastic therapy\"}</td>\n      <td>http://projectronin.io/fhir/StructureDefinition/ronin-conceptMapSourceCodeableConcept</td>\n      <td>None</td>\n      <td>{\"coding\":[{\"code\":\"1089991000119109\",\"system\":\"urn:oid:2.16.840.1.113883.6.96\"},{\"code\":\"K12.31\",\"system\":\"urn:oid:2.16.840.1.113883.6.90\"}],\"text\":\"Ulcerative oral mucositis due to antineoplastic therapy\"}</td>\n      <td>{\"coding\":[{\"code\":\"1089991000119109\",\"system\":\"urn:oid:2.16.840.1.113883.6.96\"},{\"code\":\"K12.31\",\"system\":\"urn:oid:2.16.840.1.113883.6.90\"}],\"text\":\"Ulcerative oral mucositis due to antineoplastic therapy\"}</td>\n    </tr>\n    <tr>\n      <th>4</th>\n      <td>9ff86800-6c49-4f03-98ea-c648df4c55b0</td>\n      <td>{\"coding\": [{\"system\": \"http://hl7.org/fhir/sid/icd-9-cm/diagnosis\", \"code\": \"528.01\", \"display\": \"Ulcerative oral mucositis due to antineoplastic therapy\"}, {\"system\": \"http://hl7.org/fhir/sid/icd-10-cm\", \"code\": \"K12.31\", \"display\": \"Ulcerative oral mucositis due to antineoplastic therapy\"}], \"text\": \"Ulcerative oral mucositis due to antineoplastic therapy\"}</td>\n      <td>Ulcerative oral mucositis due to antineoplastic therapy</td>\n      <td>50ed5f2c-7c4c-4586-a7d8-f3665d6380c0</td>\n      <td>None</td>\n      <td></td>\n      <td></td>\n      <td></td>\n      <td></td>\n      <td>2023-12-07 15:10:13.719826+00:00</td>\n      <td>http://projectronin.io/fhir/StructureDefinition/ronin-conceptMapSourceCodeableConcept</td>\n      <td>None</td>\n      <td>{\"coding\":[{\"code\":\"528.01\",\"display\":\"Ulcerative oral mucositis due to antineoplastic therapy\",\"system\":\"http://hl7.org/fhir/sid/icd-9-cm/diagnosis\"},{\"code\":\"K12.31\",\"display\":\"Ulcerative oral mucositis due to antineoplastic therapy\",\"system\":\"http://hl7.org/fhir/sid/icd-10-cm\"}],\"text\":\"Ulcerative oral mucositis due to antineoplastic therapy\"}</td>\n      <td>{\"coding\":[{\"code\":\"528.01\",\"display\":\"Ulcerative oral mucositis due to antineoplastic therapy\",\"system\":\"http://hl7.org/fhir/sid/icd-9-cm/diagnosis\"},{\"code\":\"K12.31\",\"display\":\"Ulcerative oral mucositis due to antineoplastic therapy\",\"system\":\"http://hl7.org/fhir/sid/icd-10-cm\"}],\"text\":\"Ulcerative oral mucositis due to antineoplastic therapy\"}</td>\n      <td>http://projectronin.io/fhir/StructureDefinition/ronin-conceptMapSourceCodeableConcept</td>\n      <td>None</td>\n      <td>{\"coding\":[{\"code\":\"528.01\",\"display\":\"Ulcerative oral mucositis due to antineoplastic therapy\",\"system\":\"http://hl7.org/fhir/sid/icd-9-cm/diagnosis\"},{\"code\":\"K12.31\",\"display\":\"Ulcerative oral mucositis due to antineoplastic therapy\",\"system\":\"http://hl7.org/fhir/sid/icd-10-cm\"}],\"text\":\"Ulcerative oral mucositis due to antineoplastic therapy\"}</td>\n      <td>{\"coding\":[{\"code\":\"528.01\",\"display\":\"Ulcerative oral mucositis due to antineoplastic therapy\",\"system\":\"http://hl7.org/fhir/sid/icd-9-cm/diagnosis\"},{\"code\":\"K12.31\",\"display\":\"Ulcerative oral mucositis due to antineoplastic therapy\",\"system\":\"http://hl7.org/fhir/sid/icd-10-cm\"}],\"text\":\"Ulcerative oral mucositis due to antineoplastic therapy\"}</td>\n    </tr>\n    <tr>\n      <th>...</th>\n      <td>...</td>\n      <td>...</td>\n      <td>...</td>\n      <td>...</td>\n      <td>...</td>\n      <td>...</td>\n      <td>...</td>\n      <td>...</td>\n      <td>...</td>\n      <td>...</td>\n      <td>...</td>\n      <td>...</td>\n      <td>...</td>\n      <td>...</td>\n      <td>...</td>\n      <td>...</td>\n      <td>...</td>\n      <td>...</td>\n    </tr>\n    <tr>\n      <th>420</th>\n      <td>212038a2-f811-423c-9d53-24f2a56b35e4</td>\n      <td>{[{11381005, Acne (disorder), http://snomed.info/sct}, {706.1, Acne, not otherwise specified, http://hl7.org/fhir/sid/icd-9-cm/diagnosis}, {L70.9, Acne, not otherwise specified, urn:oid:2.16.840.1.113883.6.90}], Acne, not otherwise specified}</td>\n      <td>Acne, not otherwise specified</td>\n      <td>50ed5f2c-7c4c-4586-a7d8-f3665d6380c0</td>\n      <td>{'automapping_target': None, 'automapping_evidence': None, 'automapping_relationship': None, 'count_of_resources_affected': '133'}</td>\n      <td></td>\n      <td></td>\n      <td></td>\n      <td></td>\n      <td>2023-03-01 00:00:00+00:00</td>\n      <td>http://projectronin.io/fhir/StructureDefinition/ronin-conceptMapSourceCodeableConcept</td>\n      <td>None</td>\n      <td>{\"coding\":[{\"code\":\"706.1\",\"display\":\"Acne, not otherwise specified\",\"system\":\"http://hl7.org/fhir/sid/icd-9-cm/diagnosis\"},{\"code\":\"L70.9\",\"display\":\"Acne, not otherwise specified\",\"system\":\"urn:oid:2.16.840.1.113883.6.90\"},{\"code\":\"11381005\",\"display\":\"Acne (disorder)\",\"system\":\"http://snomed.info/sct\"}],\"text\":\"Acne, not otherwise specified\"}</td>\n      <td>{\"coding\":[{\"code\":\"706.1\",\"display\":\"Acne, not otherwise specified\",\"system\":\"http://hl7.org/fhir/sid/icd-9-cm/diagnosis\"},{\"code\":\"L70.9\",\"display\":\"Acne, not otherwise specified\",\"system\":\"urn:oid:2.16.840.1.113883.6.90\"},{\"code\":\"11381005\",\"display\":\"Acne (disorder)\",\"system\":\"http://snomed.info/sct\"}],\"text\":\"Acne, not otherwise specified\"}</td>\n      <td>http://projectronin.io/fhir/StructureDefinition/ronin-conceptMapSourceCodeableConcept</td>\n      <td>None</td>\n      <td>{\"coding\":[{\"code\":\"706.1\",\"display\":\"Acne, not otherwise specified\",\"system\":\"http://hl7.org/fhir/sid/icd-9-cm/diagnosis\"},{\"code\":\"L70.9\",\"display\":\"Acne, not otherwise specified\",\"system\":\"urn:oid:2.16.840.1.113883.6.90\"},{\"code\":\"11381005\",\"display\":\"Acne (disorder)\",\"system\":\"http://snomed.info/sct\"}],\"text\":\"Acne, not otherwise specified\"}</td>\n      <td>{\"coding\":[{\"code\":\"706.1\",\"display\":\"Acne, not otherwise specified\",\"system\":\"http://hl7.org/fhir/sid/icd-9-cm/diagnosis\"},{\"code\":\"L70.9\",\"display\":\"Acne, not otherwise specified\",\"system\":\"urn:oid:2.16.840.1.113883.6.90\"},{\"code\":\"11381005\",\"display\":\"Acne (disorder)\",\"system\":\"http://snomed.info/sct\"}],\"text\":\"Acne, not otherwise specified\"}</td>\n    </tr>\n    <tr>\n      <th>421</th>\n      <td>ea8b4079-119d-4254-926a-8b55f5778076</td>\n      <td>{\"coding\": [{\"system\": \"http://snomed.info/sct\", \"code\": \"11381005\", \"display\": \"Acne (disorder)\"}, {\"system\": \"http://hl7.org/fhir/sid/icd-9-cm/diagnosis\", \"code\": \"706.1\", \"display\": \"Acne, not otherwise specified\"}, {\"system\": \"http://hl7.org/fhir/sid/icd-10-cm\", \"code\": \"L70.9\", \"display\": \"Acne, not otherwise specified\"}], \"text\": \"Acne, not otherwise specified\"}</td>\n      <td>Acne, not otherwise specified</td>\n      <td>50ed5f2c-7c4c-4586-a7d8-f3665d6380c0</td>\n      <td>None</td>\n      <td></td>\n      <td></td>\n      <td></td>\n      <td></td>\n      <td>2023-12-07 15:07:57.139917+00:00</td>\n      <td>http://projectronin.io/fhir/StructureDefinition/ronin-conceptMapSourceCodeableConcept</td>\n      <td>None</td>\n      <td>{\"coding\":[{\"code\":\"706.1\",\"display\":\"Acne, not otherwise specified\",\"system\":\"http://hl7.org/fhir/sid/icd-9-cm/diagnosis\"},{\"code\":\"L70.9\",\"display\":\"Acne, not otherwise specified\",\"system\":\"http://hl7.org/fhir/sid/icd-10-cm\"},{\"code\":\"11381005\",\"display\":\"Acne (disorder)\",\"system\":\"http://snomed.info/sct\"}],\"text\":\"Acne, not otherwise specified\"}</td>\n      <td>{\"coding\":[{\"code\":\"706.1\",\"display\":\"Acne, not otherwise specified\",\"system\":\"http://hl7.org/fhir/sid/icd-9-cm/diagnosis\"},{\"code\":\"L70.9\",\"display\":\"Acne, not otherwise specified\",\"system\":\"http://hl7.org/fhir/sid/icd-10-cm\"},{\"code\":\"11381005\",\"display\":\"Acne (disorder)\",\"system\":\"http://snomed.info/sct\"}],\"text\":\"Acne, not otherwise specified\"}</td>\n      <td>http://projectronin.io/fhir/StructureDefinition/ronin-conceptMapSourceCodeableConcept</td>\n      <td>None</td>\n      <td>{\"coding\":[{\"code\":\"706.1\",\"display\":\"Acne, not otherwise specified\",\"system\":\"http://hl7.org/fhir/sid/icd-9-cm/diagnosis\"},{\"code\":\"L70.9\",\"display\":\"Acne, not otherwise specified\",\"system\":\"http://hl7.org/fhir/sid/icd-10-cm\"},{\"code\":\"11381005\",\"display\":\"Acne (disorder)\",\"system\":\"http://snomed.info/sct\"}],\"text\":\"Acne, not otherwise specified\"}</td>\n      <td>{\"coding\":[{\"code\":\"706.1\",\"display\":\"Acne, not otherwise specified\",\"system\":\"http://hl7.org/fhir/sid/icd-9-cm/diagnosis\"},{\"code\":\"L70.9\",\"display\":\"Acne, not otherwise specified\",\"system\":\"http://hl7.org/fhir/sid/icd-10-cm\"},{\"code\":\"11381005\",\"display\":\"Acne (disorder)\",\"system\":\"http://snomed.info/sct\"}],\"text\":\"Acne, not otherwise specified\"}</td>\n    </tr>\n    <tr>\n      <th>422</th>\n      <td>3a9c520e-4e4f-4b1e-9af3-f7f9c90ab1ce</td>\n      <td>{[{274533004, Abnormal findings on diagnostic imaging of lung (finding), http://snomed.info/sct}, {793.19, Abnormal findings on diagnostic imaging of lung, http://hl7.org/fhir/sid/icd-9-cm/diagnosis}, {R91.8, Abnormal findings on diagnostic imaging of lung, urn:oid:2.16.840.1.113883.6.90}], Abnormal findings on diagnostic imaging of lung}</td>\n      <td>Abnormal findings on diagnostic imaging of lung</td>\n      <td>50ed5f2c-7c4c-4586-a7d8-f3665d6380c0</td>\n      <td>{'automapping_target': '274533004|Abnormal findings on diagnostic imaging of lung (finding)', 'automapping_evidence': 'Condition Code.text is an exact match for SNOMED PT', 'automapping_relationship': 'Equivalent', 'count_of_resources_affected': 9047}</td>\n      <td></td>\n      <td></td>\n      <td></td>\n      <td></td>\n      <td>2023-03-01 00:00:00+00:00</td>\n      <td>http://projectronin.io/fhir/StructureDefinition/ronin-conceptMapSourceCodeableConcept</td>\n      <td>None</td>\n      <td>{\"coding\":[{\"code\":\"274533004\",\"display\":\"Abnormal findings on diagnostic imaging of lung (finding)\",\"system\":\"http://snomed.info/sct\"},{\"code\":\"793.19\",\"display\":\"Abnormal findings on diagnostic imaging of lung\",\"system\":\"http://hl7.org/fhir/sid/icd-9-cm/diagnosis\"},{\"code\":\"R91.8\",\"display\":\"Abnormal findings on diagnostic imaging of lung\",\"system\":\"urn:oid:2.16.840.1.113883.6.90\"}],\"text\":\"Abnormal findings on diagnostic imaging of lung\"}</td>\n      <td>{\"coding\":[{\"code\":\"274533004\",\"display\":\"Abnormal findings on diagnostic imaging of lung (finding)\",\"system\":\"http://snomed.info/sct\"},{\"code\":\"793.19\",\"display\":\"Abnormal findings on diagnostic imaging of lung\",\"system\":\"http://hl7.org/fhir/sid/icd-9-cm/diagnosis\"},{\"code\":\"R91.8\",\"display\":\"Abnormal findings on diagnostic imaging of lung\",\"system\":\"urn:oid:2.16.840.1.113883.6.90\"}],\"text\":\"Abnormal findings on diagnostic imaging of lung\"}</td>\n      <td>http://projectronin.io/fhir/StructureDefinition/ronin-conceptMapSourceCodeableConcept</td>\n      <td>None</td>\n      <td>{\"coding\":[{\"code\":\"274533004\",\"display\":\"Abnormal findings on diagnostic imaging of lung (finding)\",\"system\":\"http://snomed.info/sct\"},{\"code\":\"793.19\",\"display\":\"Abnormal findings on diagnostic imaging of lung\",\"system\":\"http://hl7.org/fhir/sid/icd-9-cm/diagnosis\"},{\"code\":\"R91.8\",\"display\":\"Abnormal findings on diagnostic imaging of lung\",\"system\":\"urn:oid:2.16.840.1.113883.6.90\"}],\"text\":\"Abnormal findings on diagnostic imaging of lung\"}</td>\n      <td>{\"coding\":[{\"code\":\"274533004\",\"display\":\"Abnormal findings on diagnostic imaging of lung (finding)\",\"system\":\"http://snomed.info/sct\"},{\"code\":\"793.19\",\"display\":\"Abnormal findings on diagnostic imaging of lung\",\"system\":\"http://hl7.org/fhir/sid/icd-9-cm/diagnosis\"},{\"code\":\"R91.8\",\"display\":\"Abnormal findings on diagnostic imaging of lung\",\"system\":\"urn:oid:2.16.840.1.113883.6.90\"}],\"text\":\"Abnormal findings on diagnostic imaging of lung\"}</td>\n    </tr>\n    <tr>\n      <th>423</th>\n      <td>f1065ca0-b060-4126-b670-15edbc6dae8b</td>\n      <td>{[{R91.8, null, urn:oid:2.16.840.1.113883.6.90}, {274533004, null, urn:oid:2.16.840.1.113883.6.96}], Abnormal findings on diagnostic imaging of lung}</td>\n      <td>Abnormal findings on diagnostic imaging of lung</td>\n      <td>50ed5f2c-7c4c-4586-a7d8-f3665d6380c0</td>\n      <td>{'automapping_target': '274533004|Abnormal findings on diagnostic imaging of lung (finding)', 'automapping_evidence': 'Condition Code.text is an exact match for SNOMED PT', 'automapping_relationship': 'Equivalent', 'count_of_resources_affected': '1157'}</td>\n      <td></td>\n      <td></td>\n      <td></td>\n      <td></td>\n      <td>2023-03-01 00:00:00+00:00</td>\n      <td>http://projectronin.io/fhir/StructureDefinition/ronin-conceptMapSourceCodeableConcept</td>\n      <td>None</td>\n      <td>{\"coding\":[{\"code\":\"274533004\",\"system\":\"urn:oid:2.16.840.1.113883.6.96\"},{\"code\":\"R91.8\",\"system\":\"urn:oid:2.16.840.1.113883.6.90\"}],\"text\":\"Abnormal findings on diagnostic imaging of lung\"}</td>\n      <td>{\"coding\":[{\"code\":\"274533004\",\"system\":\"urn:oid:2.16.840.1.113883.6.96\"},{\"code\":\"R91.8\",\"system\":\"urn:oid:2.16.840.1.113883.6.90\"}],\"text\":\"Abnormal findings on diagnostic imaging of lung\"}</td>\n      <td>http://projectronin.io/fhir/StructureDefinition/ronin-conceptMapSourceCodeableConcept</td>\n      <td>None</td>\n      <td>{\"coding\":[{\"code\":\"274533004\",\"system\":\"urn:oid:2.16.840.1.113883.6.96\"},{\"code\":\"R91.8\",\"system\":\"urn:oid:2.16.840.1.113883.6.90\"}],\"text\":\"Abnormal findings on diagnostic imaging of lung\"}</td>\n      <td>{\"coding\":[{\"code\":\"274533004\",\"system\":\"urn:oid:2.16.840.1.113883.6.96\"},{\"code\":\"R91.8\",\"system\":\"urn:oid:2.16.840.1.113883.6.90\"}],\"text\":\"Abnormal findings on diagnostic imaging of lung\"}</td>\n    </tr>\n    <tr>\n      <th>424</th>\n      <td>df8eb04b-01a1-44a4-a037-cf07978d5d21</td>\n      <td>{\"coding\": [{\"system\": \"http://snomed.info/sct\", \"code\": \"274533004\", \"display\": \"Abnormal findings on diagnostic imaging of lung (finding)\"}, {\"system\": \"http://hl7.org/fhir/sid/icd-9-cm/diagnosis\", \"code\": \"793.19\", \"display\": \"Abnormal findings on diagnostic imaging of lung\"}, {\"system\": \"http://hl7.org/fhir/sid/icd-10-cm\", \"code\": \"R91.8\", \"display\": \"Abnormal findings on diagnostic imaging of lung\"}], \"text\": \"Abnormal findings on diagnostic imaging of lung\"}</td>\n      <td>Abnormal findings on diagnostic imaging of lung</td>\n      <td>50ed5f2c-7c4c-4586-a7d8-f3665d6380c0</td>\n      <td>None</td>\n      <td></td>\n      <td></td>\n      <td></td>\n      <td></td>\n      <td>2023-12-07 15:07:57.139917+00:00</td>\n      <td>http://projectronin.io/fhir/StructureDefinition/ronin-conceptMapSourceCodeableConcept</td>\n      <td>None</td>\n      <td>{\"coding\":[{\"code\":\"274533004\",\"display\":\"Abnormal findings on diagnostic imaging of lung (finding)\",\"system\":\"http://snomed.info/sct\"},{\"code\":\"793.19\",\"display\":\"Abnormal findings on diagnostic imaging of lung\",\"system\":\"http://hl7.org/fhir/sid/icd-9-cm/diagnosis\"},{\"code\":\"R91.8\",\"display\":\"Abnormal findings on diagnostic imaging of lung\",\"system\":\"http://hl7.org/fhir/sid/icd-10-cm\"}],\"text\":\"Abnormal findings on diagnostic imaging of lung\"}</td>\n      <td>{\"coding\":[{\"code\":\"274533004\",\"display\":\"Abnormal findings on diagnostic imaging of lung (finding)\",\"system\":\"http://snomed.info/sct\"},{\"code\":\"793.19\",\"display\":\"Abnormal findings on diagnostic imaging of lung\",\"system\":\"http://hl7.org/fhir/sid/icd-9-cm/diagnosis\"},{\"code\":\"R91.8\",\"display\":\"Abnormal findings on diagnostic imaging of lung\",\"system\":\"http://hl7.org/fhir/sid/icd-10-cm\"}],\"text\":\"Abnormal findings on diagnostic imaging of lung\"}</td>\n      <td>http://projectronin.io/fhir/StructureDefinition/ronin-conceptMapSourceCodeableConcept</td>\n      <td>None</td>\n      <td>{\"coding\":[{\"code\":\"274533004\",\"display\":\"Abnormal findings on diagnostic imaging of lung (finding)\",\"system\":\"http://snomed.info/sct\"},{\"code\":\"793.19\",\"display\":\"Abnormal findings on diagnostic imaging of lung\",\"system\":\"http://hl7.org/fhir/sid/icd-9-cm/diagnosis\"},{\"code\":\"R91.8\",\"display\":\"Abnormal findings on diagnostic imaging of lung\",\"system\":\"http://hl7.org/fhir/sid/icd-10-cm\"}],\"text\":\"Abnormal findings on diagnostic imaging of lung\"}</td>\n      <td>{\"coding\":[{\"code\":\"274533004\",\"display\":\"Abnormal findings on diagnostic imaging of lung (finding)\",\"system\":\"http://snomed.info/sct\"},{\"code\":\"793.19\",\"display\":\"Abnormal findings on diagnostic imaging of lung\",\"system\":\"http://hl7.org/fhir/sid/icd-9-cm/diagnosis\"},{\"code\":\"R91.8\",\"display\":\"Abnormal findings on diagnostic imaging of lung\",\"system\":\"http://hl7.org/fhir/sid/icd-10-cm\"}],\"text\":\"Abnormal findings on diagnostic imaging of lung\"}</td>\n    </tr>\n  </tbody>\n</table>\n<p>425 rows × 18 columns</p>\n</div>"
     },
     "execution_count": 335,
     "metadata": {},
     "output_type": "execute_result"
    }
   ],
   "source": [
    "df"
   ],
   "metadata": {
    "collapsed": false
   }
  },
  {
   "cell_type": "code",
   "execution_count": 268,
   "outputs": [],
   "source": [
    "# df['is_duplicate'] = df.duplicated(subset=['code_jsonb'], keep=False)"
   ],
   "metadata": {
    "collapsed": false
   }
  },
  {
   "cell_type": "code",
   "execution_count": 269,
   "outputs": [
    {
     "data": {
      "text/plain": "               uuid   code  display  terminology_version_uuid  \\\nis_duplicate                                                    \nFalse         65806  65806    65806                     65806   \n\n              additional_data  depends_on_property  depends_on_system  \\\nis_duplicate                                                            \nFalse                   65640                65806              65806   \n\n              depends_on_value  depends_on_display  created_date  \\\nis_duplicate                                                       \nFalse                    65806               65806         65806   \n\n              value_schema  value_simple  value_jsonb  value_string  \\\nis_duplicate                                                          \nFalse                65806             0        65806         65806   \n\n              code_schema  code_simple  code_jsonb  code_string  \nis_duplicate                                                     \nFalse               65806            0       65806        65806  ",
      "text/html": "<div>\n<style scoped>\n    .dataframe tbody tr th:only-of-type {\n        vertical-align: middle;\n    }\n\n    .dataframe tbody tr th {\n        vertical-align: top;\n    }\n\n    .dataframe thead th {\n        text-align: right;\n    }\n</style>\n<table border=\"1\" class=\"dataframe\">\n  <thead>\n    <tr style=\"text-align: right;\">\n      <th></th>\n      <th>uuid</th>\n      <th>code</th>\n      <th>display</th>\n      <th>terminology_version_uuid</th>\n      <th>additional_data</th>\n      <th>depends_on_property</th>\n      <th>depends_on_system</th>\n      <th>depends_on_value</th>\n      <th>depends_on_display</th>\n      <th>created_date</th>\n      <th>value_schema</th>\n      <th>value_simple</th>\n      <th>value_jsonb</th>\n      <th>value_string</th>\n      <th>code_schema</th>\n      <th>code_simple</th>\n      <th>code_jsonb</th>\n      <th>code_string</th>\n    </tr>\n    <tr>\n      <th>is_duplicate</th>\n      <th></th>\n      <th></th>\n      <th></th>\n      <th></th>\n      <th></th>\n      <th></th>\n      <th></th>\n      <th></th>\n      <th></th>\n      <th></th>\n      <th></th>\n      <th></th>\n      <th></th>\n      <th></th>\n      <th></th>\n      <th></th>\n      <th></th>\n      <th></th>\n    </tr>\n  </thead>\n  <tbody>\n    <tr>\n      <th>False</th>\n      <td>65806</td>\n      <td>65806</td>\n      <td>65806</td>\n      <td>65806</td>\n      <td>65640</td>\n      <td>65806</td>\n      <td>65806</td>\n      <td>65806</td>\n      <td>65806</td>\n      <td>65806</td>\n      <td>65806</td>\n      <td>0</td>\n      <td>65806</td>\n      <td>65806</td>\n      <td>65806</td>\n      <td>0</td>\n      <td>65806</td>\n      <td>65806</td>\n    </tr>\n  </tbody>\n</table>\n</div>"
     },
     "execution_count": 269,
     "metadata": {},
     "output_type": "execute_result"
    }
   ],
   "source": [
    "# df.groupby(['is_duplicate']).count()"
   ],
   "metadata": {
    "collapsed": false
   }
  },
  {
   "cell_type": "code",
   "execution_count": 196,
   "outputs": [],
   "source": [
    "df_duplicates = df[df['is_duplicate']]\n"
   ],
   "metadata": {
    "collapsed": false
   }
  },
  {
   "cell_type": "code",
   "execution_count": 197,
   "outputs": [
    {
     "data": {
      "text/plain": "                                   uuid  \\\n0  022316dd-e134-4938-ab62-fd0915b2b589   \n1  87246277-73e0-4e47-b94c-ccb237780d62   \n2  d0abd751-08bb-4305-bc9c-24db210c0328   \n3  4cf26e25-c625-4f73-8b26-b92ba42ee74f   \n4  e45ec6fa-309d-4f91-9587-8873a3cfce04   \n\n                                                code  \\\n0  {[{D68.0, null, urn:oid:2.16.840.1.113883.6.90...   \n1  {[{128105004, von Willebrand disorder (disorde...   \n2  {[{128105004, von Willebrand disorder (disorde...   \n3  {[{D68.0, null, urn:oid:2.16.840.1.113883.6.90...   \n4  {[{D68.00, null, urn:oid:2.16.840.1.113883.6.9...   \n\n                                             display  \\\n0                           von Willebrand's disease   \n1                           von Willebrand's disease   \n2  von Willebrand disorder <Unspecified von Wille...   \n3                            von Willebrand disorder   \n4                            von Willebrand disorder   \n\n               terminology_version_uuid  \\\n0  54589835-c44a-4392-8bc7-67b396bb7b4a   \n1  54589835-c44a-4392-8bc7-67b396bb7b4a   \n2  54589835-c44a-4392-8bc7-67b396bb7b4a   \n3  54589835-c44a-4392-8bc7-67b396bb7b4a   \n4  54589835-c44a-4392-8bc7-67b396bb7b4a   \n\n                                     additional_data depends_on_property  \\\n0  {'automapping_target': '128105004|von Willebra...                       \n1  {'automapping_target': '128105004|von Willebra...                       \n2  {'automapping_target': None, 'automapping_evid...                       \n3  {'automapping_target': '128105004|von Willebra...                       \n4  {'automapping_target': '128105004|von Willebra...                       \n\n  depends_on_system depends_on_value depends_on_display  \\\n0                                                         \n1                                                         \n2                                                         \n3                                                         \n4                                                         \n\n               created_date  \\\n0 2023-03-01 00:00:00+00:00   \n1 2023-03-01 00:00:00+00:00   \n2 2023-03-01 00:00:00+00:00   \n3 2023-03-01 00:00:00+00:00   \n4 2023-03-01 00:00:00+00:00   \n\n                                        value_schema value_simple  \\\n0  http://projectronin.io/fhir/StructureDefinitio...         None   \n1  http://projectronin.io/fhir/StructureDefinitio...         None   \n2  http://projectronin.io/fhir/StructureDefinitio...         None   \n3  http://projectronin.io/fhir/StructureDefinitio...         None   \n4  http://projectronin.io/fhir/StructureDefinitio...         None   \n\n                                         value_jsonb  \\\n0  {\"coding\":[{\"code\":\"D68.0\",\"system\":\"urn:oid:2...   \n1  {\"coding\":[{\"code\":\"286.4\",\"display\":\"von Will...   \n2  {\"coding\":[{\"code\":\"D68.00\",\"display\":\"von Wil...   \n3  {\"coding\":[{\"code\":\"D68.0\",\"system\":\"urn:oid:2...   \n4  {\"coding\":[{\"code\":\"128105004\",\"system\":\"urn:o...   \n\n                                        value_string  is_duplicate  \\\n0  {\"coding\":[{\"code\":\"D68.0\",\"system\":\"urn:oid:2...          True   \n1  {\"coding\":[{\"code\":\"286.4\",\"display\":\"von Will...          True   \n2  {\"coding\":[{\"code\":\"D68.00\",\"display\":\"von Wil...          True   \n3  {\"coding\":[{\"code\":\"D68.0\",\"system\":\"urn:oid:2...          True   \n4  {\"coding\":[{\"code\":\"128105004\",\"system\":\"urn:o...          True   \n\n                                         code_schema code_simple  \\\n0  http://projectronin.io/fhir/StructureDefinitio...        None   \n1  http://projectronin.io/fhir/StructureDefinitio...        None   \n2  http://projectronin.io/fhir/StructureDefinitio...        None   \n3  http://projectronin.io/fhir/StructureDefinitio...        None   \n4  http://projectronin.io/fhir/StructureDefinitio...        None   \n\n                                          code_jsonb  \\\n0  {\"coding\":[{\"code\":\"D68.0\",\"system\":\"urn:oid:2...   \n1  {\"coding\":[{\"code\":\"286.4\",\"display\":\"von Will...   \n2  {\"coding\":[{\"code\":\"D68.00\",\"display\":\"von Wil...   \n3  {\"coding\":[{\"code\":\"D68.0\",\"system\":\"urn:oid:2...   \n4  {\"coding\":[{\"code\":\"128105004\",\"system\":\"urn:o...   \n\n                                         code_string  \n0  {\"coding\":[{\"code\":\"D68.0\",\"system\":\"urn:oid:2...  \n1  {\"coding\":[{\"code\":\"286.4\",\"display\":\"von Will...  \n2  {\"coding\":[{\"code\":\"D68.00\",\"display\":\"von Wil...  \n3  {\"coding\":[{\"code\":\"D68.0\",\"system\":\"urn:oid:2...  \n4  {\"coding\":[{\"code\":\"128105004\",\"system\":\"urn:o...  ",
      "text/html": "<div>\n<style scoped>\n    .dataframe tbody tr th:only-of-type {\n        vertical-align: middle;\n    }\n\n    .dataframe tbody tr th {\n        vertical-align: top;\n    }\n\n    .dataframe thead th {\n        text-align: right;\n    }\n</style>\n<table border=\"1\" class=\"dataframe\">\n  <thead>\n    <tr style=\"text-align: right;\">\n      <th></th>\n      <th>uuid</th>\n      <th>code</th>\n      <th>display</th>\n      <th>terminology_version_uuid</th>\n      <th>additional_data</th>\n      <th>depends_on_property</th>\n      <th>depends_on_system</th>\n      <th>depends_on_value</th>\n      <th>depends_on_display</th>\n      <th>created_date</th>\n      <th>value_schema</th>\n      <th>value_simple</th>\n      <th>value_jsonb</th>\n      <th>value_string</th>\n      <th>is_duplicate</th>\n      <th>code_schema</th>\n      <th>code_simple</th>\n      <th>code_jsonb</th>\n      <th>code_string</th>\n    </tr>\n  </thead>\n  <tbody>\n    <tr>\n      <th>0</th>\n      <td>022316dd-e134-4938-ab62-fd0915b2b589</td>\n      <td>{[{D68.0, null, urn:oid:2.16.840.1.113883.6.90...</td>\n      <td>von Willebrand's disease</td>\n      <td>54589835-c44a-4392-8bc7-67b396bb7b4a</td>\n      <td>{'automapping_target': '128105004|von Willebra...</td>\n      <td></td>\n      <td></td>\n      <td></td>\n      <td></td>\n      <td>2023-03-01 00:00:00+00:00</td>\n      <td>http://projectronin.io/fhir/StructureDefinitio...</td>\n      <td>None</td>\n      <td>{\"coding\":[{\"code\":\"D68.0\",\"system\":\"urn:oid:2...</td>\n      <td>{\"coding\":[{\"code\":\"D68.0\",\"system\":\"urn:oid:2...</td>\n      <td>True</td>\n      <td>http://projectronin.io/fhir/StructureDefinitio...</td>\n      <td>None</td>\n      <td>{\"coding\":[{\"code\":\"D68.0\",\"system\":\"urn:oid:2...</td>\n      <td>{\"coding\":[{\"code\":\"D68.0\",\"system\":\"urn:oid:2...</td>\n    </tr>\n    <tr>\n      <th>1</th>\n      <td>87246277-73e0-4e47-b94c-ccb237780d62</td>\n      <td>{[{128105004, von Willebrand disorder (disorde...</td>\n      <td>von Willebrand's disease</td>\n      <td>54589835-c44a-4392-8bc7-67b396bb7b4a</td>\n      <td>{'automapping_target': '128105004|von Willebra...</td>\n      <td></td>\n      <td></td>\n      <td></td>\n      <td></td>\n      <td>2023-03-01 00:00:00+00:00</td>\n      <td>http://projectronin.io/fhir/StructureDefinitio...</td>\n      <td>None</td>\n      <td>{\"coding\":[{\"code\":\"286.4\",\"display\":\"von Will...</td>\n      <td>{\"coding\":[{\"code\":\"286.4\",\"display\":\"von Will...</td>\n      <td>True</td>\n      <td>http://projectronin.io/fhir/StructureDefinitio...</td>\n      <td>None</td>\n      <td>{\"coding\":[{\"code\":\"286.4\",\"display\":\"von Will...</td>\n      <td>{\"coding\":[{\"code\":\"286.4\",\"display\":\"von Will...</td>\n    </tr>\n    <tr>\n      <th>2</th>\n      <td>d0abd751-08bb-4305-bc9c-24db210c0328</td>\n      <td>{[{128105004, von Willebrand disorder (disorde...</td>\n      <td>von Willebrand disorder &lt;Unspecified von Wille...</td>\n      <td>54589835-c44a-4392-8bc7-67b396bb7b4a</td>\n      <td>{'automapping_target': None, 'automapping_evid...</td>\n      <td></td>\n      <td></td>\n      <td></td>\n      <td></td>\n      <td>2023-03-01 00:00:00+00:00</td>\n      <td>http://projectronin.io/fhir/StructureDefinitio...</td>\n      <td>None</td>\n      <td>{\"coding\":[{\"code\":\"D68.00\",\"display\":\"von Wil...</td>\n      <td>{\"coding\":[{\"code\":\"D68.00\",\"display\":\"von Wil...</td>\n      <td>True</td>\n      <td>http://projectronin.io/fhir/StructureDefinitio...</td>\n      <td>None</td>\n      <td>{\"coding\":[{\"code\":\"D68.00\",\"display\":\"von Wil...</td>\n      <td>{\"coding\":[{\"code\":\"D68.00\",\"display\":\"von Wil...</td>\n    </tr>\n    <tr>\n      <th>3</th>\n      <td>4cf26e25-c625-4f73-8b26-b92ba42ee74f</td>\n      <td>{[{D68.0, null, urn:oid:2.16.840.1.113883.6.90...</td>\n      <td>von Willebrand disorder</td>\n      <td>54589835-c44a-4392-8bc7-67b396bb7b4a</td>\n      <td>{'automapping_target': '128105004|von Willebra...</td>\n      <td></td>\n      <td></td>\n      <td></td>\n      <td></td>\n      <td>2023-03-01 00:00:00+00:00</td>\n      <td>http://projectronin.io/fhir/StructureDefinitio...</td>\n      <td>None</td>\n      <td>{\"coding\":[{\"code\":\"D68.0\",\"system\":\"urn:oid:2...</td>\n      <td>{\"coding\":[{\"code\":\"D68.0\",\"system\":\"urn:oid:2...</td>\n      <td>True</td>\n      <td>http://projectronin.io/fhir/StructureDefinitio...</td>\n      <td>None</td>\n      <td>{\"coding\":[{\"code\":\"D68.0\",\"system\":\"urn:oid:2...</td>\n      <td>{\"coding\":[{\"code\":\"D68.0\",\"system\":\"urn:oid:2...</td>\n    </tr>\n    <tr>\n      <th>4</th>\n      <td>e45ec6fa-309d-4f91-9587-8873a3cfce04</td>\n      <td>{[{D68.00, null, urn:oid:2.16.840.1.113883.6.9...</td>\n      <td>von Willebrand disorder</td>\n      <td>54589835-c44a-4392-8bc7-67b396bb7b4a</td>\n      <td>{'automapping_target': '128105004|von Willebra...</td>\n      <td></td>\n      <td></td>\n      <td></td>\n      <td></td>\n      <td>2023-03-01 00:00:00+00:00</td>\n      <td>http://projectronin.io/fhir/StructureDefinitio...</td>\n      <td>None</td>\n      <td>{\"coding\":[{\"code\":\"128105004\",\"system\":\"urn:o...</td>\n      <td>{\"coding\":[{\"code\":\"128105004\",\"system\":\"urn:o...</td>\n      <td>True</td>\n      <td>http://projectronin.io/fhir/StructureDefinitio...</td>\n      <td>None</td>\n      <td>{\"coding\":[{\"code\":\"128105004\",\"system\":\"urn:o...</td>\n      <td>{\"coding\":[{\"code\":\"128105004\",\"system\":\"urn:o...</td>\n    </tr>\n  </tbody>\n</table>\n</div>"
     },
     "execution_count": 197,
     "metadata": {},
     "output_type": "execute_result"
    }
   ],
   "source": [
    "df_duplicates.head()"
   ],
   "metadata": {
    "collapsed": false
   }
  },
  {
   "cell_type": "code",
   "execution_count": 193,
   "outputs": [
    {
     "data": {
      "text/plain": "                                   uuid  \\\n0  022316dd-e134-4938-ab62-fd0915b2b589   \n1  87246277-73e0-4e47-b94c-ccb237780d62   \n2  d0abd751-08bb-4305-bc9c-24db210c0328   \n3  4cf26e25-c625-4f73-8b26-b92ba42ee74f   \n4  e45ec6fa-309d-4f91-9587-8873a3cfce04   \n\n                                                code  \\\n0  {[{D68.0, null, urn:oid:2.16.840.1.113883.6.90...   \n1  {[{128105004, von Willebrand disorder (disorde...   \n2  {[{128105004, von Willebrand disorder (disorde...   \n3  {[{D68.0, null, urn:oid:2.16.840.1.113883.6.90...   \n4  {[{D68.00, null, urn:oid:2.16.840.1.113883.6.9...   \n\n                                             display  \\\n0                           von Willebrand's disease   \n1                           von Willebrand's disease   \n2  von Willebrand disorder <Unspecified von Wille...   \n3                            von Willebrand disorder   \n4                            von Willebrand disorder   \n\n               terminology_version_uuid  \\\n0  54589835-c44a-4392-8bc7-67b396bb7b4a   \n1  54589835-c44a-4392-8bc7-67b396bb7b4a   \n2  54589835-c44a-4392-8bc7-67b396bb7b4a   \n3  54589835-c44a-4392-8bc7-67b396bb7b4a   \n4  54589835-c44a-4392-8bc7-67b396bb7b4a   \n\n                                     additional_data depends_on_property  \\\n0  {'automapping_target': '128105004|von Willebra...                       \n1  {'automapping_target': '128105004|von Willebra...                       \n2  {'automapping_target': None, 'automapping_evid...                       \n3  {'automapping_target': '128105004|von Willebra...                       \n4  {'automapping_target': '128105004|von Willebra...                       \n\n  depends_on_system depends_on_value depends_on_display  \\\n0                                                         \n1                                                         \n2                                                         \n3                                                         \n4                                                         \n\n               created_date  \\\n0 2023-03-01 00:00:00+00:00   \n1 2023-03-01 00:00:00+00:00   \n2 2023-03-01 00:00:00+00:00   \n3 2023-03-01 00:00:00+00:00   \n4 2023-03-01 00:00:00+00:00   \n\n                                        value_schema value_simple  \\\n0  http://projectronin.io/fhir/StructureDefinitio...         None   \n1  http://projectronin.io/fhir/StructureDefinitio...         None   \n2  http://projectronin.io/fhir/StructureDefinitio...         None   \n3  http://projectronin.io/fhir/StructureDefinitio...         None   \n4  http://projectronin.io/fhir/StructureDefinitio...         None   \n\n                                         value_jsonb  \\\n0  {\"coding\":[{\"code\":\"D68.0\",\"system\":\"urn:oid:2...   \n1  {\"coding\":[{\"code\":\"286.4\",\"display\":\"von Will...   \n2  {\"coding\":[{\"code\":\"D68.00\",\"display\":\"von Wil...   \n3  {\"coding\":[{\"code\":\"D68.0\",\"system\":\"urn:oid:2...   \n4  {\"coding\":[{\"code\":\"128105004\",\"system\":\"urn:o...   \n\n                                        value_string  is_duplicate  \\\n0  {\"coding\":[{\"code\":\"D68.0\",\"system\":\"urn:oid:2...         False   \n1  {\"coding\":[{\"code\":\"286.4\",\"display\":\"von Will...         False   \n2  {\"coding\":[{\"code\":\"D68.00\",\"display\":\"von Wil...         False   \n3  {\"coding\":[{\"code\":\"D68.0\",\"system\":\"urn:oid:2...         False   \n4  {\"coding\":[{\"code\":\"128105004\",\"system\":\"urn:o...         False   \n\n                                         code_schema code_simple  \\\n0  http://projectronin.io/fhir/StructureDefinitio...        None   \n1  http://projectronin.io/fhir/StructureDefinitio...        None   \n2  http://projectronin.io/fhir/StructureDefinitio...        None   \n3  http://projectronin.io/fhir/StructureDefinitio...        None   \n4  http://projectronin.io/fhir/StructureDefinitio...        None   \n\n                                          code_jsonb  \\\n0  {\"coding\":[{\"code\":\"D68.0\",\"system\":\"urn:oid:2...   \n1  {\"coding\":[{\"code\":\"286.4\",\"display\":\"von Will...   \n2  {\"coding\":[{\"code\":\"D68.00\",\"display\":\"von Wil...   \n3  {\"coding\":[{\"code\":\"D68.0\",\"system\":\"urn:oid:2...   \n4  {\"coding\":[{\"code\":\"128105004\",\"system\":\"urn:o...   \n\n                                         code_string  \n0  {\"coding\":[{\"code\":\"D68.0\",\"system\":\"urn:oid:2...  \n1  {\"coding\":[{\"code\":\"286.4\",\"display\":\"von Will...  \n2  {\"coding\":[{\"code\":\"D68.00\",\"display\":\"von Wil...  \n3  {\"coding\":[{\"code\":\"D68.0\",\"system\":\"urn:oid:2...  \n4  {\"coding\":[{\"code\":\"128105004\",\"system\":\"urn:o...  ",
      "text/html": "<div>\n<style scoped>\n    .dataframe tbody tr th:only-of-type {\n        vertical-align: middle;\n    }\n\n    .dataframe tbody tr th {\n        vertical-align: top;\n    }\n\n    .dataframe thead th {\n        text-align: right;\n    }\n</style>\n<table border=\"1\" class=\"dataframe\">\n  <thead>\n    <tr style=\"text-align: right;\">\n      <th></th>\n      <th>uuid</th>\n      <th>code</th>\n      <th>display</th>\n      <th>terminology_version_uuid</th>\n      <th>additional_data</th>\n      <th>depends_on_property</th>\n      <th>depends_on_system</th>\n      <th>depends_on_value</th>\n      <th>depends_on_display</th>\n      <th>created_date</th>\n      <th>value_schema</th>\n      <th>value_simple</th>\n      <th>value_jsonb</th>\n      <th>value_string</th>\n      <th>is_duplicate</th>\n      <th>code_schema</th>\n      <th>code_simple</th>\n      <th>code_jsonb</th>\n      <th>code_string</th>\n    </tr>\n  </thead>\n  <tbody>\n    <tr>\n      <th>0</th>\n      <td>022316dd-e134-4938-ab62-fd0915b2b589</td>\n      <td>{[{D68.0, null, urn:oid:2.16.840.1.113883.6.90...</td>\n      <td>von Willebrand's disease</td>\n      <td>54589835-c44a-4392-8bc7-67b396bb7b4a</td>\n      <td>{'automapping_target': '128105004|von Willebra...</td>\n      <td></td>\n      <td></td>\n      <td></td>\n      <td></td>\n      <td>2023-03-01 00:00:00+00:00</td>\n      <td>http://projectronin.io/fhir/StructureDefinitio...</td>\n      <td>None</td>\n      <td>{\"coding\":[{\"code\":\"D68.0\",\"system\":\"urn:oid:2...</td>\n      <td>{\"coding\":[{\"code\":\"D68.0\",\"system\":\"urn:oid:2...</td>\n      <td>False</td>\n      <td>http://projectronin.io/fhir/StructureDefinitio...</td>\n      <td>None</td>\n      <td>{\"coding\":[{\"code\":\"D68.0\",\"system\":\"urn:oid:2...</td>\n      <td>{\"coding\":[{\"code\":\"D68.0\",\"system\":\"urn:oid:2...</td>\n    </tr>\n    <tr>\n      <th>1</th>\n      <td>87246277-73e0-4e47-b94c-ccb237780d62</td>\n      <td>{[{128105004, von Willebrand disorder (disorde...</td>\n      <td>von Willebrand's disease</td>\n      <td>54589835-c44a-4392-8bc7-67b396bb7b4a</td>\n      <td>{'automapping_target': '128105004|von Willebra...</td>\n      <td></td>\n      <td></td>\n      <td></td>\n      <td></td>\n      <td>2023-03-01 00:00:00+00:00</td>\n      <td>http://projectronin.io/fhir/StructureDefinitio...</td>\n      <td>None</td>\n      <td>{\"coding\":[{\"code\":\"286.4\",\"display\":\"von Will...</td>\n      <td>{\"coding\":[{\"code\":\"286.4\",\"display\":\"von Will...</td>\n      <td>False</td>\n      <td>http://projectronin.io/fhir/StructureDefinitio...</td>\n      <td>None</td>\n      <td>{\"coding\":[{\"code\":\"286.4\",\"display\":\"von Will...</td>\n      <td>{\"coding\":[{\"code\":\"286.4\",\"display\":\"von Will...</td>\n    </tr>\n    <tr>\n      <th>2</th>\n      <td>d0abd751-08bb-4305-bc9c-24db210c0328</td>\n      <td>{[{128105004, von Willebrand disorder (disorde...</td>\n      <td>von Willebrand disorder &lt;Unspecified von Wille...</td>\n      <td>54589835-c44a-4392-8bc7-67b396bb7b4a</td>\n      <td>{'automapping_target': None, 'automapping_evid...</td>\n      <td></td>\n      <td></td>\n      <td></td>\n      <td></td>\n      <td>2023-03-01 00:00:00+00:00</td>\n      <td>http://projectronin.io/fhir/StructureDefinitio...</td>\n      <td>None</td>\n      <td>{\"coding\":[{\"code\":\"D68.00\",\"display\":\"von Wil...</td>\n      <td>{\"coding\":[{\"code\":\"D68.00\",\"display\":\"von Wil...</td>\n      <td>False</td>\n      <td>http://projectronin.io/fhir/StructureDefinitio...</td>\n      <td>None</td>\n      <td>{\"coding\":[{\"code\":\"D68.00\",\"display\":\"von Wil...</td>\n      <td>{\"coding\":[{\"code\":\"D68.00\",\"display\":\"von Wil...</td>\n    </tr>\n    <tr>\n      <th>3</th>\n      <td>4cf26e25-c625-4f73-8b26-b92ba42ee74f</td>\n      <td>{[{D68.0, null, urn:oid:2.16.840.1.113883.6.90...</td>\n      <td>von Willebrand disorder</td>\n      <td>54589835-c44a-4392-8bc7-67b396bb7b4a</td>\n      <td>{'automapping_target': '128105004|von Willebra...</td>\n      <td></td>\n      <td></td>\n      <td></td>\n      <td></td>\n      <td>2023-03-01 00:00:00+00:00</td>\n      <td>http://projectronin.io/fhir/StructureDefinitio...</td>\n      <td>None</td>\n      <td>{\"coding\":[{\"code\":\"D68.0\",\"system\":\"urn:oid:2...</td>\n      <td>{\"coding\":[{\"code\":\"D68.0\",\"system\":\"urn:oid:2...</td>\n      <td>False</td>\n      <td>http://projectronin.io/fhir/StructureDefinitio...</td>\n      <td>None</td>\n      <td>{\"coding\":[{\"code\":\"D68.0\",\"system\":\"urn:oid:2...</td>\n      <td>{\"coding\":[{\"code\":\"D68.0\",\"system\":\"urn:oid:2...</td>\n    </tr>\n    <tr>\n      <th>4</th>\n      <td>e45ec6fa-309d-4f91-9587-8873a3cfce04</td>\n      <td>{[{D68.00, null, urn:oid:2.16.840.1.113883.6.9...</td>\n      <td>von Willebrand disorder</td>\n      <td>54589835-c44a-4392-8bc7-67b396bb7b4a</td>\n      <td>{'automapping_target': '128105004|von Willebra...</td>\n      <td></td>\n      <td></td>\n      <td></td>\n      <td></td>\n      <td>2023-03-01 00:00:00+00:00</td>\n      <td>http://projectronin.io/fhir/StructureDefinitio...</td>\n      <td>None</td>\n      <td>{\"coding\":[{\"code\":\"128105004\",\"system\":\"urn:o...</td>\n      <td>{\"coding\":[{\"code\":\"128105004\",\"system\":\"urn:o...</td>\n      <td>False</td>\n      <td>http://projectronin.io/fhir/StructureDefinitio...</td>\n      <td>None</td>\n      <td>{\"coding\":[{\"code\":\"128105004\",\"system\":\"urn:o...</td>\n      <td>{\"coding\":[{\"code\":\"128105004\",\"system\":\"urn:o...</td>\n    </tr>\n  </tbody>\n</table>\n</div>"
     },
     "execution_count": 193,
     "metadata": {},
     "output_type": "execute_result"
    }
   ],
   "source": [
    "df.head()"
   ],
   "metadata": {
    "collapsed": false
   }
  },
  {
   "cell_type": "code",
   "execution_count": 336,
   "outputs": [],
   "source": [
    "def normalize_json(json_str):\n",
    "    try:\n",
    "        data = json.loads(json_str)\n",
    "        coding = data.get('coding', [])\n",
    "\n",
    "        # Process each entry in 'coding'\n",
    "        for entry in coding:\n",
    "            entry['code'] = entry['code'].strip()\n",
    "            entry['system'] = entry['system'].strip()\n",
    "            # If 'display' key is None or doesn't exist, remove it\n",
    "            if 'display' in entry and entry['display'] is None:\n",
    "                del entry['display']\n",
    "            elif 'display' in entry:\n",
    "                entry['display'] = entry['display'].strip()\n",
    "\n",
    "        # Sort the dictionaries within the list by 'code'\n",
    "        sorted_coding = sorted(coding, key=lambda x: x['code'] + x['system'])\n",
    "\n",
    "        # Strip whitespace from 'text'\n",
    "        text = data.get('text', '').strip()\n",
    "\n",
    "        # Return a JSON string of the sorted list of dictionaries with 'display' key removed if it's null\n",
    "        return json.dumps({'coding': sorted_coding, 'text': text}, sort_keys=True)\n",
    "    except json.JSONDecodeError:\n",
    "        return json_str  # or return None to indicate an error\n"
   ],
   "metadata": {
    "collapsed": false
   }
  },
  {
   "cell_type": "code",
   "execution_count": 337,
   "outputs": [],
   "source": [
    "# Apply the function to the 'code' column to normalize the data\n",
    "df['normalized_code'] = df['code_string'].apply(normalize_json)\n"
   ],
   "metadata": {
    "collapsed": false
   }
  },
  {
   "cell_type": "code",
   "execution_count": 338,
   "outputs": [],
   "source": [
    "# hash_string(input_string: str) -> str:\n",
    "df['hash_id'] = df['normalized_code'].apply(hash_string)"
   ],
   "metadata": {
    "collapsed": false
   }
  },
  {
   "cell_type": "code",
   "execution_count": 272,
   "outputs": [
    {
     "data": {
      "text/plain": "                                   uuid  \\\n0  87246277-73e0-4e47-b94c-ccb237780d62   \n1  022316dd-e134-4938-ab62-fd0915b2b589   \n2  d0abd751-08bb-4305-bc9c-24db210c0328   \n3  125caf5b-ad1a-4b8d-9d60-4b30104560ae   \n4  4cf26e25-c625-4f73-8b26-b92ba42ee74f   \n\n                                                                                                                                                                                                                                                      code  \\\n0  {[{128105004, von Willebrand disorder (disorder), http://snomed.info/sct}, {286.4, von Willebrand's disease, http://hl7.org/fhir/sid/icd-9-cm/diagnosis}, {D68.0, von Willebrand's disease, urn:oid:2.16.840.1.113883.6.90}], von Willebrand's disease}   \n1                                                                                                                           {[{D68.0, null, urn:oid:2.16.840.1.113883.6.90}, {128105004, null, urn:oid:2.16.840.1.113883.6.96}], von Willebrand's disease}   \n2    {[{128105004, von Willebrand disorder (disorder), http://snomed.info/sct}, {D68.00, von Willebrand disorder <Unspecified von Willebrand's disease>, urn:oid:2.16.840.1.113883.6.90}], von Willebrand disorder <Unspecified von Willebrand's disease>}   \n3     {[{128105004, von Willebrand disorder (disorder), http://snomed.info/sct}, {286.4, von Willebrand disorder, http://hl7.org/fhir/sid/icd-9-cm/diagnosis}, {D68.0, von Willebrand disorder, urn:oid:2.16.840.1.113883.6.90}], von Willebrand disorder}   \n4                                                                                                                            {[{D68.0, null, urn:oid:2.16.840.1.113883.6.90}, {128105004, null, urn:oid:2.16.840.1.113883.6.96}], von Willebrand disorder}   \n\n                                                          display  \\\n0                                        von Willebrand's disease   \n1                                        von Willebrand's disease   \n2  von Willebrand disorder <Unspecified von Willebrand's disease>   \n3                                         von Willebrand disorder   \n4                                         von Willebrand disorder   \n\n               terminology_version_uuid  \\\n0  54589835-c44a-4392-8bc7-67b396bb7b4a   \n1  54589835-c44a-4392-8bc7-67b396bb7b4a   \n2  54589835-c44a-4392-8bc7-67b396bb7b4a   \n3  54589835-c44a-4392-8bc7-67b396bb7b4a   \n4  54589835-c44a-4392-8bc7-67b396bb7b4a   \n\n                                                                                                                                                                                                                                                                                                                                                                                                                                                                                                                                                              additional_data  \\\n0  {'automapping_target': '128105004|von Willebrand disorder (disorder)', 'automapping_evidence': 'Condition Code.text matches one or many acceptable synonyms of the concept. Synonyms are: Factor VIII deficiency with vascular defect, vWD - von Willebrand's disease, von Willebrand disease, platelet type, Vascular hemophilia, Pseudohemophilia type B, Angiohemophilia, Constitutional thrombopathy, von Willebrand's disease, von Willebrand disease, von Willebrand-Jurgens disease', 'automapping_relationship': 'Equivalent', 'count_of_resources_affected': '7'}   \n1  {'automapping_target': '128105004|von Willebrand disorder (disorder)', 'automapping_evidence': 'Condition Code.text matches one or many acceptable synonyms of the concept. Synonyms are: Factor VIII deficiency with vascular defect, vWD - von Willebrand's disease, von Willebrand disease, platelet type, Vascular hemophilia, Pseudohemophilia type B, Angiohemophilia, Constitutional thrombopathy, von Willebrand's disease, von Willebrand disease, von Willebrand-Jurgens disease', 'automapping_relationship': 'Equivalent', 'count_of_resources_affected': '2'}   \n2                                                                                                                                                                                                                                                                                                                                                                                                                                            {'automapping_target': None, 'automapping_evidence': None, 'automapping_relationship': None, 'count_of_resources_affected': '1'}   \n3                                                                                                                                                                                                                                                                                                                                        {'automapping_target': '128105004|von Willebrand disorder (disorder)', 'automapping_evidence': 'Condition Code.text is an exact match for SNOMED PT', 'automapping_relationship': 'Equivalent', 'count_of_resources_affected': '58'}   \n4                                                                                                                                                                                                                                                                                                                                         {'automapping_target': '128105004|von Willebrand disorder (disorder)', 'automapping_evidence': 'Condition Code.text is an exact match for SNOMED PT', 'automapping_relationship': 'Equivalent', 'count_of_resources_affected': '7'}   \n\n  depends_on_property depends_on_system depends_on_value depends_on_display  \\\n0                                                                             \n1                                                                             \n2                                                                             \n3                                                                             \n4                                                                             \n\n               created_date  \\\n0 2023-03-01 00:00:00+00:00   \n1 2023-03-01 00:00:00+00:00   \n2 2023-03-01 00:00:00+00:00   \n3 2023-03-01 00:00:00+00:00   \n4 2023-03-01 00:00:00+00:00   \n\n                                                                            value_schema  \\\n0  http://projectronin.io/fhir/StructureDefinition/ronin-conceptMapSourceCodeableConcept   \n1  http://projectronin.io/fhir/StructureDefinition/ronin-conceptMapSourceCodeableConcept   \n2  http://projectronin.io/fhir/StructureDefinition/ronin-conceptMapSourceCodeableConcept   \n3  http://projectronin.io/fhir/StructureDefinition/ronin-conceptMapSourceCodeableConcept   \n4  http://projectronin.io/fhir/StructureDefinition/ronin-conceptMapSourceCodeableConcept   \n\n  value_simple  \\\n0         None   \n1         None   \n2         None   \n3         None   \n4         None   \n\n                                                                                                                                                                                                                                                                                                                                                           value_jsonb  \\\n0  {\"coding\":[{\"code\":\"286.4\",\"display\":\"von Willebrand''s disease\",\"system\":\"http://hl7.org/fhir/sid/icd-9-cm/diagnosis\"},{\"code\":\"128105004\",\"display\":\"von Willebrand disorder (disorder)\",\"system\":\"http://snomed.info/sct\"},{\"code\":\"D68.0\",\"display\":\"von Willebrand''s disease\",\"system\":\"urn:oid:2.16.840.1.113883.6.90\"}],\"text\":\"von Willebrand''s disease\"}   \n1                                                                                                                                                                                            {\"coding\":[{\"code\":\"D68.0\",\"system\":\"urn:oid:2.16.840.1.113883.6.90\"},{\"code\":\"128105004\",\"system\":\"urn:oid:2.16.840.1.113883.6.96\"}],\"text\":\"von Willebrand''s disease\"}   \n2                                  {\"coding\":[{\"code\":\"D68.00\",\"display\":\"von Willebrand disorder <Unspecified von Willebrand''s disease>\",\"system\":\"urn:oid:2.16.840.1.113883.6.90\"},{\"code\":\"128105004\",\"display\":\"von Willebrand disorder (disorder)\",\"system\":\"http://snomed.info/sct\"}],\"text\":\"von Willebrand disorder <Unspecified von Willebrand''s disease>\"}   \n3        {\"coding\":[{\"code\":\"128105004\",\"display\":\"von Willebrand disorder (disorder)\",\"system\":\"http://snomed.info/sct\"},{\"code\":\"286.4\",\"display\":\"von Willebrand disorder\",\"system\":\"http://hl7.org/fhir/sid/icd-9-cm/diagnosis\"},{\"code\":\"D68.0\",\"display\":\"von Willebrand disorder\",\"system\":\"urn:oid:2.16.840.1.113883.6.90\"}],\"text\":\"von Willebrand disorder\"}   \n4                                                                                                                                                                                              {\"coding\":[{\"code\":\"D68.0\",\"system\":\"urn:oid:2.16.840.1.113883.6.90\"},{\"code\":\"128105004\",\"system\":\"urn:oid:2.16.840.1.113883.6.96\"}],\"text\":\"von Willebrand disorder\"}   \n\n                                                                                                                                                                                                                                                                                                                                                       value_string  \\\n0  {\"coding\":[{\"code\":\"286.4\",\"display\":\"von Willebrand's disease\",\"system\":\"http://hl7.org/fhir/sid/icd-9-cm/diagnosis\"},{\"code\":\"128105004\",\"display\":\"von Willebrand disorder (disorder)\",\"system\":\"http://snomed.info/sct\"},{\"code\":\"D68.0\",\"display\":\"von Willebrand's disease\",\"system\":\"urn:oid:2.16.840.1.113883.6.90\"}],\"text\":\"von Willebrand's disease\"}   \n1                                                                                                                                                                                          {\"coding\":[{\"code\":\"D68.0\",\"system\":\"urn:oid:2.16.840.1.113883.6.90\"},{\"code\":\"128105004\",\"system\":\"urn:oid:2.16.840.1.113883.6.96\"}],\"text\":\"von Willebrand's disease\"}   \n2                                 {\"coding\":[{\"code\":\"D68.00\",\"display\":\"von Willebrand disorder <Unspecified von Willebrand's disease>\",\"system\":\"urn:oid:2.16.840.1.113883.6.90\"},{\"code\":\"128105004\",\"display\":\"von Willebrand disorder (disorder)\",\"system\":\"http://snomed.info/sct\"}],\"text\":\"von Willebrand disorder <Unspecified von Willebrand's disease>\"}   \n3     {\"coding\":[{\"code\":\"128105004\",\"display\":\"von Willebrand disorder (disorder)\",\"system\":\"http://snomed.info/sct\"},{\"code\":\"286.4\",\"display\":\"von Willebrand disorder\",\"system\":\"http://hl7.org/fhir/sid/icd-9-cm/diagnosis\"},{\"code\":\"D68.0\",\"display\":\"von Willebrand disorder\",\"system\":\"urn:oid:2.16.840.1.113883.6.90\"}],\"text\":\"von Willebrand disorder\"}   \n4                                                                                                                                                                                           {\"coding\":[{\"code\":\"D68.0\",\"system\":\"urn:oid:2.16.840.1.113883.6.90\"},{\"code\":\"128105004\",\"system\":\"urn:oid:2.16.840.1.113883.6.96\"}],\"text\":\"von Willebrand disorder\"}   \n\n   is_duplicate  \\\n0         False   \n1         False   \n2         False   \n3         False   \n4         False   \n\n                                                                             code_schema  \\\n0  http://projectronin.io/fhir/StructureDefinition/ronin-conceptMapSourceCodeableConcept   \n1  http://projectronin.io/fhir/StructureDefinition/ronin-conceptMapSourceCodeableConcept   \n2  http://projectronin.io/fhir/StructureDefinition/ronin-conceptMapSourceCodeableConcept   \n3  http://projectronin.io/fhir/StructureDefinition/ronin-conceptMapSourceCodeableConcept   \n4  http://projectronin.io/fhir/StructureDefinition/ronin-conceptMapSourceCodeableConcept   \n\n  code_simple  \\\n0        None   \n1        None   \n2        None   \n3        None   \n4        None   \n\n                                                                                                                                                                                                                                                                                                                                                            code_jsonb  \\\n0  {\"coding\":[{\"code\":\"286.4\",\"display\":\"von Willebrand''s disease\",\"system\":\"http://hl7.org/fhir/sid/icd-9-cm/diagnosis\"},{\"code\":\"128105004\",\"display\":\"von Willebrand disorder (disorder)\",\"system\":\"http://snomed.info/sct\"},{\"code\":\"D68.0\",\"display\":\"von Willebrand''s disease\",\"system\":\"urn:oid:2.16.840.1.113883.6.90\"}],\"text\":\"von Willebrand''s disease\"}   \n1                                                                                                                                                                                            {\"coding\":[{\"code\":\"D68.0\",\"system\":\"urn:oid:2.16.840.1.113883.6.90\"},{\"code\":\"128105004\",\"system\":\"urn:oid:2.16.840.1.113883.6.96\"}],\"text\":\"von Willebrand''s disease\"}   \n2                                  {\"coding\":[{\"code\":\"D68.00\",\"display\":\"von Willebrand disorder <Unspecified von Willebrand''s disease>\",\"system\":\"urn:oid:2.16.840.1.113883.6.90\"},{\"code\":\"128105004\",\"display\":\"von Willebrand disorder (disorder)\",\"system\":\"http://snomed.info/sct\"}],\"text\":\"von Willebrand disorder <Unspecified von Willebrand''s disease>\"}   \n3        {\"coding\":[{\"code\":\"128105004\",\"display\":\"von Willebrand disorder (disorder)\",\"system\":\"http://snomed.info/sct\"},{\"code\":\"286.4\",\"display\":\"von Willebrand disorder\",\"system\":\"http://hl7.org/fhir/sid/icd-9-cm/diagnosis\"},{\"code\":\"D68.0\",\"display\":\"von Willebrand disorder\",\"system\":\"urn:oid:2.16.840.1.113883.6.90\"}],\"text\":\"von Willebrand disorder\"}   \n4                                                                                                                                                                                              {\"coding\":[{\"code\":\"D68.0\",\"system\":\"urn:oid:2.16.840.1.113883.6.90\"},{\"code\":\"128105004\",\"system\":\"urn:oid:2.16.840.1.113883.6.96\"}],\"text\":\"von Willebrand disorder\"}   \n\n                                                                                                                                                                                                                                                                                                                                                        code_string  \\\n0  {\"coding\":[{\"code\":\"286.4\",\"display\":\"von Willebrand's disease\",\"system\":\"http://hl7.org/fhir/sid/icd-9-cm/diagnosis\"},{\"code\":\"128105004\",\"display\":\"von Willebrand disorder (disorder)\",\"system\":\"http://snomed.info/sct\"},{\"code\":\"D68.0\",\"display\":\"von Willebrand's disease\",\"system\":\"urn:oid:2.16.840.1.113883.6.90\"}],\"text\":\"von Willebrand's disease\"}   \n1                                                                                                                                                                                          {\"coding\":[{\"code\":\"D68.0\",\"system\":\"urn:oid:2.16.840.1.113883.6.90\"},{\"code\":\"128105004\",\"system\":\"urn:oid:2.16.840.1.113883.6.96\"}],\"text\":\"von Willebrand's disease\"}   \n2                                 {\"coding\":[{\"code\":\"D68.00\",\"display\":\"von Willebrand disorder <Unspecified von Willebrand's disease>\",\"system\":\"urn:oid:2.16.840.1.113883.6.90\"},{\"code\":\"128105004\",\"display\":\"von Willebrand disorder (disorder)\",\"system\":\"http://snomed.info/sct\"}],\"text\":\"von Willebrand disorder <Unspecified von Willebrand's disease>\"}   \n3     {\"coding\":[{\"code\":\"128105004\",\"display\":\"von Willebrand disorder (disorder)\",\"system\":\"http://snomed.info/sct\"},{\"code\":\"286.4\",\"display\":\"von Willebrand disorder\",\"system\":\"http://hl7.org/fhir/sid/icd-9-cm/diagnosis\"},{\"code\":\"D68.0\",\"display\":\"von Willebrand disorder\",\"system\":\"urn:oid:2.16.840.1.113883.6.90\"}],\"text\":\"von Willebrand disorder\"}   \n4                                                                                                                                                                                           {\"coding\":[{\"code\":\"D68.0\",\"system\":\"urn:oid:2.16.840.1.113883.6.90\"},{\"code\":\"128105004\",\"system\":\"urn:oid:2.16.840.1.113883.6.96\"}],\"text\":\"von Willebrand disorder\"}   \n\n                                                                                                                                                                                                                                                                                                                                                                        normalized_code  \n0  {\"coding\": [{\"code\": \"128105004\", \"display\": \"von Willebrand disorder (disorder)\", \"system\": \"http://snomed.info/sct\"}, {\"code\": \"286.4\", \"display\": \"von Willebrand's disease\", \"system\": \"http://hl7.org/fhir/sid/icd-9-cm/diagnosis\"}, {\"code\": \"D68.0\", \"display\": \"von Willebrand's disease\", \"system\": \"urn:oid:2.16.840.1.113883.6.90\"}], \"text\": \"von Willebrand's disease\"}  \n1                                                                                                                                                                                                    {\"coding\": [{\"code\": \"128105004\", \"system\": \"urn:oid:2.16.840.1.113883.6.96\"}, {\"code\": \"D68.0\", \"system\": \"urn:oid:2.16.840.1.113883.6.90\"}], \"text\": \"von Willebrand's disease\"}  \n2                                       {\"coding\": [{\"code\": \"128105004\", \"display\": \"von Willebrand disorder (disorder)\", \"system\": \"http://snomed.info/sct\"}, {\"code\": \"D68.00\", \"display\": \"von Willebrand disorder <Unspecified von Willebrand's disease>\", \"system\": \"urn:oid:2.16.840.1.113883.6.90\"}], \"text\": \"von Willebrand disorder <Unspecified von Willebrand's disease>\"}  \n3     {\"coding\": [{\"code\": \"128105004\", \"display\": \"von Willebrand disorder (disorder)\", \"system\": \"http://snomed.info/sct\"}, {\"code\": \"286.4\", \"display\": \"von Willebrand disorder\", \"system\": \"http://hl7.org/fhir/sid/icd-9-cm/diagnosis\"}, {\"code\": \"D68.0\", \"display\": \"von Willebrand disorder\", \"system\": \"urn:oid:2.16.840.1.113883.6.90\"}], \"text\": \"von Willebrand disorder\"}  \n4                                                                                                                                                                                                     {\"coding\": [{\"code\": \"128105004\", \"system\": \"urn:oid:2.16.840.1.113883.6.96\"}, {\"code\": \"D68.0\", \"system\": \"urn:oid:2.16.840.1.113883.6.90\"}], \"text\": \"von Willebrand disorder\"}  ",
      "text/html": "<div>\n<style scoped>\n    .dataframe tbody tr th:only-of-type {\n        vertical-align: middle;\n    }\n\n    .dataframe tbody tr th {\n        vertical-align: top;\n    }\n\n    .dataframe thead th {\n        text-align: right;\n    }\n</style>\n<table border=\"1\" class=\"dataframe\">\n  <thead>\n    <tr style=\"text-align: right;\">\n      <th></th>\n      <th>uuid</th>\n      <th>code</th>\n      <th>display</th>\n      <th>terminology_version_uuid</th>\n      <th>additional_data</th>\n      <th>depends_on_property</th>\n      <th>depends_on_system</th>\n      <th>depends_on_value</th>\n      <th>depends_on_display</th>\n      <th>created_date</th>\n      <th>value_schema</th>\n      <th>value_simple</th>\n      <th>value_jsonb</th>\n      <th>value_string</th>\n      <th>is_duplicate</th>\n      <th>code_schema</th>\n      <th>code_simple</th>\n      <th>code_jsonb</th>\n      <th>code_string</th>\n      <th>normalized_code</th>\n    </tr>\n  </thead>\n  <tbody>\n    <tr>\n      <th>0</th>\n      <td>87246277-73e0-4e47-b94c-ccb237780d62</td>\n      <td>{[{128105004, von Willebrand disorder (disorder), http://snomed.info/sct}, {286.4, von Willebrand's disease, http://hl7.org/fhir/sid/icd-9-cm/diagnosis}, {D68.0, von Willebrand's disease, urn:oid:2.16.840.1.113883.6.90}], von Willebrand's disease}</td>\n      <td>von Willebrand's disease</td>\n      <td>54589835-c44a-4392-8bc7-67b396bb7b4a</td>\n      <td>{'automapping_target': '128105004|von Willebrand disorder (disorder)', 'automapping_evidence': 'Condition Code.text matches one or many acceptable synonyms of the concept. Synonyms are: Factor VIII deficiency with vascular defect, vWD - von Willebrand's disease, von Willebrand disease, platelet type, Vascular hemophilia, Pseudohemophilia type B, Angiohemophilia, Constitutional thrombopathy, von Willebrand's disease, von Willebrand disease, von Willebrand-Jurgens disease', 'automapping_relationship': 'Equivalent', 'count_of_resources_affected': '7'}</td>\n      <td></td>\n      <td></td>\n      <td></td>\n      <td></td>\n      <td>2023-03-01 00:00:00+00:00</td>\n      <td>http://projectronin.io/fhir/StructureDefinition/ronin-conceptMapSourceCodeableConcept</td>\n      <td>None</td>\n      <td>{\"coding\":[{\"code\":\"286.4\",\"display\":\"von Willebrand''s disease\",\"system\":\"http://hl7.org/fhir/sid/icd-9-cm/diagnosis\"},{\"code\":\"128105004\",\"display\":\"von Willebrand disorder (disorder)\",\"system\":\"http://snomed.info/sct\"},{\"code\":\"D68.0\",\"display\":\"von Willebrand''s disease\",\"system\":\"urn:oid:2.16.840.1.113883.6.90\"}],\"text\":\"von Willebrand''s disease\"}</td>\n      <td>{\"coding\":[{\"code\":\"286.4\",\"display\":\"von Willebrand's disease\",\"system\":\"http://hl7.org/fhir/sid/icd-9-cm/diagnosis\"},{\"code\":\"128105004\",\"display\":\"von Willebrand disorder (disorder)\",\"system\":\"http://snomed.info/sct\"},{\"code\":\"D68.0\",\"display\":\"von Willebrand's disease\",\"system\":\"urn:oid:2.16.840.1.113883.6.90\"}],\"text\":\"von Willebrand's disease\"}</td>\n      <td>False</td>\n      <td>http://projectronin.io/fhir/StructureDefinition/ronin-conceptMapSourceCodeableConcept</td>\n      <td>None</td>\n      <td>{\"coding\":[{\"code\":\"286.4\",\"display\":\"von Willebrand''s disease\",\"system\":\"http://hl7.org/fhir/sid/icd-9-cm/diagnosis\"},{\"code\":\"128105004\",\"display\":\"von Willebrand disorder (disorder)\",\"system\":\"http://snomed.info/sct\"},{\"code\":\"D68.0\",\"display\":\"von Willebrand''s disease\",\"system\":\"urn:oid:2.16.840.1.113883.6.90\"}],\"text\":\"von Willebrand''s disease\"}</td>\n      <td>{\"coding\":[{\"code\":\"286.4\",\"display\":\"von Willebrand's disease\",\"system\":\"http://hl7.org/fhir/sid/icd-9-cm/diagnosis\"},{\"code\":\"128105004\",\"display\":\"von Willebrand disorder (disorder)\",\"system\":\"http://snomed.info/sct\"},{\"code\":\"D68.0\",\"display\":\"von Willebrand's disease\",\"system\":\"urn:oid:2.16.840.1.113883.6.90\"}],\"text\":\"von Willebrand's disease\"}</td>\n      <td>{\"coding\": [{\"code\": \"128105004\", \"display\": \"von Willebrand disorder (disorder)\", \"system\": \"http://snomed.info/sct\"}, {\"code\": \"286.4\", \"display\": \"von Willebrand's disease\", \"system\": \"http://hl7.org/fhir/sid/icd-9-cm/diagnosis\"}, {\"code\": \"D68.0\", \"display\": \"von Willebrand's disease\", \"system\": \"urn:oid:2.16.840.1.113883.6.90\"}], \"text\": \"von Willebrand's disease\"}</td>\n    </tr>\n    <tr>\n      <th>1</th>\n      <td>022316dd-e134-4938-ab62-fd0915b2b589</td>\n      <td>{[{D68.0, null, urn:oid:2.16.840.1.113883.6.90}, {128105004, null, urn:oid:2.16.840.1.113883.6.96}], von Willebrand's disease}</td>\n      <td>von Willebrand's disease</td>\n      <td>54589835-c44a-4392-8bc7-67b396bb7b4a</td>\n      <td>{'automapping_target': '128105004|von Willebrand disorder (disorder)', 'automapping_evidence': 'Condition Code.text matches one or many acceptable synonyms of the concept. Synonyms are: Factor VIII deficiency with vascular defect, vWD - von Willebrand's disease, von Willebrand disease, platelet type, Vascular hemophilia, Pseudohemophilia type B, Angiohemophilia, Constitutional thrombopathy, von Willebrand's disease, von Willebrand disease, von Willebrand-Jurgens disease', 'automapping_relationship': 'Equivalent', 'count_of_resources_affected': '2'}</td>\n      <td></td>\n      <td></td>\n      <td></td>\n      <td></td>\n      <td>2023-03-01 00:00:00+00:00</td>\n      <td>http://projectronin.io/fhir/StructureDefinition/ronin-conceptMapSourceCodeableConcept</td>\n      <td>None</td>\n      <td>{\"coding\":[{\"code\":\"D68.0\",\"system\":\"urn:oid:2.16.840.1.113883.6.90\"},{\"code\":\"128105004\",\"system\":\"urn:oid:2.16.840.1.113883.6.96\"}],\"text\":\"von Willebrand''s disease\"}</td>\n      <td>{\"coding\":[{\"code\":\"D68.0\",\"system\":\"urn:oid:2.16.840.1.113883.6.90\"},{\"code\":\"128105004\",\"system\":\"urn:oid:2.16.840.1.113883.6.96\"}],\"text\":\"von Willebrand's disease\"}</td>\n      <td>False</td>\n      <td>http://projectronin.io/fhir/StructureDefinition/ronin-conceptMapSourceCodeableConcept</td>\n      <td>None</td>\n      <td>{\"coding\":[{\"code\":\"D68.0\",\"system\":\"urn:oid:2.16.840.1.113883.6.90\"},{\"code\":\"128105004\",\"system\":\"urn:oid:2.16.840.1.113883.6.96\"}],\"text\":\"von Willebrand''s disease\"}</td>\n      <td>{\"coding\":[{\"code\":\"D68.0\",\"system\":\"urn:oid:2.16.840.1.113883.6.90\"},{\"code\":\"128105004\",\"system\":\"urn:oid:2.16.840.1.113883.6.96\"}],\"text\":\"von Willebrand's disease\"}</td>\n      <td>{\"coding\": [{\"code\": \"128105004\", \"system\": \"urn:oid:2.16.840.1.113883.6.96\"}, {\"code\": \"D68.0\", \"system\": \"urn:oid:2.16.840.1.113883.6.90\"}], \"text\": \"von Willebrand's disease\"}</td>\n    </tr>\n    <tr>\n      <th>2</th>\n      <td>d0abd751-08bb-4305-bc9c-24db210c0328</td>\n      <td>{[{128105004, von Willebrand disorder (disorder), http://snomed.info/sct}, {D68.00, von Willebrand disorder &lt;Unspecified von Willebrand's disease&gt;, urn:oid:2.16.840.1.113883.6.90}], von Willebrand disorder &lt;Unspecified von Willebrand's disease&gt;}</td>\n      <td>von Willebrand disorder &lt;Unspecified von Willebrand's disease&gt;</td>\n      <td>54589835-c44a-4392-8bc7-67b396bb7b4a</td>\n      <td>{'automapping_target': None, 'automapping_evidence': None, 'automapping_relationship': None, 'count_of_resources_affected': '1'}</td>\n      <td></td>\n      <td></td>\n      <td></td>\n      <td></td>\n      <td>2023-03-01 00:00:00+00:00</td>\n      <td>http://projectronin.io/fhir/StructureDefinition/ronin-conceptMapSourceCodeableConcept</td>\n      <td>None</td>\n      <td>{\"coding\":[{\"code\":\"D68.00\",\"display\":\"von Willebrand disorder &lt;Unspecified von Willebrand''s disease&gt;\",\"system\":\"urn:oid:2.16.840.1.113883.6.90\"},{\"code\":\"128105004\",\"display\":\"von Willebrand disorder (disorder)\",\"system\":\"http://snomed.info/sct\"}],\"text\":\"von Willebrand disorder &lt;Unspecified von Willebrand''s disease&gt;\"}</td>\n      <td>{\"coding\":[{\"code\":\"D68.00\",\"display\":\"von Willebrand disorder &lt;Unspecified von Willebrand's disease&gt;\",\"system\":\"urn:oid:2.16.840.1.113883.6.90\"},{\"code\":\"128105004\",\"display\":\"von Willebrand disorder (disorder)\",\"system\":\"http://snomed.info/sct\"}],\"text\":\"von Willebrand disorder &lt;Unspecified von Willebrand's disease&gt;\"}</td>\n      <td>False</td>\n      <td>http://projectronin.io/fhir/StructureDefinition/ronin-conceptMapSourceCodeableConcept</td>\n      <td>None</td>\n      <td>{\"coding\":[{\"code\":\"D68.00\",\"display\":\"von Willebrand disorder &lt;Unspecified von Willebrand''s disease&gt;\",\"system\":\"urn:oid:2.16.840.1.113883.6.90\"},{\"code\":\"128105004\",\"display\":\"von Willebrand disorder (disorder)\",\"system\":\"http://snomed.info/sct\"}],\"text\":\"von Willebrand disorder &lt;Unspecified von Willebrand''s disease&gt;\"}</td>\n      <td>{\"coding\":[{\"code\":\"D68.00\",\"display\":\"von Willebrand disorder &lt;Unspecified von Willebrand's disease&gt;\",\"system\":\"urn:oid:2.16.840.1.113883.6.90\"},{\"code\":\"128105004\",\"display\":\"von Willebrand disorder (disorder)\",\"system\":\"http://snomed.info/sct\"}],\"text\":\"von Willebrand disorder &lt;Unspecified von Willebrand's disease&gt;\"}</td>\n      <td>{\"coding\": [{\"code\": \"128105004\", \"display\": \"von Willebrand disorder (disorder)\", \"system\": \"http://snomed.info/sct\"}, {\"code\": \"D68.00\", \"display\": \"von Willebrand disorder &lt;Unspecified von Willebrand's disease&gt;\", \"system\": \"urn:oid:2.16.840.1.113883.6.90\"}], \"text\": \"von Willebrand disorder &lt;Unspecified von Willebrand's disease&gt;\"}</td>\n    </tr>\n    <tr>\n      <th>3</th>\n      <td>125caf5b-ad1a-4b8d-9d60-4b30104560ae</td>\n      <td>{[{128105004, von Willebrand disorder (disorder), http://snomed.info/sct}, {286.4, von Willebrand disorder, http://hl7.org/fhir/sid/icd-9-cm/diagnosis}, {D68.0, von Willebrand disorder, urn:oid:2.16.840.1.113883.6.90}], von Willebrand disorder}</td>\n      <td>von Willebrand disorder</td>\n      <td>54589835-c44a-4392-8bc7-67b396bb7b4a</td>\n      <td>{'automapping_target': '128105004|von Willebrand disorder (disorder)', 'automapping_evidence': 'Condition Code.text is an exact match for SNOMED PT', 'automapping_relationship': 'Equivalent', 'count_of_resources_affected': '58'}</td>\n      <td></td>\n      <td></td>\n      <td></td>\n      <td></td>\n      <td>2023-03-01 00:00:00+00:00</td>\n      <td>http://projectronin.io/fhir/StructureDefinition/ronin-conceptMapSourceCodeableConcept</td>\n      <td>None</td>\n      <td>{\"coding\":[{\"code\":\"128105004\",\"display\":\"von Willebrand disorder (disorder)\",\"system\":\"http://snomed.info/sct\"},{\"code\":\"286.4\",\"display\":\"von Willebrand disorder\",\"system\":\"http://hl7.org/fhir/sid/icd-9-cm/diagnosis\"},{\"code\":\"D68.0\",\"display\":\"von Willebrand disorder\",\"system\":\"urn:oid:2.16.840.1.113883.6.90\"}],\"text\":\"von Willebrand disorder\"}</td>\n      <td>{\"coding\":[{\"code\":\"128105004\",\"display\":\"von Willebrand disorder (disorder)\",\"system\":\"http://snomed.info/sct\"},{\"code\":\"286.4\",\"display\":\"von Willebrand disorder\",\"system\":\"http://hl7.org/fhir/sid/icd-9-cm/diagnosis\"},{\"code\":\"D68.0\",\"display\":\"von Willebrand disorder\",\"system\":\"urn:oid:2.16.840.1.113883.6.90\"}],\"text\":\"von Willebrand disorder\"}</td>\n      <td>False</td>\n      <td>http://projectronin.io/fhir/StructureDefinition/ronin-conceptMapSourceCodeableConcept</td>\n      <td>None</td>\n      <td>{\"coding\":[{\"code\":\"128105004\",\"display\":\"von Willebrand disorder (disorder)\",\"system\":\"http://snomed.info/sct\"},{\"code\":\"286.4\",\"display\":\"von Willebrand disorder\",\"system\":\"http://hl7.org/fhir/sid/icd-9-cm/diagnosis\"},{\"code\":\"D68.0\",\"display\":\"von Willebrand disorder\",\"system\":\"urn:oid:2.16.840.1.113883.6.90\"}],\"text\":\"von Willebrand disorder\"}</td>\n      <td>{\"coding\":[{\"code\":\"128105004\",\"display\":\"von Willebrand disorder (disorder)\",\"system\":\"http://snomed.info/sct\"},{\"code\":\"286.4\",\"display\":\"von Willebrand disorder\",\"system\":\"http://hl7.org/fhir/sid/icd-9-cm/diagnosis\"},{\"code\":\"D68.0\",\"display\":\"von Willebrand disorder\",\"system\":\"urn:oid:2.16.840.1.113883.6.90\"}],\"text\":\"von Willebrand disorder\"}</td>\n      <td>{\"coding\": [{\"code\": \"128105004\", \"display\": \"von Willebrand disorder (disorder)\", \"system\": \"http://snomed.info/sct\"}, {\"code\": \"286.4\", \"display\": \"von Willebrand disorder\", \"system\": \"http://hl7.org/fhir/sid/icd-9-cm/diagnosis\"}, {\"code\": \"D68.0\", \"display\": \"von Willebrand disorder\", \"system\": \"urn:oid:2.16.840.1.113883.6.90\"}], \"text\": \"von Willebrand disorder\"}</td>\n    </tr>\n    <tr>\n      <th>4</th>\n      <td>4cf26e25-c625-4f73-8b26-b92ba42ee74f</td>\n      <td>{[{D68.0, null, urn:oid:2.16.840.1.113883.6.90}, {128105004, null, urn:oid:2.16.840.1.113883.6.96}], von Willebrand disorder}</td>\n      <td>von Willebrand disorder</td>\n      <td>54589835-c44a-4392-8bc7-67b396bb7b4a</td>\n      <td>{'automapping_target': '128105004|von Willebrand disorder (disorder)', 'automapping_evidence': 'Condition Code.text is an exact match for SNOMED PT', 'automapping_relationship': 'Equivalent', 'count_of_resources_affected': '7'}</td>\n      <td></td>\n      <td></td>\n      <td></td>\n      <td></td>\n      <td>2023-03-01 00:00:00+00:00</td>\n      <td>http://projectronin.io/fhir/StructureDefinition/ronin-conceptMapSourceCodeableConcept</td>\n      <td>None</td>\n      <td>{\"coding\":[{\"code\":\"D68.0\",\"system\":\"urn:oid:2.16.840.1.113883.6.90\"},{\"code\":\"128105004\",\"system\":\"urn:oid:2.16.840.1.113883.6.96\"}],\"text\":\"von Willebrand disorder\"}</td>\n      <td>{\"coding\":[{\"code\":\"D68.0\",\"system\":\"urn:oid:2.16.840.1.113883.6.90\"},{\"code\":\"128105004\",\"system\":\"urn:oid:2.16.840.1.113883.6.96\"}],\"text\":\"von Willebrand disorder\"}</td>\n      <td>False</td>\n      <td>http://projectronin.io/fhir/StructureDefinition/ronin-conceptMapSourceCodeableConcept</td>\n      <td>None</td>\n      <td>{\"coding\":[{\"code\":\"D68.0\",\"system\":\"urn:oid:2.16.840.1.113883.6.90\"},{\"code\":\"128105004\",\"system\":\"urn:oid:2.16.840.1.113883.6.96\"}],\"text\":\"von Willebrand disorder\"}</td>\n      <td>{\"coding\":[{\"code\":\"D68.0\",\"system\":\"urn:oid:2.16.840.1.113883.6.90\"},{\"code\":\"128105004\",\"system\":\"urn:oid:2.16.840.1.113883.6.96\"}],\"text\":\"von Willebrand disorder\"}</td>\n      <td>{\"coding\": [{\"code\": \"128105004\", \"system\": \"urn:oid:2.16.840.1.113883.6.96\"}, {\"code\": \"D68.0\", \"system\": \"urn:oid:2.16.840.1.113883.6.90\"}], \"text\": \"von Willebrand disorder\"}</td>\n    </tr>\n  </tbody>\n</table>\n</div>"
     },
     "execution_count": 272,
     "metadata": {},
     "output_type": "execute_result"
    }
   ],
   "source": [
    "df.head()"
   ],
   "metadata": {
    "collapsed": false
   }
  },
  {
   "cell_type": "code",
   "execution_count": 273,
   "outputs": [],
   "source": [
    "# Now, you can identify duplicates based on the 'normalized_code' column\n",
    "df['is_duplicate'] = df.duplicated('normalized_code', keep=False)"
   ],
   "metadata": {
    "collapsed": false
   }
  },
  {
   "cell_type": "code",
   "execution_count": 274,
   "outputs": [
    {
     "data": {
      "text/plain": "               uuid   code  display  terminology_version_uuid  \\\nis_duplicate                                                    \nFalse         65806  65806    65806                     65806   \n\n              additional_data  depends_on_property  depends_on_system  \\\nis_duplicate                                                            \nFalse                   65640                65806              65806   \n\n              depends_on_value  depends_on_display  created_date  \\\nis_duplicate                                                       \nFalse                    65806               65806         65806   \n\n              value_schema  value_simple  value_jsonb  value_string  \\\nis_duplicate                                                          \nFalse                65806             0        65806         65806   \n\n              code_schema  code_simple  code_jsonb  code_string  \\\nis_duplicate                                                      \nFalse               65806            0       65806        65806   \n\n              normalized_code  \nis_duplicate                   \nFalse                   65806  ",
      "text/html": "<div>\n<style scoped>\n    .dataframe tbody tr th:only-of-type {\n        vertical-align: middle;\n    }\n\n    .dataframe tbody tr th {\n        vertical-align: top;\n    }\n\n    .dataframe thead th {\n        text-align: right;\n    }\n</style>\n<table border=\"1\" class=\"dataframe\">\n  <thead>\n    <tr style=\"text-align: right;\">\n      <th></th>\n      <th>uuid</th>\n      <th>code</th>\n      <th>display</th>\n      <th>terminology_version_uuid</th>\n      <th>additional_data</th>\n      <th>depends_on_property</th>\n      <th>depends_on_system</th>\n      <th>depends_on_value</th>\n      <th>depends_on_display</th>\n      <th>created_date</th>\n      <th>value_schema</th>\n      <th>value_simple</th>\n      <th>value_jsonb</th>\n      <th>value_string</th>\n      <th>code_schema</th>\n      <th>code_simple</th>\n      <th>code_jsonb</th>\n      <th>code_string</th>\n      <th>normalized_code</th>\n    </tr>\n    <tr>\n      <th>is_duplicate</th>\n      <th></th>\n      <th></th>\n      <th></th>\n      <th></th>\n      <th></th>\n      <th></th>\n      <th></th>\n      <th></th>\n      <th></th>\n      <th></th>\n      <th></th>\n      <th></th>\n      <th></th>\n      <th></th>\n      <th></th>\n      <th></th>\n      <th></th>\n      <th></th>\n      <th></th>\n    </tr>\n  </thead>\n  <tbody>\n    <tr>\n      <th>False</th>\n      <td>65806</td>\n      <td>65806</td>\n      <td>65806</td>\n      <td>65806</td>\n      <td>65640</td>\n      <td>65806</td>\n      <td>65806</td>\n      <td>65806</td>\n      <td>65806</td>\n      <td>65806</td>\n      <td>65806</td>\n      <td>0</td>\n      <td>65806</td>\n      <td>65806</td>\n      <td>65806</td>\n      <td>0</td>\n      <td>65806</td>\n      <td>65806</td>\n      <td>65806</td>\n    </tr>\n  </tbody>\n</table>\n</div>"
     },
     "execution_count": 274,
     "metadata": {},
     "output_type": "execute_result"
    }
   ],
   "source": [
    "df.groupby(['is_duplicate']).count()"
   ],
   "metadata": {
    "collapsed": false
   }
  },
  {
   "cell_type": "code",
   "execution_count": 344,
   "outputs": [],
   "source": [
    "df.to_csv(\"/Users/jonbarton/Downloads/mda_duplicates_quest.csv\")"
   ],
   "metadata": {
    "collapsed": false
   }
  },
  {
   "cell_type": "code",
   "execution_count": 343,
   "outputs": [],
   "source": [
    "# for index, value in df['normalized_code'].head().items():\n",
    "#     print(f\"Row {index}:\")\n",
    "#     print(value)\n",
    "#     print()"
   ],
   "metadata": {
    "collapsed": false
   }
  },
  {
   "cell_type": "code",
   "execution_count": 275,
   "outputs": [],
   "source": [
    "\n"
   ],
   "metadata": {
    "collapsed": false
   }
  },
  {
   "cell_type": "code",
   "execution_count": 339,
   "outputs": [
    {
     "data": {
      "text/plain": "<bound method NDFrame.head of 0      cf14efe91182b3558c3a04b6dbaefeb1\n1      31ed9f71122023f6bfc2a89f3be1460a\n2      5a53d2fbd509ffb4d42eb9c4a60b52e1\n3      8b79bb76de020f2ef6d39ae5d633a0ab\n4      490174c760743208993283088fc800a7\n                     ...               \n420    7d7989c6504b195f9ca1b038fc418144\n421    d7092e3c08bf424929d9ef2837054b42\n422    e93f59cf3ddd94d020f1d34ad4f76719\n423    54c4e28a77e2a32f7c3105529f20e8f9\n424    8e870a8d027af6786736c757b1bb7b02\nName: hash_id, Length: 425, dtype: object>"
     },
     "execution_count": 339,
     "metadata": {},
     "output_type": "execute_result"
    }
   ],
   "source": [
    "df['hash_id'].head"
   ],
   "metadata": {
    "collapsed": false
   }
  },
  {
   "cell_type": "code",
   "execution_count": 229,
   "outputs": [],
   "source": [
    "df['duplicates'] = df.duplicated('hash_id', keep=False)\n"
   ],
   "metadata": {
    "collapsed": false
   }
  },
  {
   "cell_type": "code",
   "execution_count": 230,
   "outputs": [
    {
     "data": {
      "text/plain": "             uuid   code  display  terminology_version_uuid  additional_data  \\\nduplicates                                                                     \nFalse       65805  65805    65805                     65805            65639   \nTrue            4      4        4                         4                4   \n\n            depends_on_property  depends_on_system  depends_on_value  \\\nduplicates                                                             \nFalse                     65805              65805             65805   \nTrue                          4                  4                 4   \n\n            depends_on_display  created_date  ...  value_jsonb  value_string  \\\nduplicates                                    ...                              \nFalse                    65805         65805  ...        65805         65805   \nTrue                         4             4  ...            4             4   \n\n            is_duplicate  code_schema  code_simple  code_jsonb  code_string  \\\nduplicates                                                                    \nFalse              65805        65805            0       65805        65805   \nTrue                   4            4            0           4            4   \n\n            normalized_code  duplicated  hash_id  \nduplicates                                        \nFalse                 65805       65805    65805  \nTrue                      4           4        4  \n\n[2 rows x 22 columns]",
      "text/html": "<div>\n<style scoped>\n    .dataframe tbody tr th:only-of-type {\n        vertical-align: middle;\n    }\n\n    .dataframe tbody tr th {\n        vertical-align: top;\n    }\n\n    .dataframe thead th {\n        text-align: right;\n    }\n</style>\n<table border=\"1\" class=\"dataframe\">\n  <thead>\n    <tr style=\"text-align: right;\">\n      <th></th>\n      <th>uuid</th>\n      <th>code</th>\n      <th>display</th>\n      <th>terminology_version_uuid</th>\n      <th>additional_data</th>\n      <th>depends_on_property</th>\n      <th>depends_on_system</th>\n      <th>depends_on_value</th>\n      <th>depends_on_display</th>\n      <th>created_date</th>\n      <th>...</th>\n      <th>value_jsonb</th>\n      <th>value_string</th>\n      <th>is_duplicate</th>\n      <th>code_schema</th>\n      <th>code_simple</th>\n      <th>code_jsonb</th>\n      <th>code_string</th>\n      <th>normalized_code</th>\n      <th>duplicated</th>\n      <th>hash_id</th>\n    </tr>\n    <tr>\n      <th>duplicates</th>\n      <th></th>\n      <th></th>\n      <th></th>\n      <th></th>\n      <th></th>\n      <th></th>\n      <th></th>\n      <th></th>\n      <th></th>\n      <th></th>\n      <th></th>\n      <th></th>\n      <th></th>\n      <th></th>\n      <th></th>\n      <th></th>\n      <th></th>\n      <th></th>\n      <th></th>\n      <th></th>\n      <th></th>\n    </tr>\n  </thead>\n  <tbody>\n    <tr>\n      <th>False</th>\n      <td>65805</td>\n      <td>65805</td>\n      <td>65805</td>\n      <td>65805</td>\n      <td>65639</td>\n      <td>65805</td>\n      <td>65805</td>\n      <td>65805</td>\n      <td>65805</td>\n      <td>65805</td>\n      <td>...</td>\n      <td>65805</td>\n      <td>65805</td>\n      <td>65805</td>\n      <td>65805</td>\n      <td>0</td>\n      <td>65805</td>\n      <td>65805</td>\n      <td>65805</td>\n      <td>65805</td>\n      <td>65805</td>\n    </tr>\n    <tr>\n      <th>True</th>\n      <td>4</td>\n      <td>4</td>\n      <td>4</td>\n      <td>4</td>\n      <td>4</td>\n      <td>4</td>\n      <td>4</td>\n      <td>4</td>\n      <td>4</td>\n      <td>4</td>\n      <td>...</td>\n      <td>4</td>\n      <td>4</td>\n      <td>4</td>\n      <td>4</td>\n      <td>0</td>\n      <td>4</td>\n      <td>4</td>\n      <td>4</td>\n      <td>4</td>\n      <td>4</td>\n    </tr>\n  </tbody>\n</table>\n<p>2 rows × 22 columns</p>\n</div>"
     },
     "execution_count": 230,
     "metadata": {},
     "output_type": "execute_result"
    }
   ],
   "source": [
    "df.groupby(['duplicates']).count()\n"
   ],
   "metadata": {
    "collapsed": false
   }
  },
  {
   "cell_type": "code",
   "execution_count": 340,
   "outputs": [],
   "source": [
    "# Group by the hash and count the occurrences\n",
    "hash_groups = df.groupby('hash_id').size()\n",
    "\n",
    "# Filter groups with more than one occurrence to find duplicates\n",
    "duplicate_hashes = hash_groups[hash_groups > 1].index\n",
    "\n",
    "# Now, select rows where the hash is in the list of duplicates\n",
    "df_duplicates = df[df['hash_id'].isin(duplicate_hashes)]"
   ],
   "metadata": {
    "collapsed": false
   }
  },
  {
   "cell_type": "code",
   "execution_count": 341,
   "outputs": [
    {
     "data": {
      "text/plain": "Empty DataFrame\nColumns: [uuid, code, display, terminology_version_uuid, additional_data, depends_on_property, depends_on_system, depends_on_value, depends_on_display, created_date, value_schema, value_simple, value_jsonb, value_string, code_schema, code_simple, code_jsonb, code_string, normalized_code, hash_id]\nIndex: []",
      "text/html": "<div>\n<style scoped>\n    .dataframe tbody tr th:only-of-type {\n        vertical-align: middle;\n    }\n\n    .dataframe tbody tr th {\n        vertical-align: top;\n    }\n\n    .dataframe thead th {\n        text-align: right;\n    }\n</style>\n<table border=\"1\" class=\"dataframe\">\n  <thead>\n    <tr style=\"text-align: right;\">\n      <th></th>\n      <th>uuid</th>\n      <th>code</th>\n      <th>display</th>\n      <th>terminology_version_uuid</th>\n      <th>additional_data</th>\n      <th>depends_on_property</th>\n      <th>depends_on_system</th>\n      <th>depends_on_value</th>\n      <th>depends_on_display</th>\n      <th>created_date</th>\n      <th>value_schema</th>\n      <th>value_simple</th>\n      <th>value_jsonb</th>\n      <th>value_string</th>\n      <th>code_schema</th>\n      <th>code_simple</th>\n      <th>code_jsonb</th>\n      <th>code_string</th>\n      <th>normalized_code</th>\n      <th>hash_id</th>\n    </tr>\n  </thead>\n  <tbody>\n  </tbody>\n</table>\n</div>"
     },
     "execution_count": 341,
     "metadata": {},
     "output_type": "execute_result"
    }
   ],
   "source": [
    "df_duplicates.head()"
   ],
   "metadata": {
    "collapsed": false
   }
  },
  {
   "cell_type": "code",
   "execution_count": 279,
   "outputs": [],
   "source": [
    "df['null_removed_hash_id'] = df['normalized_code'].apply(hash_string)\n"
   ],
   "metadata": {
    "collapsed": false
   }
  },
  {
   "cell_type": "code",
   "execution_count": 280,
   "outputs": [],
   "source": [
    "# Group by the hash and count the occurrences\n",
    "hash_groups = df.groupby('null_removed_hash_id').size()\n",
    "\n",
    "# Filter groups with more than one occurrence to find duplicates\n",
    "duplicate_hashes = hash_groups[hash_groups > 1].index\n",
    "\n",
    "# Now, select rows where the hash is in the list of duplicates\n",
    "new_df_duplicates = df[df['null_removed_hash_id'].isin(duplicate_hashes)]"
   ],
   "metadata": {
    "collapsed": false
   }
  },
  {
   "cell_type": "code",
   "execution_count": 281,
   "outputs": [],
   "source": [
    "df['is_duplicate'] = df.duplicated('normalized_code', keep=False)\n",
    "df_duplicates = df[df['is_duplicate']]"
   ],
   "metadata": {
    "collapsed": false
   }
  },
  {
   "cell_type": "code",
   "execution_count": 282,
   "outputs": [
    {
     "data": {
      "text/plain": "Empty DataFrame\nColumns: [uuid, code, display, terminology_version_uuid, additional_data, depends_on_property, depends_on_system, depends_on_value, depends_on_display, created_date, value_schema, value_simple, value_jsonb, value_string, is_duplicate, code_schema, code_simple, code_jsonb, code_string, normalized_code, hash_id, null_removed_hash_id]\nIndex: []\n\n[0 rows x 22 columns]",
      "text/html": "<div>\n<style scoped>\n    .dataframe tbody tr th:only-of-type {\n        vertical-align: middle;\n    }\n\n    .dataframe tbody tr th {\n        vertical-align: top;\n    }\n\n    .dataframe thead th {\n        text-align: right;\n    }\n</style>\n<table border=\"1\" class=\"dataframe\">\n  <thead>\n    <tr style=\"text-align: right;\">\n      <th></th>\n      <th>uuid</th>\n      <th>code</th>\n      <th>display</th>\n      <th>terminology_version_uuid</th>\n      <th>additional_data</th>\n      <th>depends_on_property</th>\n      <th>depends_on_system</th>\n      <th>depends_on_value</th>\n      <th>depends_on_display</th>\n      <th>created_date</th>\n      <th>...</th>\n      <th>value_jsonb</th>\n      <th>value_string</th>\n      <th>is_duplicate</th>\n      <th>code_schema</th>\n      <th>code_simple</th>\n      <th>code_jsonb</th>\n      <th>code_string</th>\n      <th>normalized_code</th>\n      <th>hash_id</th>\n      <th>null_removed_hash_id</th>\n    </tr>\n  </thead>\n  <tbody>\n  </tbody>\n</table>\n<p>0 rows × 22 columns</p>\n</div>"
     },
     "execution_count": 282,
     "metadata": {},
     "output_type": "execute_result"
    }
   ],
   "source": [
    "df_duplicates.head()"
   ],
   "metadata": {
    "collapsed": false
   }
  },
  {
   "cell_type": "code",
   "execution_count": null,
   "outputs": [],
   "source": [],
   "metadata": {
    "collapsed": false
   }
  }
 ],
 "metadata": {
  "kernelspec": {
   "display_name": "Python 3",
   "language": "python",
   "name": "python3"
  },
  "language_info": {
   "codemirror_mode": {
    "name": "ipython",
    "version": 2
   },
   "file_extension": ".py",
   "mimetype": "text/x-python",
   "name": "python",
   "nbconvert_exporter": "python",
   "pygments_lexer": "ipython2",
   "version": "2.7.6"
  }
 },
 "nbformat": 4,
 "nbformat_minor": 0
}
